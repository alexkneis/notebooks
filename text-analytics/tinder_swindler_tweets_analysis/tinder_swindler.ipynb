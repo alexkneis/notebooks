{
 "cells": [
  {
   "cell_type": "code",
   "execution_count": 7,
   "metadata": {},
   "outputs": [],
   "source": [
    "import pandas as pd\n",
    "import matplotlib.pyplot as plt\n",
    "import seaborn as sns\n",
    "from collections import Counter\n",
    "from pprint import pprint\n",
    "import spacy\n",
    "from spacy.tokenizer import _get_regex_pattern\n",
    "import nltk\n",
    "from nltk.corpus import stopwords\n",
    "import re\n",
    "from spacy.matcher import Matcher\n",
    "import spacy\n",
    "from spacymoji import Emoji\n",
    "from pprint import pprint\n",
    "from sklearn.metrics.pairwise import cosine_similarity\n",
    "import string\n",
    "from sklearn.feature_extraction.text import CountVectorizer\n",
    "import pyLDAvis.gensim_models as gensimvis"
   ]
  },
  {
   "cell_type": "markdown",
   "metadata": {},
   "source": [
    "## Tinder Swindler 100k Tweets"
   ]
  },
  {
   "cell_type": "code",
   "execution_count": 8,
   "metadata": {},
   "outputs": [],
   "source": [
    "# load the dataset\n",
    "file = './TinderSwindlerVersion2.csv'\n",
    "df = pd.read_csv(file)"
   ]
  },
  {
   "cell_type": "code",
   "execution_count": 9,
   "metadata": {},
   "outputs": [
    {
     "data": {
      "text/html": [
       "<div>\n",
       "<style scoped>\n",
       "    .dataframe tbody tr th:only-of-type {\n",
       "        vertical-align: middle;\n",
       "    }\n",
       "\n",
       "    .dataframe tbody tr th {\n",
       "        vertical-align: top;\n",
       "    }\n",
       "\n",
       "    .dataframe thead th {\n",
       "        text-align: right;\n",
       "    }\n",
       "</style>\n",
       "<table border=\"1\" class=\"dataframe\">\n",
       "  <thead>\n",
       "    <tr style=\"text-align: right;\">\n",
       "      <th></th>\n",
       "      <th>user_name</th>\n",
       "      <th>user_location</th>\n",
       "      <th>user_created</th>\n",
       "      <th>user_followers</th>\n",
       "      <th>user_verified</th>\n",
       "      <th>date</th>\n",
       "      <th>text</th>\n",
       "      <th>source</th>\n",
       "      <th>is_retweet</th>\n",
       "    </tr>\n",
       "  </thead>\n",
       "  <tbody>\n",
       "    <tr>\n",
       "      <th>0</th>\n",
       "      <td>globalnode.saito 🟥🐳🐈‍⬛</td>\n",
       "      <td>Travelling the World on Web3</td>\n",
       "      <td>2009-06-03 20:18:22+00:00</td>\n",
       "      <td>768</td>\n",
       "      <td>False</td>\n",
       "      <td>2022-02-09 17:09:22+00:00</td>\n",
       "      <td>@T1gmee Tinder Swindler, off Netflix</td>\n",
       "      <td>Twitter for iPhone</td>\n",
       "      <td>False</td>\n",
       "    </tr>\n",
       "    <tr>\n",
       "      <th>1</th>\n",
       "      <td>Ungovernable 🇧🇮</td>\n",
       "      <td>NaN</td>\n",
       "      <td>2011-09-04 22:46:26+00:00</td>\n",
       "      <td>385</td>\n",
       "      <td>False</td>\n",
       "      <td>2022-02-09 17:09:18+00:00</td>\n",
       "      <td>#tinderswindler , basically homeboy got away w...</td>\n",
       "      <td>Twitter for iPhone</td>\n",
       "      <td>False</td>\n",
       "    </tr>\n",
       "    <tr>\n",
       "      <th>2</th>\n",
       "      <td>Adefolake</td>\n",
       "      <td>NaN</td>\n",
       "      <td>2009-06-02 14:18:44+00:00</td>\n",
       "      <td>1994</td>\n",
       "      <td>False</td>\n",
       "      <td>2022-02-09 17:09:17+00:00</td>\n",
       "      <td>Not the tinder swindler becoming a TIk Tok sta...</td>\n",
       "      <td>Twitter for iPhone</td>\n",
       "      <td>False</td>\n",
       "    </tr>\n",
       "    <tr>\n",
       "      <th>3</th>\n",
       "      <td>✧ ☽</td>\n",
       "      <td>Noord-Brabant</td>\n",
       "      <td>2012-02-12 07:35:26+00:00</td>\n",
       "      <td>336</td>\n",
       "      <td>False</td>\n",
       "      <td>2022-02-09 17:09:07+00:00</td>\n",
       "      <td>Why isn’t Shimon Hayut in jail ????? #thetinde...</td>\n",
       "      <td>Twitter for iPhone</td>\n",
       "      <td>False</td>\n",
       "    </tr>\n",
       "    <tr>\n",
       "      <th>4</th>\n",
       "      <td>chivo. 🥶</td>\n",
       "      <td>PG/MD</td>\n",
       "      <td>2010-03-22 21:23:17+00:00</td>\n",
       "      <td>1046</td>\n",
       "      <td>False</td>\n",
       "      <td>2022-02-09 17:09:06+00:00</td>\n",
       "      <td>the tinder swindler a sick nigga 😂😂</td>\n",
       "      <td>Twitter Web App</td>\n",
       "      <td>False</td>\n",
       "    </tr>\n",
       "    <tr>\n",
       "      <th>5</th>\n",
       "      <td>kira</td>\n",
       "      <td>Toronto, Ontario</td>\n",
       "      <td>2010-07-02 12:50:53+00:00</td>\n",
       "      <td>362</td>\n",
       "      <td>False</td>\n",
       "      <td>2022-02-09 17:09:03+00:00</td>\n",
       "      <td>No those women on the Tinder swindler pissed m...</td>\n",
       "      <td>Twitter for iPhone</td>\n",
       "      <td>False</td>\n",
       "    </tr>\n",
       "    <tr>\n",
       "      <th>6</th>\n",
       "      <td>fogmistress698</td>\n",
       "      <td>NaN</td>\n",
       "      <td>2020-05-05 08:47:57+00:00</td>\n",
       "      <td>210</td>\n",
       "      <td>False</td>\n",
       "      <td>2022-02-09 17:08:55+00:00</td>\n",
       "      <td>This manipulation is how scammers pull you in ...</td>\n",
       "      <td>Twitter Web App</td>\n",
       "      <td>False</td>\n",
       "    </tr>\n",
       "    <tr>\n",
       "      <th>7</th>\n",
       "      <td>melraunch</td>\n",
       "      <td>East, England</td>\n",
       "      <td>2019-05-24 23:18:01+00:00</td>\n",
       "      <td>3268</td>\n",
       "      <td>False</td>\n",
       "      <td>2022-02-09 17:08:45+00:00</td>\n",
       "      <td>@robertstweets1 @DistantFixed I waited for him...</td>\n",
       "      <td>Twitter for iPhone</td>\n",
       "      <td>False</td>\n",
       "    </tr>\n",
       "    <tr>\n",
       "      <th>8</th>\n",
       "      <td>Pamela Power</td>\n",
       "      <td>Johannesburg, South Africa</td>\n",
       "      <td>2009-07-10 12:51:24+00:00</td>\n",
       "      <td>6306</td>\n",
       "      <td>False</td>\n",
       "      <td>2022-02-09 17:08:41+00:00</td>\n",
       "      <td>Hmmm...he's like the #tinderswindler https://t...</td>\n",
       "      <td>Twitter for Android</td>\n",
       "      <td>False</td>\n",
       "    </tr>\n",
       "    <tr>\n",
       "      <th>9</th>\n",
       "      <td>CaliMcCormac</td>\n",
       "      <td>NaN</td>\n",
       "      <td>2022-02-09 16:48:06+00:00</td>\n",
       "      <td>0</td>\n",
       "      <td>False</td>\n",
       "      <td>2022-02-09 17:08:40+00:00</td>\n",
       "      <td>Wow just watching the Twitter Swindler and it ...</td>\n",
       "      <td>Twitter for iPhone</td>\n",
       "      <td>False</td>\n",
       "    </tr>\n",
       "  </tbody>\n",
       "</table>\n",
       "</div>"
      ],
      "text/plain": [
       "                user_name                 user_location  \\\n",
       "0  globalnode.saito 🟥🐳🐈‍⬛  Travelling the World on Web3   \n",
       "1         Ungovernable 🇧🇮                           NaN   \n",
       "2               Adefolake                           NaN   \n",
       "3                     ✧ ☽                 Noord-Brabant   \n",
       "4                chivo. 🥶                         PG/MD   \n",
       "5                    kira              Toronto, Ontario   \n",
       "6          fogmistress698                           NaN   \n",
       "7               melraunch                 East, England   \n",
       "8            Pamela Power    Johannesburg, South Africa   \n",
       "9            CaliMcCormac                           NaN   \n",
       "\n",
       "                user_created  user_followers  user_verified  \\\n",
       "0  2009-06-03 20:18:22+00:00             768          False   \n",
       "1  2011-09-04 22:46:26+00:00             385          False   \n",
       "2  2009-06-02 14:18:44+00:00            1994          False   \n",
       "3  2012-02-12 07:35:26+00:00             336          False   \n",
       "4  2010-03-22 21:23:17+00:00            1046          False   \n",
       "5  2010-07-02 12:50:53+00:00             362          False   \n",
       "6  2020-05-05 08:47:57+00:00             210          False   \n",
       "7  2019-05-24 23:18:01+00:00            3268          False   \n",
       "8  2009-07-10 12:51:24+00:00            6306          False   \n",
       "9  2022-02-09 16:48:06+00:00               0          False   \n",
       "\n",
       "                        date  \\\n",
       "0  2022-02-09 17:09:22+00:00   \n",
       "1  2022-02-09 17:09:18+00:00   \n",
       "2  2022-02-09 17:09:17+00:00   \n",
       "3  2022-02-09 17:09:07+00:00   \n",
       "4  2022-02-09 17:09:06+00:00   \n",
       "5  2022-02-09 17:09:03+00:00   \n",
       "6  2022-02-09 17:08:55+00:00   \n",
       "7  2022-02-09 17:08:45+00:00   \n",
       "8  2022-02-09 17:08:41+00:00   \n",
       "9  2022-02-09 17:08:40+00:00   \n",
       "\n",
       "                                                text               source  \\\n",
       "0               @T1gmee Tinder Swindler, off Netflix   Twitter for iPhone   \n",
       "1  #tinderswindler , basically homeboy got away w...   Twitter for iPhone   \n",
       "2  Not the tinder swindler becoming a TIk Tok sta...   Twitter for iPhone   \n",
       "3  Why isn’t Shimon Hayut in jail ????? #thetinde...   Twitter for iPhone   \n",
       "4                the tinder swindler a sick nigga 😂😂      Twitter Web App   \n",
       "5  No those women on the Tinder swindler pissed m...   Twitter for iPhone   \n",
       "6  This manipulation is how scammers pull you in ...      Twitter Web App   \n",
       "7  @robertstweets1 @DistantFixed I waited for him...   Twitter for iPhone   \n",
       "8  Hmmm...he's like the #tinderswindler https://t...  Twitter for Android   \n",
       "9  Wow just watching the Twitter Swindler and it ...   Twitter for iPhone   \n",
       "\n",
       "   is_retweet  \n",
       "0       False  \n",
       "1       False  \n",
       "2       False  \n",
       "3       False  \n",
       "4       False  \n",
       "5       False  \n",
       "6       False  \n",
       "7       False  \n",
       "8       False  \n",
       "9       False  "
      ]
     },
     "execution_count": 9,
     "metadata": {},
     "output_type": "execute_result"
    }
   ],
   "source": [
    "df.head(10)"
   ]
  },
  {
   "cell_type": "markdown",
   "metadata": {},
   "source": [
    "### Data Cleansing"
   ]
  },
  {
   "cell_type": "code",
   "execution_count": 10,
   "metadata": {},
   "outputs": [
    {
     "data": {
      "text/plain": [
       "user_name             5\n",
       "user_location     18481\n",
       "user_created          0\n",
       "user_followers        0\n",
       "user_verified         0\n",
       "date                  0\n",
       "text                  0\n",
       "source                0\n",
       "is_retweet            0\n",
       "dtype: int64"
      ]
     },
     "execution_count": 10,
     "metadata": {},
     "output_type": "execute_result"
    }
   ],
   "source": [
    "df.isna().sum()"
   ]
  },
  {
   "cell_type": "code",
   "execution_count": 11,
   "metadata": {},
   "outputs": [],
   "source": [
    "df[\"user_name\"].fillna('unknown', inplace=True)\n",
    "df[\"user_location\"].fillna('unknown', inplace=True)"
   ]
  },
  {
   "cell_type": "code",
   "execution_count": 12,
   "metadata": {},
   "outputs": [],
   "source": [
    "# Remove urls from tweets\n",
    "df.text = df.text.apply(lambda text: re.sub(r'http\\S+|http', '', text))"
   ]
  },
  {
   "cell_type": "code",
   "execution_count": 13,
   "metadata": {},
   "outputs": [],
   "source": [
    "df = df[df.is_retweet != True]"
   ]
  },
  {
   "cell_type": "code",
   "execution_count": 14,
   "metadata": {},
   "outputs": [
    {
     "data": {
      "text/html": [
       "<div>\n",
       "<style scoped>\n",
       "    .dataframe tbody tr th:only-of-type {\n",
       "        vertical-align: middle;\n",
       "    }\n",
       "\n",
       "    .dataframe tbody tr th {\n",
       "        vertical-align: top;\n",
       "    }\n",
       "\n",
       "    .dataframe thead th {\n",
       "        text-align: right;\n",
       "    }\n",
       "</style>\n",
       "<table border=\"1\" class=\"dataframe\">\n",
       "  <thead>\n",
       "    <tr style=\"text-align: right;\">\n",
       "      <th></th>\n",
       "      <th>count</th>\n",
       "      <th>unique</th>\n",
       "      <th>top</th>\n",
       "      <th>freq</th>\n",
       "    </tr>\n",
       "  </thead>\n",
       "  <tbody>\n",
       "    <tr>\n",
       "      <th>user_name</th>\n",
       "      <td>76213</td>\n",
       "      <td>49767</td>\n",
       "      <td>.</td>\n",
       "      <td>196</td>\n",
       "    </tr>\n",
       "    <tr>\n",
       "      <th>user_location</th>\n",
       "      <td>76213</td>\n",
       "      <td>17911</td>\n",
       "      <td>unknown</td>\n",
       "      <td>18485</td>\n",
       "    </tr>\n",
       "    <tr>\n",
       "      <th>user_created</th>\n",
       "      <td>76213</td>\n",
       "      <td>54501</td>\n",
       "      <td>2020-10-06 00:15:38+00:00</td>\n",
       "      <td>160</td>\n",
       "    </tr>\n",
       "    <tr>\n",
       "      <th>date</th>\n",
       "      <td>76213</td>\n",
       "      <td>70999</td>\n",
       "      <td>2022-02-07 21:13:06+00:00</td>\n",
       "      <td>5</td>\n",
       "    </tr>\n",
       "    <tr>\n",
       "      <th>text</th>\n",
       "      <td>76213</td>\n",
       "      <td>73948</td>\n",
       "      <td>The Tinder Swindler</td>\n",
       "      <td>69</td>\n",
       "    </tr>\n",
       "    <tr>\n",
       "      <th>source</th>\n",
       "      <td>76213</td>\n",
       "      <td>210</td>\n",
       "      <td>Twitter for iPhone</td>\n",
       "      <td>47828</td>\n",
       "    </tr>\n",
       "  </tbody>\n",
       "</table>\n",
       "</div>"
      ],
      "text/plain": [
       "               count unique                        top   freq\n",
       "user_name      76213  49767                          .    196\n",
       "user_location  76213  17911                    unknown  18485\n",
       "user_created   76213  54501  2020-10-06 00:15:38+00:00    160\n",
       "date           76213  70999  2022-02-07 21:13:06+00:00      5\n",
       "text           76213  73948        The Tinder Swindler     69\n",
       "source         76213    210         Twitter for iPhone  47828"
      ]
     },
     "execution_count": 14,
     "metadata": {},
     "output_type": "execute_result"
    }
   ],
   "source": [
    "df.describe(include= \"O\").T"
   ]
  },
  {
   "cell_type": "code",
   "execution_count": 15,
   "metadata": {},
   "outputs": [],
   "source": [
    "# df_sample = df.sample(10000)\n",
    "df_sample = df"
   ]
  },
  {
   "cell_type": "markdown",
   "metadata": {},
   "source": [
    "### Load Spacy and init stop words"
   ]
  },
  {
   "cell_type": "code",
   "execution_count": 16,
   "metadata": {},
   "outputs": [
    {
     "name": "stderr",
     "output_type": "stream",
     "text": [
      "<>:9: DeprecationWarning: invalid escape sequence \\w\n",
      "<>:9: DeprecationWarning: invalid escape sequence \\w\n",
      "/var/folders/vv/xxr9dlwd5lx3_s4nm4vw3nj5ggqq15/T/ipykernel_59409/238681695.py:9: DeprecationWarning: invalid escape sequence \\w\n",
      "  re_token_match = f\"({re_token_match}|#\\w+|\\w+-\\w+)\"\n",
      "[nltk_data] Error loading stopwords: <urlopen error [SSL:\n",
      "[nltk_data]     CERTIFICATE_VERIFY_FAILED] certificate verify failed:\n",
      "[nltk_data]     unable to get local issuer certificate (_ssl.c:1108)>\n"
     ]
    }
   ],
   "source": [
    "nltk.download('stopwords')\n",
    "\n",
    "nlp = spacy.load('en_core_web_lg')\n",
    "nlp.add_pipe(\"emoji\", first=True)\n",
    "\n",
    "# get default pattern for tokens that don't get split\n",
    "re_token_match = _get_regex_pattern(nlp.Defaults.token_match)\n",
    "# add patterns for hashtags and in-word hyphens\n",
    "re_token_match = f\"({re_token_match}|#\\w+|\\w+-\\w+)\"\n",
    "\n",
    "# overwrite token_match function of the tokenizer\n",
    "nlp.tokenizer.token_match = re.compile(re_token_match).match\n",
    "\n",
    "stop_words = stopwords.words('english')\n"
   ]
  },
  {
   "cell_type": "code",
   "execution_count": 17,
   "metadata": {},
   "outputs": [],
   "source": [
    "# extend stop words if needed\n",
    "stop_words.extend(['\\n', \"\\n\\n\",'hi','\\n','\\n\\n', '&amp;', ' ', '.','…','…', '-', 'got', \"it's\", 'it’s', \"i'm\", 'i’m', 'im', 'want', 'like', '$', '@'])"
   ]
  },
  {
   "cell_type": "code",
   "execution_count": 18,
   "metadata": {},
   "outputs": [],
   "source": [
    "no_stop_words = [\n",
    "    'not'\n",
    "]\n",
    "\n",
    "for w in no_stop_words:\n",
    "    nlp.vocab[w].is_stop = False"
   ]
  },
  {
   "cell_type": "markdown",
   "metadata": {},
   "source": [
    "#### Create docs via spacy\n",
    "Follow along [this](https://towardsdatascience.com/text-preprocessing-steps-and-universal-pipeline-94233cb6725a) guide for more details about each single step"
   ]
  },
  {
   "cell_type": "code",
   "execution_count": 19,
   "metadata": {},
   "outputs": [],
   "source": [
    "# custom extended abbreviations\n",
    "custom_abbreviations = {\"bdrm\": \"bedroom\"}\n",
    "\n",
    "def normalize(text):\n",
    "    # choosing BrE variety here since majority of posts are from the UK\n",
    "        try:\n",
    "            return ' '.join(normalise(text, variety=\"BrE\", user_abbrevs=custom_abbreviations, verbose=False))\n",
    "        except:\n",
    "            return text"
   ]
  },
  {
   "cell_type": "code",
   "execution_count": 20,
   "metadata": {},
   "outputs": [
    {
     "data": {
      "text/plain": [
       "0                     @T1gmee Tinder Swindler, off Netflix\n",
       "1        #tinderswindler , basically homeboy got away w...\n",
       "2        Not the tinder swindler becoming a TIk Tok sta...\n",
       "3        Why isn’t Shimon Hayut in jail ????? #thetinde...\n",
       "4                      the tinder swindler a sick nigga 😂😂\n",
       "                               ...                        \n",
       "76208    Woman conned of over £200,000 by ‘Tinder swind...\n",
       "76209    On the afternoon show @BBCRadioLondon till 6pm...\n",
       "76210    group chat killing me today bc I point out a k...\n",
       "76211    important releases this month. \\n\\n- Loop Lape...\n",
       "76212    Woman conned of over £200,000 by ‘Tinder swind...\n",
       "Name: text, Length: 76213, dtype: object"
      ]
     },
     "execution_count": 20,
     "metadata": {},
     "output_type": "execute_result"
    }
   ],
   "source": [
    "df_sample.text.apply(normalize)"
   ]
  },
  {
   "cell_type": "code",
   "execution_count": 21,
   "metadata": {},
   "outputs": [],
   "source": [
    "# create docs list with nlp\n",
    "docs = [d for d in nlp.pipe(df_sample.text, n_process=6)]"
   ]
  },
  {
   "cell_type": "code",
   "execution_count": 22,
   "metadata": {},
   "outputs": [],
   "source": [
    "def remove_stop_words(doc):\n",
    "    return [t for t in doc if not t.is_stop]"
   ]
  },
  {
   "cell_type": "code",
   "execution_count": 23,
   "metadata": {},
   "outputs": [],
   "source": [
    "# python based removal\n",
    "def remove_punct(doc):\n",
    "    return [t for t in doc if t.text not in string.punctuation]"
   ]
  },
  {
   "cell_type": "code",
   "execution_count": 24,
   "metadata": {},
   "outputs": [],
   "source": [
    "def remove_hashtag(doc):\n",
    "    return [t for t in doc if not t.text.startswith('#')]"
   ]
  },
  {
   "cell_type": "code",
   "execution_count": 25,
   "metadata": {},
   "outputs": [],
   "source": [
    "def remove_annotations(doc):\n",
    "    return [t for t in doc if not t.text.startswith('@')]"
   ]
  },
  {
   "cell_type": "code",
   "execution_count": 26,
   "metadata": {},
   "outputs": [],
   "source": [
    "def remove_linebreaks(doc):\n",
    "    return [t for t in doc if not \"\\n\" in t.text]"
   ]
  },
  {
   "cell_type": "code",
   "execution_count": 27,
   "metadata": {},
   "outputs": [],
   "source": [
    "def lemmatize(doc):\n",
    "    return ' '.join([t.lemma_ for t in doc])"
   ]
  },
  {
   "cell_type": "code",
   "execution_count": 28,
   "metadata": {},
   "outputs": [],
   "source": [
    "def lemmatize_token(doc):\n",
    "    return [t.lemma_ for t in doc]"
   ]
  },
  {
   "cell_type": "code",
   "execution_count": 29,
   "metadata": {},
   "outputs": [],
   "source": [
    "def preprocess_text(doc, keep_token):\n",
    "        removed_punct = remove_punct(doc)\n",
    "        removed_stop_words = remove_stop_words(removed_punct)\n",
    "        removed_hashtag = remove_hashtag(removed_stop_words)\n",
    "        removed_annotations = remove_annotations(removed_hashtag)\n",
    "        removed_linebreaks = remove_linebreaks(removed_annotations)\n",
    "        if keep_token:\n",
    "                return lemmatize_token(removed_linebreaks)\n",
    "        else:\n",
    "                return lemmatize(removed_linebreaks)"
   ]
  },
  {
   "cell_type": "code",
   "execution_count": 30,
   "metadata": {},
   "outputs": [],
   "source": [
    "pre_proccesed_texts = [preprocess_text(doc, False) for doc in docs]"
   ]
  },
  {
   "cell_type": "code",
   "execution_count": 31,
   "metadata": {},
   "outputs": [
    {
     "data": {
      "text/plain": [
       "'Tinder Swindler Netflix'"
      ]
     },
     "execution_count": 31,
     "metadata": {},
     "output_type": "execute_result"
    }
   ],
   "source": [
    "pre_proccesed_texts[0]"
   ]
  },
  {
   "cell_type": "code",
   "execution_count": 32,
   "metadata": {},
   "outputs": [],
   "source": [
    "pre_proccesed_docs = [preprocess_text(doc, True) for doc in docs]"
   ]
  },
  {
   "cell_type": "markdown",
   "metadata": {},
   "source": [
    "### Get Hashtags and Emoji"
   ]
  },
  {
   "cell_type": "code",
   "execution_count": 33,
   "metadata": {},
   "outputs": [
    {
     "name": "stderr",
     "output_type": "stream",
     "text": [
      "<>:2: DeprecationWarning: invalid escape sequence \\w\n",
      "<>:2: DeprecationWarning: invalid escape sequence \\w\n",
      "/var/folders/vv/xxr9dlwd5lx3_s4nm4vw3nj5ggqq15/T/ipykernel_59409/1982691143.py:2: DeprecationWarning: invalid escape sequence \\w\n",
      "  pattern = [{\"TEXT\": {\"REGEX\": \"^#\\w+|\\w+-\\w+\"}}]\n"
     ]
    }
   ],
   "source": [
    "matcher = Matcher(nlp.vocab)\n",
    "pattern = [{\"TEXT\": {\"REGEX\": \"^#\\w+|\\w+-\\w+\"}}]\n",
    "matcher.add('HASHTAG', [pattern])\n",
    "\n",
    "def getHashtags(doc):\n",
    "    matches = matcher(doc)\n",
    "    hashtags = []\n",
    "    for match_id, start, end in matches:\n",
    "        span = doc[start:end]  # The matched span\n",
    "        text = re.sub('[^A-Za-z0-9_-]+', '', span.text)\n",
    "        hashtags.append(text)\n",
    "    return hashtags\n",
    "\n",
    "# getHashtags(docs[15])\n",
    "# >>> ['tinderswindler']"
   ]
  },
  {
   "cell_type": "code",
   "execution_count": 34,
   "metadata": {},
   "outputs": [],
   "source": [
    "# create list of hastags\n",
    "hashtags = [item for sublist in list(getHashtags(doc) for doc in docs) for item in sublist]"
   ]
  },
  {
   "cell_type": "code",
   "execution_count": 35,
   "metadata": {},
   "outputs": [],
   "source": [
    "counter = Counter()\n",
    "\n",
    "for tag in hashtags:\n",
    "    counter[tag] += 1\n",
    "\n",
    "top_15_hashtags = counter.most_common(15)"
   ]
  },
  {
   "cell_type": "code",
   "execution_count": 36,
   "metadata": {},
   "outputs": [],
   "source": [
    "df_hashtags = pd.DataFrame.from_records(top_15_hashtags, columns =['hashtag', 'count'])"
   ]
  },
  {
   "cell_type": "code",
   "execution_count": 37,
   "metadata": {},
   "outputs": [
    {
     "data": {
      "text/html": [
       "<div>\n",
       "<style scoped>\n",
       "    .dataframe tbody tr th:only-of-type {\n",
       "        vertical-align: middle;\n",
       "    }\n",
       "\n",
       "    .dataframe tbody tr th {\n",
       "        vertical-align: top;\n",
       "    }\n",
       "\n",
       "    .dataframe thead th {\n",
       "        text-align: right;\n",
       "    }\n",
       "</style>\n",
       "<table border=\"1\" class=\"dataframe\">\n",
       "  <thead>\n",
       "    <tr style=\"text-align: right;\">\n",
       "      <th></th>\n",
       "      <th>hashtag</th>\n",
       "      <th>count</th>\n",
       "    </tr>\n",
       "  </thead>\n",
       "  <tbody>\n",
       "    <tr>\n",
       "      <th>0</th>\n",
       "      <td>tinderswindler</td>\n",
       "      <td>15866</td>\n",
       "    </tr>\n",
       "    <tr>\n",
       "      <th>1</th>\n",
       "      <td>TheTinderSwindler</td>\n",
       "      <td>10852</td>\n",
       "    </tr>\n",
       "    <tr>\n",
       "      <th>2</th>\n",
       "      <td>TinderSwindler</td>\n",
       "      <td>2617</td>\n",
       "    </tr>\n",
       "    <tr>\n",
       "      <th>3</th>\n",
       "      <td>Netflix</td>\n",
       "      <td>562</td>\n",
       "    </tr>\n",
       "    <tr>\n",
       "      <th>4</th>\n",
       "      <td>simonleviev</td>\n",
       "      <td>251</td>\n",
       "    </tr>\n",
       "    <tr>\n",
       "      <th>5</th>\n",
       "      <td>thetinderswindler</td>\n",
       "      <td>205</td>\n",
       "    </tr>\n",
       "    <tr>\n",
       "      <th>6</th>\n",
       "      <td>netflix</td>\n",
       "      <td>133</td>\n",
       "    </tr>\n",
       "    <tr>\n",
       "      <th>7</th>\n",
       "      <td>TindlerSwindler</td>\n",
       "      <td>128</td>\n",
       "    </tr>\n",
       "    <tr>\n",
       "      <th>8</th>\n",
       "      <td>Tinderswindler</td>\n",
       "      <td>78</td>\n",
       "    </tr>\n",
       "    <tr>\n",
       "      <th>9</th>\n",
       "      <td>Tinder</td>\n",
       "      <td>74</td>\n",
       "    </tr>\n",
       "    <tr>\n",
       "      <th>10</th>\n",
       "      <td>tinder</td>\n",
       "      <td>74</td>\n",
       "    </tr>\n",
       "    <tr>\n",
       "      <th>11</th>\n",
       "      <td>SimonLeviev</td>\n",
       "      <td>69</td>\n",
       "    </tr>\n",
       "    <tr>\n",
       "      <th>12</th>\n",
       "      <td>SaveRayan</td>\n",
       "      <td>50</td>\n",
       "    </tr>\n",
       "    <tr>\n",
       "      <th>13</th>\n",
       "      <td>MasculinitySaturday</td>\n",
       "      <td>48</td>\n",
       "    </tr>\n",
       "    <tr>\n",
       "      <th>14</th>\n",
       "      <td>thepuppetmaster</td>\n",
       "      <td>47</td>\n",
       "    </tr>\n",
       "  </tbody>\n",
       "</table>\n",
       "</div>"
      ],
      "text/plain": [
       "                hashtag  count\n",
       "0        tinderswindler  15866\n",
       "1     TheTinderSwindler  10852\n",
       "2        TinderSwindler   2617\n",
       "3               Netflix    562\n",
       "4           simonleviev    251\n",
       "5     thetinderswindler    205\n",
       "6               netflix    133\n",
       "7       TindlerSwindler    128\n",
       "8        Tinderswindler     78\n",
       "9                Tinder     74\n",
       "10               tinder     74\n",
       "11          SimonLeviev     69\n",
       "12            SaveRayan     50\n",
       "13  MasculinitySaturday     48\n",
       "14      thepuppetmaster     47"
      ]
     },
     "execution_count": 37,
     "metadata": {},
     "output_type": "execute_result"
    }
   ],
   "source": [
    "df_hashtags"
   ]
  },
  {
   "cell_type": "code",
   "execution_count": 38,
   "metadata": {},
   "outputs": [],
   "source": [
    "def getEmoji(doc):\n",
    "    emojis = set()\n",
    "    if doc._.has_emoji:\n",
    "        for emoji in doc._.emoji:\n",
    "                emojis.add((emoji[0],emoji[2])) \n",
    "\n",
    "    return emojis"
   ]
  },
  {
   "cell_type": "code",
   "execution_count": 39,
   "metadata": {},
   "outputs": [],
   "source": [
    "# create list of emojis\n",
    "emojis = [item for sublist in list(getEmoji(doc) for doc in docs) for item in sublist]"
   ]
  },
  {
   "cell_type": "code",
   "execution_count": 40,
   "metadata": {},
   "outputs": [],
   "source": [
    "counter = Counter()\n",
    "\n",
    "for emoji in emojis:\n",
    "    counter[emoji] += 1\n",
    "\n",
    "top_15_emoji = (counter.most_common(15))"
   ]
  },
  {
   "cell_type": "code",
   "execution_count": 41,
   "metadata": {},
   "outputs": [
    {
     "data": {
      "text/plain": [
       "[(('😂', 'face with tears of joy'), 4969),\n",
       " (('😭', 'loudly crying face'), 3214),\n",
       " (('🤣', 'rolling on the floor laughing'), 2394),\n",
       " (('🤯', 'exploding head'), 1028),\n",
       " (('💀', 'skull'), 829),\n",
       " (('😳', 'flushed face'), 754),\n",
       " (('😩', 'weary face'), 664),\n",
       " (('🥴', 'woozy face'), 414),\n",
       " (('😅', 'grinning face with sweat'), 413),\n",
       " (('👀', 'eyes'), 370),\n",
       " (('🚩', 'triangular flag'), 339),\n",
       " (('😱', 'face screaming in fear'), 329),\n",
       " (('🤔', 'thinking face'), 286),\n",
       " (('🔥', 'fire'), 218),\n",
       " (('😮', 'face with open mouth'), 194)]"
      ]
     },
     "execution_count": 41,
     "metadata": {},
     "output_type": "execute_result"
    }
   ],
   "source": [
    "top_15_emoji"
   ]
  },
  {
   "cell_type": "code",
   "execution_count": 42,
   "metadata": {},
   "outputs": [
    {
     "name": "stdout",
     "output_type": "stream",
     "text": [
      "[['😂', 'face with tears of joy', 4969], ['😭', 'loudly crying face', 3214], ['🤣', 'rolling on the floor laughing', 2394], ['🤯', 'exploding head', 1028], ['💀', 'skull', 829], ['😳', 'flushed face', 754], ['😩', 'weary face', 664], ['🥴', 'woozy face', 414], ['😅', 'grinning face with sweat', 413], ['👀', 'eyes', 370], ['🚩', 'triangular flag', 339], ['😱', 'face screaming in fear', 329], ['🤔', 'thinking face', 286], ['🔥', 'fire', 218], ['😮', 'face with open mouth', 194]]\n"
     ]
    }
   ],
   "source": [
    "flatted_emojis = []\n",
    "\n",
    "for emoji in top_15_emoji:\n",
    "    flatted_emoji = []\n",
    "    for entry in emoji:\n",
    "        if hasattr(entry, '__iter__'):\n",
    "            for i in entry:\n",
    "                flatted_emoji.append(i)\n",
    "        else:\n",
    "            flatted_emoji.append(entry)\n",
    "    flatted_emojis.append(flatted_emoji)\n",
    "\n",
    "print(flatted_emojis)\n",
    "    \n",
    "   \n"
   ]
  },
  {
   "cell_type": "code",
   "execution_count": 43,
   "metadata": {},
   "outputs": [],
   "source": [
    "# create DataFrame using data\n",
    "df_emoji = pd.DataFrame.from_records(flatted_emojis, columns =['emoji',\"desc\", 'count'])"
   ]
  },
  {
   "cell_type": "code",
   "execution_count": 44,
   "metadata": {},
   "outputs": [
    {
     "data": {
      "text/html": [
       "<div>\n",
       "<style scoped>\n",
       "    .dataframe tbody tr th:only-of-type {\n",
       "        vertical-align: middle;\n",
       "    }\n",
       "\n",
       "    .dataframe tbody tr th {\n",
       "        vertical-align: top;\n",
       "    }\n",
       "\n",
       "    .dataframe thead th {\n",
       "        text-align: right;\n",
       "    }\n",
       "</style>\n",
       "<table border=\"1\" class=\"dataframe\">\n",
       "  <thead>\n",
       "    <tr style=\"text-align: right;\">\n",
       "      <th></th>\n",
       "      <th>emoji</th>\n",
       "      <th>desc</th>\n",
       "      <th>count</th>\n",
       "    </tr>\n",
       "  </thead>\n",
       "  <tbody>\n",
       "    <tr>\n",
       "      <th>0</th>\n",
       "      <td>😂</td>\n",
       "      <td>face with tears of joy</td>\n",
       "      <td>4969</td>\n",
       "    </tr>\n",
       "    <tr>\n",
       "      <th>1</th>\n",
       "      <td>😭</td>\n",
       "      <td>loudly crying face</td>\n",
       "      <td>3214</td>\n",
       "    </tr>\n",
       "    <tr>\n",
       "      <th>2</th>\n",
       "      <td>🤣</td>\n",
       "      <td>rolling on the floor laughing</td>\n",
       "      <td>2394</td>\n",
       "    </tr>\n",
       "    <tr>\n",
       "      <th>3</th>\n",
       "      <td>🤯</td>\n",
       "      <td>exploding head</td>\n",
       "      <td>1028</td>\n",
       "    </tr>\n",
       "    <tr>\n",
       "      <th>4</th>\n",
       "      <td>💀</td>\n",
       "      <td>skull</td>\n",
       "      <td>829</td>\n",
       "    </tr>\n",
       "    <tr>\n",
       "      <th>5</th>\n",
       "      <td>😳</td>\n",
       "      <td>flushed face</td>\n",
       "      <td>754</td>\n",
       "    </tr>\n",
       "    <tr>\n",
       "      <th>6</th>\n",
       "      <td>😩</td>\n",
       "      <td>weary face</td>\n",
       "      <td>664</td>\n",
       "    </tr>\n",
       "    <tr>\n",
       "      <th>7</th>\n",
       "      <td>🥴</td>\n",
       "      <td>woozy face</td>\n",
       "      <td>414</td>\n",
       "    </tr>\n",
       "    <tr>\n",
       "      <th>8</th>\n",
       "      <td>😅</td>\n",
       "      <td>grinning face with sweat</td>\n",
       "      <td>413</td>\n",
       "    </tr>\n",
       "    <tr>\n",
       "      <th>9</th>\n",
       "      <td>👀</td>\n",
       "      <td>eyes</td>\n",
       "      <td>370</td>\n",
       "    </tr>\n",
       "    <tr>\n",
       "      <th>10</th>\n",
       "      <td>🚩</td>\n",
       "      <td>triangular flag</td>\n",
       "      <td>339</td>\n",
       "    </tr>\n",
       "    <tr>\n",
       "      <th>11</th>\n",
       "      <td>😱</td>\n",
       "      <td>face screaming in fear</td>\n",
       "      <td>329</td>\n",
       "    </tr>\n",
       "    <tr>\n",
       "      <th>12</th>\n",
       "      <td>🤔</td>\n",
       "      <td>thinking face</td>\n",
       "      <td>286</td>\n",
       "    </tr>\n",
       "    <tr>\n",
       "      <th>13</th>\n",
       "      <td>🔥</td>\n",
       "      <td>fire</td>\n",
       "      <td>218</td>\n",
       "    </tr>\n",
       "    <tr>\n",
       "      <th>14</th>\n",
       "      <td>😮</td>\n",
       "      <td>face with open mouth</td>\n",
       "      <td>194</td>\n",
       "    </tr>\n",
       "  </tbody>\n",
       "</table>\n",
       "</div>"
      ],
      "text/plain": [
       "   emoji                           desc  count\n",
       "0      😂         face with tears of joy   4969\n",
       "1      😭             loudly crying face   3214\n",
       "2      🤣  rolling on the floor laughing   2394\n",
       "3      🤯                 exploding head   1028\n",
       "4      💀                          skull    829\n",
       "5      😳                   flushed face    754\n",
       "6      😩                     weary face    664\n",
       "7      🥴                     woozy face    414\n",
       "8      😅       grinning face with sweat    413\n",
       "9      👀                           eyes    370\n",
       "10     🚩                triangular flag    339\n",
       "11     😱         face screaming in fear    329\n",
       "12     🤔                  thinking face    286\n",
       "13     🔥                           fire    218\n",
       "14     😮           face with open mouth    194"
      ]
     },
     "execution_count": 44,
     "metadata": {},
     "output_type": "execute_result"
    }
   ],
   "source": [
    "df_emoji"
   ]
  },
  {
   "cell_type": "markdown",
   "metadata": {},
   "source": [
    "### First explorative Analysis"
   ]
  },
  {
   "cell_type": "code",
   "execution_count": 45,
   "metadata": {},
   "outputs": [
    {
     "data": {
      "image/png": "[encoded data removed]",
      "text/plain": [
       "<Figure size 1080x720 with 1 Axes>"
      ]
     },
     "metadata": {
      "needs_background": "light"
     },
     "output_type": "display_data"
    }
   ],
   "source": [
    "from pathlib import Path\n",
    "import matplotlib as mpl\n",
    "\n",
    "plt.figure(figsize=(15,10))\n",
    "sns.set(style=\"darkgrid\")\n",
    "ax = sns.barplot(x=\"desc\",y=\"count\", data=df_emoji)\n",
    "ax.set_xlabel(\"Description\")\n",
    "ax.set_ylabel(\"Count\")\n",
    "ax.tick_params(axis='x', rotation=90)\n"
   ]
  },
  {
   "cell_type": "code",
   "execution_count": 46,
   "metadata": {},
   "outputs": [
    {
     "data": {
      "image/png": "[encoded data removed]",
      "text/plain": [
       "<Figure size 1080x720 with 1 Axes>"
      ]
     },
     "metadata": {},
     "output_type": "display_data"
    }
   ],
   "source": [
    "plt.figure(figsize=(15,10))\n",
    "sns.set(style=\"darkgrid\")\n",
    "ax = sns.barplot(x=\"hashtag\",y=\"count\", data=df_hashtags)\n",
    "\n",
    "\n",
    "for p in ax.patches:\n",
    "    count = f'{p.get_height():.0f}\\n'\n",
    "    x = p.get_x() + p.get_width() / 2\n",
    "    y = p.get_height()\n",
    "    ax.annotate(count, (x, y), ha='center', va='center')\n",
    "\n",
    "ax.set_xlabel(\"Hashtag\")\n",
    "ax.set_ylabel(\"Count\")\n",
    "ax.tick_params(axis='x', rotation=90)\n"
   ]
  },
  {
   "cell_type": "code",
   "execution_count": 47,
   "metadata": {},
   "outputs": [
    {
     "data": {
      "image/png": "[encoded data removed]",
      "text/plain": [
       "<Figure size 1080x720 with 1 Axes>"
      ]
     },
     "metadata": {},
     "output_type": "display_data"
    }
   ],
   "source": [
    "plt.figure(figsize=(15,10))\n",
    "sns.set(style=\"darkgrid\")\n",
    "ax = sns.countplot(x=\"user_location\", data=df[df[\"user_location\"] != \"unknown\"], order=df[df[\"user_location\"] != \"unknown\"]['user_location'].value_counts().index[0:20])\n",
    "ax.set_xlabel(\"User Location\")\n",
    "ax.set_ylabel(\"Count\")\n",
    "ax.tick_params(axis='x', rotation=90)"
   ]
  },
  {
   "cell_type": "code",
   "execution_count": 48,
   "metadata": {},
   "outputs": [],
   "source": [
    "df['datetime_date'] = pd.to_datetime(df['date']).dt.date"
   ]
  },
  {
   "cell_type": "code",
   "execution_count": 49,
   "metadata": {},
   "outputs": [],
   "source": [
    "df_datecount = df.groupby(by=\"datetime_date\")['datetime_date'].count().reset_index(name=\"count\")"
   ]
  },
  {
   "cell_type": "code",
   "execution_count": 50,
   "metadata": {},
   "outputs": [
    {
     "data": {
      "text/html": [
       "<div>\n",
       "<style scoped>\n",
       "    .dataframe tbody tr th:only-of-type {\n",
       "        vertical-align: middle;\n",
       "    }\n",
       "\n",
       "    .dataframe tbody tr th {\n",
       "        vertical-align: top;\n",
       "    }\n",
       "\n",
       "    .dataframe thead th {\n",
       "        text-align: right;\n",
       "    }\n",
       "</style>\n",
       "<table border=\"1\" class=\"dataframe\">\n",
       "  <thead>\n",
       "    <tr style=\"text-align: right;\">\n",
       "      <th></th>\n",
       "      <th>datetime_date</th>\n",
       "      <th>count</th>\n",
       "    </tr>\n",
       "  </thead>\n",
       "  <tbody>\n",
       "    <tr>\n",
       "      <th>0</th>\n",
       "      <td>2022-02-01</td>\n",
       "      <td>80</td>\n",
       "    </tr>\n",
       "    <tr>\n",
       "      <th>1</th>\n",
       "      <td>2022-02-02</td>\n",
       "      <td>3130</td>\n",
       "    </tr>\n",
       "    <tr>\n",
       "      <th>2</th>\n",
       "      <td>2022-02-03</td>\n",
       "      <td>6725</td>\n",
       "    </tr>\n",
       "    <tr>\n",
       "      <th>3</th>\n",
       "      <td>2022-02-04</td>\n",
       "      <td>9080</td>\n",
       "    </tr>\n",
       "    <tr>\n",
       "      <th>4</th>\n",
       "      <td>2022-02-05</td>\n",
       "      <td>13420</td>\n",
       "    </tr>\n",
       "    <tr>\n",
       "      <th>5</th>\n",
       "      <td>2022-02-06</td>\n",
       "      <td>14831</td>\n",
       "    </tr>\n",
       "    <tr>\n",
       "      <th>6</th>\n",
       "      <td>2022-02-07</td>\n",
       "      <td>11798</td>\n",
       "    </tr>\n",
       "    <tr>\n",
       "      <th>7</th>\n",
       "      <td>2022-02-08</td>\n",
       "      <td>11042</td>\n",
       "    </tr>\n",
       "    <tr>\n",
       "      <th>8</th>\n",
       "      <td>2022-02-09</td>\n",
       "      <td>6107</td>\n",
       "    </tr>\n",
       "  </tbody>\n",
       "</table>\n",
       "</div>"
      ],
      "text/plain": [
       "  datetime_date  count\n",
       "0    2022-02-01     80\n",
       "1    2022-02-02   3130\n",
       "2    2022-02-03   6725\n",
       "3    2022-02-04   9080\n",
       "4    2022-02-05  13420\n",
       "5    2022-02-06  14831\n",
       "6    2022-02-07  11798\n",
       "7    2022-02-08  11042\n",
       "8    2022-02-09   6107"
      ]
     },
     "execution_count": 50,
     "metadata": {},
     "output_type": "execute_result"
    }
   ],
   "source": [
    "df_datecount"
   ]
  },
  {
   "cell_type": "code",
   "execution_count": 51,
   "metadata": {},
   "outputs": [
    {
     "data": {
      "text/plain": [
       "Text(0.5, 0, 'Date')"
      ]
     },
     "execution_count": 51,
     "metadata": {},
     "output_type": "execute_result"
    },
    {
     "data": {
      "image/png": "[encoded data removed]",
      "text/plain": [
       "<Figure size 1080x720 with 1 Axes>"
      ]
     },
     "metadata": {},
     "output_type": "display_data"
    }
   ],
   "source": [
    "plt.figure(figsize=(15,10))\n",
    "sns.set(style=\"darkgrid\")\n",
    "ax = sns.lineplot(data=df_datecount,x=df_datecount[\"datetime_date\"], y=df_datecount['count'].value_counts().index)\n",
    "ax.set_ylabel(\"Count of Tweets\")\n",
    "ax.set_xlabel(\"Date\")"
   ]
  },
  {
   "cell_type": "markdown",
   "metadata": {},
   "source": [
    "The film was released on Netflix on February 2, 2022"
   ]
  },
  {
   "cell_type": "code",
   "execution_count": 52,
   "metadata": {},
   "outputs": [],
   "source": [
    "# word count\n",
    "words = [item for sublist in pre_proccesed_docs for item in sublist]\n",
    "cv = CountVectorizer().fit(words)\n",
    "texts_count = cv.transform(words)\n",
    "sum_words = texts_count.sum(axis=0)\n",
    "words_freq = [(word, sum_words[0, idx]) for word, idx in cv.vocabulary_.items()]\n",
    "words_freq =sorted(words_freq, key = lambda x: x[1], reverse=True)\n"
   ]
  },
  {
   "cell_type": "code",
   "execution_count": 53,
   "metadata": {},
   "outputs": [],
   "source": [
    "top_20_words = words_freq[:20]"
   ]
  },
  {
   "cell_type": "code",
   "execution_count": 54,
   "metadata": {},
   "outputs": [],
   "source": [
    "df_word_freq = pd.DataFrame.from_records(top_20_words, columns = ['word', 'count'])"
   ]
  },
  {
   "cell_type": "code",
   "execution_count": 55,
   "metadata": {},
   "outputs": [
    {
     "data": {
      "text/html": [
       "<div>\n",
       "<style scoped>\n",
       "    .dataframe tbody tr th:only-of-type {\n",
       "        vertical-align: middle;\n",
       "    }\n",
       "\n",
       "    .dataframe tbody tr th {\n",
       "        vertical-align: top;\n",
       "    }\n",
       "\n",
       "    .dataframe thead th {\n",
       "        text-align: right;\n",
       "    }\n",
       "</style>\n",
       "<table border=\"1\" class=\"dataframe\">\n",
       "  <thead>\n",
       "    <tr style=\"text-align: right;\">\n",
       "      <th></th>\n",
       "      <th>word</th>\n",
       "      <th>count</th>\n",
       "    </tr>\n",
       "  </thead>\n",
       "  <tbody>\n",
       "    <tr>\n",
       "      <th>0</th>\n",
       "      <td>swindler</td>\n",
       "      <td>39028</td>\n",
       "    </tr>\n",
       "    <tr>\n",
       "      <th>1</th>\n",
       "      <td>tinder</td>\n",
       "      <td>37420</td>\n",
       "    </tr>\n",
       "    <tr>\n",
       "      <th>2</th>\n",
       "      <td>watch</td>\n",
       "      <td>14660</td>\n",
       "    </tr>\n",
       "    <tr>\n",
       "      <th>3</th>\n",
       "      <td>simon</td>\n",
       "      <td>6845</td>\n",
       "    </tr>\n",
       "    <tr>\n",
       "      <th>4</th>\n",
       "      <td>woman</td>\n",
       "      <td>6783</td>\n",
       "    </tr>\n",
       "    <tr>\n",
       "      <th>5</th>\n",
       "      <td>netflix</td>\n",
       "      <td>6291</td>\n",
       "    </tr>\n",
       "    <tr>\n",
       "      <th>6</th>\n",
       "      <td>man</td>\n",
       "      <td>5746</td>\n",
       "    </tr>\n",
       "    <tr>\n",
       "      <th>7</th>\n",
       "      <td>like</td>\n",
       "      <td>4313</td>\n",
       "    </tr>\n",
       "    <tr>\n",
       "      <th>8</th>\n",
       "      <td>not</td>\n",
       "      <td>3787</td>\n",
       "    </tr>\n",
       "    <tr>\n",
       "      <th>9</th>\n",
       "      <td>guy</td>\n",
       "      <td>3567</td>\n",
       "    </tr>\n",
       "    <tr>\n",
       "      <th>10</th>\n",
       "      <td>money</td>\n",
       "      <td>3413</td>\n",
       "    </tr>\n",
       "    <tr>\n",
       "      <th>11</th>\n",
       "      <td>get</td>\n",
       "      <td>3073</td>\n",
       "    </tr>\n",
       "    <tr>\n",
       "      <th>12</th>\n",
       "      <td>documentary</td>\n",
       "      <td>2965</td>\n",
       "    </tr>\n",
       "    <tr>\n",
       "      <th>13</th>\n",
       "      <td>girl</td>\n",
       "      <td>2934</td>\n",
       "    </tr>\n",
       "    <tr>\n",
       "      <th>14</th>\n",
       "      <td>know</td>\n",
       "      <td>2457</td>\n",
       "    </tr>\n",
       "    <tr>\n",
       "      <th>15</th>\n",
       "      <td>good</td>\n",
       "      <td>2336</td>\n",
       "    </tr>\n",
       "    <tr>\n",
       "      <th>16</th>\n",
       "      <td>loan</td>\n",
       "      <td>2326</td>\n",
       "    </tr>\n",
       "    <tr>\n",
       "      <th>17</th>\n",
       "      <td>people</td>\n",
       "      <td>2323</td>\n",
       "    </tr>\n",
       "    <tr>\n",
       "      <th>18</th>\n",
       "      <td>think</td>\n",
       "      <td>2231</td>\n",
       "    </tr>\n",
       "    <tr>\n",
       "      <th>19</th>\n",
       "      <td>go</td>\n",
       "      <td>2190</td>\n",
       "    </tr>\n",
       "  </tbody>\n",
       "</table>\n",
       "</div>"
      ],
      "text/plain": [
       "           word  count\n",
       "0      swindler  39028\n",
       "1        tinder  37420\n",
       "2         watch  14660\n",
       "3         simon   6845\n",
       "4         woman   6783\n",
       "5       netflix   6291\n",
       "6           man   5746\n",
       "7          like   4313\n",
       "8           not   3787\n",
       "9           guy   3567\n",
       "10        money   3413\n",
       "11          get   3073\n",
       "12  documentary   2965\n",
       "13         girl   2934\n",
       "14         know   2457\n",
       "15         good   2336\n",
       "16         loan   2326\n",
       "17       people   2323\n",
       "18        think   2231\n",
       "19           go   2190"
      ]
     },
     "execution_count": 55,
     "metadata": {},
     "output_type": "execute_result"
    }
   ],
   "source": [
    "df_word_freq"
   ]
  },
  {
   "cell_type": "code",
   "execution_count": 56,
   "metadata": {},
   "outputs": [
    {
     "data": {
      "image/png": "[encoded data removed]",
      "text/plain": [
       "<Figure size 1080x720 with 1 Axes>"
      ]
     },
     "metadata": {},
     "output_type": "display_data"
    }
   ],
   "source": [
    "plt.figure(figsize=(15,10))\n",
    "sns.set(style=\"darkgrid\")\n",
    "ax = sns.barplot(x=\"word\",y=\"count\", data=df_word_freq)\n",
    "\n",
    "for p in ax.patches:\n",
    "    count = f'{p.get_height():.0f}\\n'\n",
    "    x = p.get_x() + p.get_width() / 2\n",
    "    y = p.get_height()\n",
    "    ax.annotate(count, (x, y), ha='center', va='center')\n",
    "\n",
    "ax.set_xlabel(\"Word\")\n",
    "ax.set_ylabel(\"Count\")\n",
    "ax.tick_params(axis='x', rotation=90)\n"
   ]
  },
  {
   "cell_type": "markdown",
   "metadata": {},
   "source": [
    "### Sentiment Analysis"
   ]
  },
  {
   "cell_type": "code",
   "execution_count": 57,
   "metadata": {},
   "outputs": [],
   "source": [
    "from textblob import TextBlob\n",
    "from vaderSentiment.vaderSentiment import SentimentIntensityAnalyzer"
   ]
  },
  {
   "cell_type": "code",
   "execution_count": 58,
   "metadata": {},
   "outputs": [],
   "source": [
    "preprocess_docs_sentiment = [remove_punct(remove_linebreaks(remove_annotations(remove_hashtag(doc)))) for doc in docs]"
   ]
  },
  {
   "cell_type": "code",
   "execution_count": 59,
   "metadata": {},
   "outputs": [],
   "source": [
    "preprocess_text_sentiment = []\n",
    "for doc in preprocess_docs_sentiment:\n",
    "    doc_text = \"\"\n",
    "    for word in doc:\n",
    "        doc_text = doc_text + word.text\n",
    "        if doc.index(word) +1 < len(doc):\n",
    "            doc_text = doc_text + \" \"\n",
    "    preprocess_text_sentiment.append(doc_text)"
   ]
  },
  {
   "cell_type": "code",
   "execution_count": 60,
   "metadata": {},
   "outputs": [
    {
     "data": {
      "text/plain": [
       "['Tinder Swindler off Netflix',\n",
       " 'basically homeboy got away with it',\n",
       " 'Not the tinder swindler becoming a TIk Tok star 🙄',\n",
       " 'Why is n’t Shimon Hayut in jail',\n",
       " 'the tinder swindler a sick nigga 😂 😂']"
      ]
     },
     "execution_count": 60,
     "metadata": {},
     "output_type": "execute_result"
    }
   ],
   "source": [
    "preprocess_text_sentiment[:5]"
   ]
  },
  {
   "cell_type": "code",
   "execution_count": 61,
   "metadata": {},
   "outputs": [],
   "source": [
    "df_preprocessed_text = pd.DataFrame(preprocess_text_sentiment, columns=['text'])"
   ]
  },
  {
   "cell_type": "code",
   "execution_count": 62,
   "metadata": {},
   "outputs": [],
   "source": [
    "df_preprocessed_text[['polarity', 'subjectivity']] = df_preprocessed_text['text'].apply(lambda Text: pd.Series(TextBlob(Text).sentiment))"
   ]
  },
  {
   "cell_type": "code",
   "execution_count": 63,
   "metadata": {},
   "outputs": [
    {
     "ename": "KeyboardInterrupt",
     "evalue": "",
     "output_type": "error",
     "traceback": [
      "\u001b[0;31m---------------------------------------------------------------------------\u001b[0m",
      "\u001b[0;31mKeyboardInterrupt\u001b[0m                         Traceback (most recent call last)",
      "\u001b[1;32m/Users/akneis/git/notebooks/text-analytics/tinder_swindler_tweets_analysis/tinder_swindler.ipynb Zelle 65\u001b[0m in \u001b[0;36m<cell line: 1>\u001b[0;34m()\u001b[0m\n\u001b[1;32m      <a href='vscode-notebook-cell:/Users/akneis/git/notebooks/text-analytics/tinder_swindler_tweets_analysis/tinder_swindler.ipynb#Y121sZmlsZQ%3D%3D?line=0'>1</a>\u001b[0m \u001b[39mfor\u001b[39;00m index, row \u001b[39min\u001b[39;00m df_preprocessed_text[\u001b[39m'\u001b[39m\u001b[39mtext\u001b[39m\u001b[39m'\u001b[39m]\u001b[39m.\u001b[39mitems():\n\u001b[0;32m----> <a href='vscode-notebook-cell:/Users/akneis/git/notebooks/text-analytics/tinder_swindler_tweets_analysis/tinder_swindler.ipynb#Y121sZmlsZQ%3D%3D?line=1'>2</a>\u001b[0m     score \u001b[39m=\u001b[39m SentimentIntensityAnalyzer()\u001b[39m.\u001b[39mpolarity_scores(row)\n\u001b[1;32m      <a href='vscode-notebook-cell:/Users/akneis/git/notebooks/text-analytics/tinder_swindler_tweets_analysis/tinder_swindler.ipynb#Y121sZmlsZQ%3D%3D?line=2'>3</a>\u001b[0m     neg \u001b[39m=\u001b[39m score[\u001b[39m'\u001b[39m\u001b[39mneg\u001b[39m\u001b[39m'\u001b[39m]\n\u001b[1;32m      <a href='vscode-notebook-cell:/Users/akneis/git/notebooks/text-analytics/tinder_swindler_tweets_analysis/tinder_swindler.ipynb#Y121sZmlsZQ%3D%3D?line=3'>4</a>\u001b[0m     neu \u001b[39m=\u001b[39m score[\u001b[39m'\u001b[39m\u001b[39mneu\u001b[39m\u001b[39m'\u001b[39m]\n",
      "File \u001b[0;32m~/git/notebooks/text-analytics/lib/python3.8/site-packages/vaderSentiment/vaderSentiment.py:203\u001b[0m, in \u001b[0;36mSentimentIntensityAnalyzer.__init__\u001b[0;34m(self, lexicon_file, emoji_lexicon)\u001b[0m\n\u001b[1;32m    201\u001b[0m \u001b[39mwith\u001b[39;00m codecs\u001b[39m.\u001b[39mopen(lexicon_full_filepath, encoding\u001b[39m=\u001b[39m\u001b[39m'\u001b[39m\u001b[39mutf-8\u001b[39m\u001b[39m'\u001b[39m) \u001b[39mas\u001b[39;00m f:\n\u001b[1;32m    202\u001b[0m     \u001b[39mself\u001b[39m\u001b[39m.\u001b[39mlexicon_full_filepath \u001b[39m=\u001b[39m f\u001b[39m.\u001b[39mread()\n\u001b[0;32m--> 203\u001b[0m \u001b[39mself\u001b[39m\u001b[39m.\u001b[39mlexicon \u001b[39m=\u001b[39m \u001b[39mself\u001b[39;49m\u001b[39m.\u001b[39;49mmake_lex_dict()\n\u001b[1;32m    205\u001b[0m emoji_full_filepath \u001b[39m=\u001b[39m os\u001b[39m.\u001b[39mpath\u001b[39m.\u001b[39mjoin(os\u001b[39m.\u001b[39mpath\u001b[39m.\u001b[39mdirname(_this_module_file_path_), emoji_lexicon)\n\u001b[1;32m    206\u001b[0m \u001b[39mwith\u001b[39;00m codecs\u001b[39m.\u001b[39mopen(emoji_full_filepath, encoding\u001b[39m=\u001b[39m\u001b[39m'\u001b[39m\u001b[39mutf-8\u001b[39m\u001b[39m'\u001b[39m) \u001b[39mas\u001b[39;00m f:\n",
      "File \u001b[0;32m~/git/notebooks/text-analytics/lib/python3.8/site-packages/vaderSentiment/vaderSentiment.py:218\u001b[0m, in \u001b[0;36mSentimentIntensityAnalyzer.make_lex_dict\u001b[0;34m(self)\u001b[0m\n\u001b[1;32m    216\u001b[0m     \u001b[39mif\u001b[39;00m \u001b[39mnot\u001b[39;00m line:\n\u001b[1;32m    217\u001b[0m         \u001b[39mcontinue\u001b[39;00m\n\u001b[0;32m--> 218\u001b[0m     (word, measure) \u001b[39m=\u001b[39m line\u001b[39m.\u001b[39;49mstrip()\u001b[39m.\u001b[39;49msplit(\u001b[39m'\u001b[39;49m\u001b[39m\\t\u001b[39;49;00m\u001b[39m'\u001b[39;49m)[\u001b[39m0\u001b[39m:\u001b[39m2\u001b[39m]\n\u001b[1;32m    219\u001b[0m     lex_dict[word] \u001b[39m=\u001b[39m \u001b[39mfloat\u001b[39m(measure)\n\u001b[1;32m    220\u001b[0m \u001b[39mreturn\u001b[39;00m lex_dict\n",
      "\u001b[0;31mKeyboardInterrupt\u001b[0m: "
     ]
    }
   ],
   "source": [
    "for index, row in df_preprocessed_text['text'].items():\n",
    "    score = SentimentIntensityAnalyzer().polarity_scores(row)\n",
    "    neg = score['neg']\n",
    "    neu = score['neu']\n",
    "    pos = score['pos']\n",
    "    comp = score['compound']\n",
    "    if neg > pos:\n",
    "        df_preprocessed_text.loc[index, 'sentiment'] = \"negative\"\n",
    "    elif pos > neg:\n",
    "        df_preprocessed_text.loc[index, 'sentiment'] = \"positive\"\n",
    "    else:\n",
    "        df_preprocessed_text.loc[index, 'sentiment'] = \"neutral\"\n",
    "    df_preprocessed_text.loc[index, 'neg'] = neg\n",
    "    df_preprocessed_text.loc[index, 'neu'] = neu\n",
    "    df_preprocessed_text.loc[index, 'pos'] = pos\n",
    "    df_preprocessed_text.loc[index, 'compound'] = comp"
   ]
  },
  {
   "cell_type": "code",
   "execution_count": null,
   "metadata": {},
   "outputs": [
    {
     "data": {
      "text/html": [
       "<div>\n",
       "<style scoped>\n",
       "    .dataframe tbody tr th:only-of-type {\n",
       "        vertical-align: middle;\n",
       "    }\n",
       "\n",
       "    .dataframe tbody tr th {\n",
       "        vertical-align: top;\n",
       "    }\n",
       "\n",
       "    .dataframe thead th {\n",
       "        text-align: right;\n",
       "    }\n",
       "</style>\n",
       "<table border=\"1\" class=\"dataframe\">\n",
       "  <thead>\n",
       "    <tr style=\"text-align: right;\">\n",
       "      <th></th>\n",
       "      <th>text</th>\n",
       "      <th>polarity</th>\n",
       "      <th>subjectivity</th>\n",
       "      <th>sentiment</th>\n",
       "      <th>neg</th>\n",
       "      <th>neu</th>\n",
       "      <th>pos</th>\n",
       "      <th>compound</th>\n",
       "    </tr>\n",
       "  </thead>\n",
       "  <tbody>\n",
       "    <tr>\n",
       "      <th>0</th>\n",
       "      <td>Tinder Swindler off Netflix</td>\n",
       "      <td>0.000000</td>\n",
       "      <td>0.000000</td>\n",
       "      <td>neutral</td>\n",
       "      <td>0.000</td>\n",
       "      <td>1.000</td>\n",
       "      <td>0.000</td>\n",
       "      <td>0.0000</td>\n",
       "    </tr>\n",
       "    <tr>\n",
       "      <th>1</th>\n",
       "      <td>basically homeboy got away with it</td>\n",
       "      <td>0.000000</td>\n",
       "      <td>0.000000</td>\n",
       "      <td>neutral</td>\n",
       "      <td>0.000</td>\n",
       "      <td>1.000</td>\n",
       "      <td>0.000</td>\n",
       "      <td>0.0000</td>\n",
       "    </tr>\n",
       "    <tr>\n",
       "      <th>2</th>\n",
       "      <td>Not the tinder swindler becoming a TIk Tok star 🙄</td>\n",
       "      <td>0.450000</td>\n",
       "      <td>0.850000</td>\n",
       "      <td>neutral</td>\n",
       "      <td>0.000</td>\n",
       "      <td>1.000</td>\n",
       "      <td>0.000</td>\n",
       "      <td>0.0000</td>\n",
       "    </tr>\n",
       "    <tr>\n",
       "      <th>3</th>\n",
       "      <td>Why is n’t Shimon Hayut in jail</td>\n",
       "      <td>-0.100000</td>\n",
       "      <td>0.000000</td>\n",
       "      <td>neutral</td>\n",
       "      <td>0.000</td>\n",
       "      <td>1.000</td>\n",
       "      <td>0.000</td>\n",
       "      <td>0.0000</td>\n",
       "    </tr>\n",
       "    <tr>\n",
       "      <th>4</th>\n",
       "      <td>the tinder swindler a sick nigga 😂 😂</td>\n",
       "      <td>-0.714286</td>\n",
       "      <td>0.857143</td>\n",
       "      <td>positive</td>\n",
       "      <td>0.276</td>\n",
       "      <td>0.428</td>\n",
       "      <td>0.296</td>\n",
       "      <td>0.3612</td>\n",
       "    </tr>\n",
       "  </tbody>\n",
       "</table>\n",
       "</div>"
      ],
      "text/plain": [
       "                                                text  polarity  subjectivity  \\\n",
       "0                        Tinder Swindler off Netflix  0.000000      0.000000   \n",
       "1                 basically homeboy got away with it  0.000000      0.000000   \n",
       "2  Not the tinder swindler becoming a TIk Tok star 🙄  0.450000      0.850000   \n",
       "3                    Why is n’t Shimon Hayut in jail -0.100000      0.000000   \n",
       "4               the tinder swindler a sick nigga 😂 😂 -0.714286      0.857143   \n",
       "\n",
       "  sentiment    neg    neu    pos  compound  \n",
       "0   neutral  0.000  1.000  0.000    0.0000  \n",
       "1   neutral  0.000  1.000  0.000    0.0000  \n",
       "2   neutral  0.000  1.000  0.000    0.0000  \n",
       "3   neutral  0.000  1.000  0.000    0.0000  \n",
       "4  positive  0.276  0.428  0.296    0.3612  "
      ]
     },
     "execution_count": 58,
     "metadata": {},
     "output_type": "execute_result"
    }
   ],
   "source": [
    "df_preprocessed_text.head()"
   ]
  },
  {
   "cell_type": "code",
   "execution_count": null,
   "metadata": {},
   "outputs": [
    {
     "data": {
      "text/html": [
       "<div>\n",
       "<style scoped>\n",
       "    .dataframe tbody tr th:only-of-type {\n",
       "        vertical-align: middle;\n",
       "    }\n",
       "\n",
       "    .dataframe tbody tr th {\n",
       "        vertical-align: top;\n",
       "    }\n",
       "\n",
       "    .dataframe thead th {\n",
       "        text-align: right;\n",
       "    }\n",
       "</style>\n",
       "<table border=\"1\" class=\"dataframe\">\n",
       "  <thead>\n",
       "    <tr style=\"text-align: right;\">\n",
       "      <th></th>\n",
       "      <th>text</th>\n",
       "      <th>polarity</th>\n",
       "      <th>subjectivity</th>\n",
       "      <th>sentiment</th>\n",
       "      <th>neg</th>\n",
       "      <th>neu</th>\n",
       "      <th>pos</th>\n",
       "      <th>compound</th>\n",
       "    </tr>\n",
       "  </thead>\n",
       "  <tbody>\n",
       "    <tr>\n",
       "      <th>1503</th>\n",
       "      <td>👌 💜 Brilliant marketing Well spotted   Love th...</td>\n",
       "      <td>0.700000</td>\n",
       "      <td>0.80</td>\n",
       "      <td>positive</td>\n",
       "      <td>0.0</td>\n",
       "      <td>0.197</td>\n",
       "      <td>0.803</td>\n",
       "      <td>0.9658</td>\n",
       "    </tr>\n",
       "    <tr>\n",
       "      <th>2100</th>\n",
       "      <td>So perfect 👌 😀</td>\n",
       "      <td>1.000000</td>\n",
       "      <td>1.00</td>\n",
       "      <td>positive</td>\n",
       "      <td>0.0</td>\n",
       "      <td>0.132</td>\n",
       "      <td>0.868</td>\n",
       "      <td>0.9212</td>\n",
       "    </tr>\n",
       "    <tr>\n",
       "      <th>2571</th>\n",
       "      <td>Brilliant</td>\n",
       "      <td>0.900000</td>\n",
       "      <td>1.00</td>\n",
       "      <td>positive</td>\n",
       "      <td>0.0</td>\n",
       "      <td>0.000</td>\n",
       "      <td>1.000</td>\n",
       "      <td>0.5859</td>\n",
       "    </tr>\n",
       "    <tr>\n",
       "      <th>6085</th>\n",
       "      <td>Brilliant</td>\n",
       "      <td>0.900000</td>\n",
       "      <td>1.00</td>\n",
       "      <td>positive</td>\n",
       "      <td>0.0</td>\n",
       "      <td>0.000</td>\n",
       "      <td>1.000</td>\n",
       "      <td>0.5859</td>\n",
       "    </tr>\n",
       "    <tr>\n",
       "      <th>7041</th>\n",
       "      <td>Lol so funny eerrr lol</td>\n",
       "      <td>0.616667</td>\n",
       "      <td>0.80</td>\n",
       "      <td>positive</td>\n",
       "      <td>0.0</td>\n",
       "      <td>0.181</td>\n",
       "      <td>0.819</td>\n",
       "      <td>0.8425</td>\n",
       "    </tr>\n",
       "    <tr>\n",
       "      <th>22820</th>\n",
       "      <td>love wise ha</td>\n",
       "      <td>0.600000</td>\n",
       "      <td>0.75</td>\n",
       "      <td>positive</td>\n",
       "      <td>0.0</td>\n",
       "      <td>0.000</td>\n",
       "      <td>1.000</td>\n",
       "      <td>0.8658</td>\n",
       "    </tr>\n",
       "    <tr>\n",
       "      <th>24865</th>\n",
       "      <td>Best part</td>\n",
       "      <td>1.000000</td>\n",
       "      <td>0.30</td>\n",
       "      <td>positive</td>\n",
       "      <td>0.0</td>\n",
       "      <td>0.192</td>\n",
       "      <td>0.808</td>\n",
       "      <td>0.6369</td>\n",
       "    </tr>\n",
       "    <tr>\n",
       "      <th>43512</th>\n",
       "      <td>Lmao i LOVE Ayleen</td>\n",
       "      <td>0.550000</td>\n",
       "      <td>0.80</td>\n",
       "      <td>positive</td>\n",
       "      <td>0.0</td>\n",
       "      <td>0.185</td>\n",
       "      <td>0.815</td>\n",
       "      <td>0.8700</td>\n",
       "    </tr>\n",
       "    <tr>\n",
       "      <th>51103</th>\n",
       "      <td>Lol Simon won</td>\n",
       "      <td>0.800000</td>\n",
       "      <td>0.70</td>\n",
       "      <td>positive</td>\n",
       "      <td>0.0</td>\n",
       "      <td>0.133</td>\n",
       "      <td>0.867</td>\n",
       "      <td>0.7579</td>\n",
       "    </tr>\n",
       "    <tr>\n",
       "      <th>52157</th>\n",
       "      <td>Please be nice</td>\n",
       "      <td>0.600000</td>\n",
       "      <td>1.00</td>\n",
       "      <td>positive</td>\n",
       "      <td>0.0</td>\n",
       "      <td>0.164</td>\n",
       "      <td>0.836</td>\n",
       "      <td>0.6249</td>\n",
       "    </tr>\n",
       "    <tr>\n",
       "      <th>58136</th>\n",
       "      <td>Awesome doccie</td>\n",
       "      <td>1.000000</td>\n",
       "      <td>1.00</td>\n",
       "      <td>positive</td>\n",
       "      <td>0.0</td>\n",
       "      <td>0.196</td>\n",
       "      <td>0.804</td>\n",
       "      <td>0.6249</td>\n",
       "    </tr>\n",
       "    <tr>\n",
       "      <th>65948</th>\n",
       "      <td>Amazing</td>\n",
       "      <td>0.600000</td>\n",
       "      <td>0.90</td>\n",
       "      <td>positive</td>\n",
       "      <td>0.0</td>\n",
       "      <td>0.000</td>\n",
       "      <td>1.000</td>\n",
       "      <td>0.5859</td>\n",
       "    </tr>\n",
       "    <tr>\n",
       "      <th>74250</th>\n",
       "      <td>Good Good Documentry</td>\n",
       "      <td>0.700000</td>\n",
       "      <td>0.60</td>\n",
       "      <td>positive</td>\n",
       "      <td>0.0</td>\n",
       "      <td>0.147</td>\n",
       "      <td>0.853</td>\n",
       "      <td>0.7003</td>\n",
       "    </tr>\n",
       "  </tbody>\n",
       "</table>\n",
       "</div>"
      ],
      "text/plain": [
       "                                                    text  polarity  \\\n",
       "1503   👌 💜 Brilliant marketing Well spotted   Love th...  0.700000   \n",
       "2100                                      So perfect 👌 😀  1.000000   \n",
       "2571                                           Brilliant  0.900000   \n",
       "6085                                           Brilliant  0.900000   \n",
       "7041                              Lol so funny eerrr lol  0.616667   \n",
       "22820                                       love wise ha  0.600000   \n",
       "24865                                          Best part  1.000000   \n",
       "43512                                 Lmao i LOVE Ayleen  0.550000   \n",
       "51103                                      Lol Simon won  0.800000   \n",
       "52157                                     Please be nice  0.600000   \n",
       "58136                                   Awesome doccie    1.000000   \n",
       "65948                                            Amazing  0.600000   \n",
       "74250                               Good Good Documentry  0.700000   \n",
       "\n",
       "       subjectivity sentiment  neg    neu    pos  compound  \n",
       "1503           0.80  positive  0.0  0.197  0.803    0.9658  \n",
       "2100           1.00  positive  0.0  0.132  0.868    0.9212  \n",
       "2571           1.00  positive  0.0  0.000  1.000    0.5859  \n",
       "6085           1.00  positive  0.0  0.000  1.000    0.5859  \n",
       "7041           0.80  positive  0.0  0.181  0.819    0.8425  \n",
       "22820          0.75  positive  0.0  0.000  1.000    0.8658  \n",
       "24865          0.30  positive  0.0  0.192  0.808    0.6369  \n",
       "43512          0.80  positive  0.0  0.185  0.815    0.8700  \n",
       "51103          0.70  positive  0.0  0.133  0.867    0.7579  \n",
       "52157          1.00  positive  0.0  0.164  0.836    0.6249  \n",
       "58136          1.00  positive  0.0  0.196  0.804    0.6249  \n",
       "65948          0.90  positive  0.0  0.000  1.000    0.5859  \n",
       "74250          0.60  positive  0.0  0.147  0.853    0.7003  "
      ]
     },
     "execution_count": 94,
     "metadata": {},
     "output_type": "execute_result"
    }
   ],
   "source": [
    "df_preprocessed_text[(df_preprocessed_text[\"pos\"] > 0.8) & (df_preprocessed_text[\"polarity\"] > 0.5)]"
   ]
  },
  {
   "cell_type": "code",
   "execution_count": null,
   "metadata": {},
   "outputs": [
    {
     "data": {
      "text/plain": [
       "'👌 💜 Brilliant marketing Well spotted   Love that movie'"
      ]
     },
     "execution_count": 90,
     "metadata": {},
     "output_type": "execute_result"
    }
   ],
   "source": [
    "df_preprocessed_text.iloc[1503].text"
   ]
  },
  {
   "cell_type": "code",
   "execution_count": null,
   "metadata": {},
   "outputs": [],
   "source": [
    "df_preprocessed_text_negative = df_preprocessed_text[df_preprocessed_text[\"sentiment\"]==\"negative\"]\n",
    "df_preprocessed_text_positive = df_preprocessed_text[df_preprocessed_text[\"sentiment\"]==\"positive\"]\n",
    "df_preprocessed_text_neutral = df_preprocessed_text[df_preprocessed_text[\"sentiment\"]==\"neutral\"]"
   ]
  },
  {
   "cell_type": "code",
   "execution_count": null,
   "metadata": {},
   "outputs": [
    {
     "name": "stdout",
     "output_type": "stream",
     "text": [
      "          Total  Percentage\n",
      "positive  28173       36.97\n",
      "negative  25462       33.41\n",
      "neutral   22578       29.62\n"
     ]
    }
   ],
   "source": [
    "def count_values_in_column(data,feature):\n",
    "    total=data.loc[:,feature].value_counts(dropna=False)\n",
    "    percentage=round(data.loc[:,feature].value_counts(dropna=False,normalize=True)*100,2)\n",
    "    return pd.concat([total,percentage],axis=1,keys=['Total','Percentage'])\n",
    "#Count_values for sentiment\n",
    "df_sentiment = count_values_in_column(df_preprocessed_text,\"sentiment\")\n",
    "\n",
    "print(df_sentiment)"
   ]
  },
  {
   "cell_type": "code",
   "execution_count": null,
   "metadata": {},
   "outputs": [
    {
     "data": {
      "image/png": "[encoded data removed]",
      "text/plain": [
       "<Figure size 432x288 with 1 Axes>"
      ]
     },
     "metadata": {},
     "output_type": "display_data"
    }
   ],
   "source": [
    "labels = ['Positive ['+str(df_sentiment['Percentage']['positive'])+'%]' , 'Neutral ['+str(df_sentiment['Percentage']['neutral'])+'%]','Negative ['+str(df_sentiment['Percentage']['negative'])+'%]']\n",
    "sizes = df_sentiment['Percentage']\n",
    "colors = ['yellowgreen', 'blue','red']\n",
    "patches, texts = plt.pie(sizes,colors=colors, startangle=90)\n",
    "plt.style.use('default')\n",
    "plt.legend(labels)\n",
    "plt.axis('equal')\n",
    "plt.show()"
   ]
  },
  {
   "cell_type": "markdown",
   "metadata": {},
   "source": [
    "### LDA"
   ]
  },
  {
   "cell_type": "markdown",
   "metadata": {},
   "source": [
    "#### Prepare raw text data for lda"
   ]
  },
  {
   "cell_type": "code",
   "execution_count": 64,
   "metadata": {},
   "outputs": [],
   "source": [
    "import emoji"
   ]
  },
  {
   "cell_type": "code",
   "execution_count": 65,
   "metadata": {},
   "outputs": [
    {
     "name": "stderr",
     "output_type": "stream",
     "text": [
      "<>:4: DeprecationWarning: invalid escape sequence \\.\n",
      "<>:6: DeprecationWarning: invalid escape sequence \\w\n",
      "<>:8: DeprecationWarning: invalid escape sequence \\w\n",
      "<>:4: DeprecationWarning: invalid escape sequence \\.\n",
      "<>:6: DeprecationWarning: invalid escape sequence \\w\n",
      "<>:8: DeprecationWarning: invalid escape sequence \\w\n",
      "/var/folders/vv/xxr9dlwd5lx3_s4nm4vw3nj5ggqq15/T/ipykernel_59409/500708818.py:4: DeprecationWarning: invalid escape sequence \\.\n",
      "  df_lda['text_processed_cleaned'] = df_lda['text'].map(lambda x: re.sub('[,\\.!?\\n]', '', x))\n",
      "/var/folders/vv/xxr9dlwd5lx3_s4nm4vw3nj5ggqq15/T/ipykernel_59409/500708818.py:6: DeprecationWarning: invalid escape sequence \\w\n",
      "  df_lda['text_processed_cleaned'] = df_lda['text_processed_cleaned'].map(lambda x: re.sub('#\\w+|\\w+-\\w+', '', x))\n",
      "/var/folders/vv/xxr9dlwd5lx3_s4nm4vw3nj5ggqq15/T/ipykernel_59409/500708818.py:8: DeprecationWarning: invalid escape sequence \\w\n",
      "  df_lda['text_processed_cleaned'] = df_lda['text_processed_cleaned'].map(lambda x: re.sub('@\\w+|\\w+-\\w+', '', x))\n"
     ]
    },
    {
     "data": {
      "text/html": [
       "<div>\n",
       "<style scoped>\n",
       "    .dataframe tbody tr th:only-of-type {\n",
       "        vertical-align: middle;\n",
       "    }\n",
       "\n",
       "    .dataframe tbody tr th {\n",
       "        vertical-align: top;\n",
       "    }\n",
       "\n",
       "    .dataframe thead th {\n",
       "        text-align: right;\n",
       "    }\n",
       "</style>\n",
       "<table border=\"1\" class=\"dataframe\">\n",
       "  <thead>\n",
       "    <tr style=\"text-align: right;\">\n",
       "      <th></th>\n",
       "      <th>text</th>\n",
       "      <th>text_processed_cleaned</th>\n",
       "    </tr>\n",
       "  </thead>\n",
       "  <tbody>\n",
       "    <tr>\n",
       "      <th>0</th>\n",
       "      <td>@T1gmee Tinder Swindler, off Netflix</td>\n",
       "      <td>tinder swindler off netflix</td>\n",
       "    </tr>\n",
       "    <tr>\n",
       "      <th>1</th>\n",
       "      <td>#tinderswindler , basically homeboy got away w...</td>\n",
       "      <td>basically homeboy got away with it</td>\n",
       "    </tr>\n",
       "    <tr>\n",
       "      <th>2</th>\n",
       "      <td>Not the tinder swindler becoming a TIk Tok sta...</td>\n",
       "      <td>not the tinder swindler becoming a tik tok star</td>\n",
       "    </tr>\n",
       "    <tr>\n",
       "      <th>3</th>\n",
       "      <td>Why isn’t Shimon Hayut in jail ????? #thetinde...</td>\n",
       "      <td>why isn’t shimon hayut in jail</td>\n",
       "    </tr>\n",
       "    <tr>\n",
       "      <th>4</th>\n",
       "      <td>the tinder swindler a sick nigga 😂😂</td>\n",
       "      <td>the tinder swindler a sick nigga</td>\n",
       "    </tr>\n",
       "  </tbody>\n",
       "</table>\n",
       "</div>"
      ],
      "text/plain": [
       "                                                text  \\\n",
       "0               @T1gmee Tinder Swindler, off Netflix   \n",
       "1  #tinderswindler , basically homeboy got away w...   \n",
       "2  Not the tinder swindler becoming a TIk Tok sta...   \n",
       "3  Why isn’t Shimon Hayut in jail ????? #thetinde...   \n",
       "4                the tinder swindler a sick nigga 😂😂   \n",
       "\n",
       "                              text_processed_cleaned  \n",
       "0                        tinder swindler off netflix  \n",
       "1                 basically homeboy got away with it  \n",
       "2  not the tinder swindler becoming a tik tok star    \n",
       "3                   why isn’t shimon hayut in jail    \n",
       "4                  the tinder swindler a sick nigga   "
      ]
     },
     "execution_count": 65,
     "metadata": {},
     "output_type": "execute_result"
    }
   ],
   "source": [
    "# prepare text for lda model\n",
    "df_lda = pd.DataFrame(df_sample['text'], columns=[\"text\"])\n",
    "# Remove punctuation\n",
    "df_lda['text_processed_cleaned'] = df_lda['text'].map(lambda x: re.sub('[,\\.!?\\n]', '', x))\n",
    "# Remove hashtags\n",
    "df_lda['text_processed_cleaned'] = df_lda['text_processed_cleaned'].map(lambda x: re.sub('#\\w+|\\w+-\\w+', '', x))\n",
    "# Remove annotations\n",
    "df_lda['text_processed_cleaned'] = df_lda['text_processed_cleaned'].map(lambda x: re.sub('@\\w+|\\w+-\\w+', '', x))\n",
    "# Remove emojis\n",
    "df_lda['text_processed_cleaned'] = df_lda['text_processed_cleaned'].map(lambda x: \"\".join([c for c in x if c not in emoji.UNICODE_EMOJI]))\n",
    "# Remove linebreaks\n",
    "df_lda['text_processed_cleaned'] = df_lda['text_processed_cleaned'].map(lambda x: x.replace('\\n', ' '))\n",
    "# Convert the titles to lowercase\n",
    "df_lda['text_processed_cleaned'] = df_lda['text_processed_cleaned'].map(lambda x: x.lower())\n",
    "# Print out the first rows of df_lda\n",
    "df_lda.head()"
   ]
  },
  {
   "cell_type": "markdown",
   "metadata": {},
   "source": [
    "#### Tokenize text"
   ]
  },
  {
   "cell_type": "code",
   "execution_count": 66,
   "metadata": {},
   "outputs": [
    {
     "name": "stderr",
     "output_type": "stream",
     "text": [
      "/Users/akneis/git/notebooks/text-analytics/lib/python3.8/site-packages/gensim/matutils.py:24: DeprecationWarning: Please use `triu` from the `scipy.linalg` namespace, the `scipy.linalg.special_matrices` namespace is deprecated.\n",
      "  from scipy.linalg.special_matrices import triu\n"
     ]
    },
    {
     "name": "stdout",
     "output_type": "stream",
     "text": [
      "['basically', 'homeboy', 'got', 'away', 'with', 'it']\n"
     ]
    }
   ],
   "source": [
    "\n",
    "import gensim\n",
    "from gensim.utils import simple_preprocess\n",
    "\n",
    "def sent_to_words(sentences):\n",
    "    for sentence in sentences:\n",
    "        yield(gensim.utils.simple_preprocess(str(sentence), deacc=True))  # deacc=True removes punctuations\n",
    "data = df_lda.text_processed_cleaned.values.tolist()\n",
    "data_words = list(sent_to_words(data))\n",
    "\n",
    "print(data_words[:2][1][:30])"
   ]
  },
  {
   "cell_type": "markdown",
   "metadata": {},
   "source": [
    "#### Buil bigrams and trigrams models"
   ]
  },
  {
   "cell_type": "code",
   "execution_count": 67,
   "metadata": {},
   "outputs": [],
   "source": [
    "# Build the bigram and trigram models\n",
    "bigram = gensim.models.Phrases(data_words, min_count=5, threshold=100) # higher threshold fewer phrases.\n",
    "trigram = gensim.models.Phrases(bigram[data_words], threshold=100)\n",
    "# Faster way to get a sentence clubbed as a trigram/bigram\n",
    "bigram_mod = gensim.models.phrases.Phraser(bigram)\n",
    "trigram_mod = gensim.models.phrases.Phraser(trigram)"
   ]
  },
  {
   "cell_type": "markdown",
   "metadata": {},
   "source": [
    "#### Remove Stopwords, Make Bigrams and Lemmatize"
   ]
  },
  {
   "cell_type": "code",
   "execution_count": 68,
   "metadata": {},
   "outputs": [],
   "source": [
    "# Define functions for stopwords, bigrams, trigrams and lemmatization\n",
    "def remove_stopwords(texts):\n",
    "    return [[word for word in simple_preprocess(str(doc)) if word not in stop_words] for doc in texts]\n",
    "def make_bigrams(texts):\n",
    "    return [bigram_mod[doc] for doc in texts]\n",
    "def make_trigrams(texts):\n",
    "    return [trigram_mod[bigram_mod[doc]] for doc in texts]\n",
    "def lemmatization(texts, allowed_postags=['NOUN', 'ADJ', 'VERB', 'ADV']):\n",
    "    \"\"\"https://spacy.io/api/annotation\"\"\"\n",
    "    texts_out = []\n",
    "    for sent in texts:\n",
    "        doc = nlp(\" \".join(sent)) \n",
    "        texts_out.append([token.lemma_ for token in doc if token.pos_ in allowed_postags])\n",
    "    return texts_out"
   ]
  },
  {
   "cell_type": "code",
   "execution_count": 69,
   "metadata": {},
   "outputs": [
    {
     "name": "stdout",
     "output_type": "stream",
     "text": [
      "[['tinder', 'swindler']]\n"
     ]
    }
   ],
   "source": [
    "# Remove Stop Words\n",
    "data_words_nostops = remove_stopwords(data_words)\n",
    "# Form Bigrams\n",
    "data_words_bigrams = make_bigrams(data_words_nostops)\n",
    "# Do lemmatization keeping only noun, adj, vb, adv\n",
    "data_lemmatized = lemmatization(data_words_bigrams, allowed_postags=['NOUN', 'ADJ', 'VERB', 'ADV'])\n",
    "\n",
    "print(data_lemmatized[:1])"
   ]
  },
  {
   "cell_type": "markdown",
   "metadata": {},
   "source": [
    "#### Data Transformation: Corpus and Dictionary"
   ]
  },
  {
   "cell_type": "code",
   "execution_count": 70,
   "metadata": {},
   "outputs": [
    {
     "name": "stdout",
     "output_type": "stream",
     "text": [
      "[[(0, 1), (1, 1)]]\n"
     ]
    }
   ],
   "source": [
    "import gensim.corpora as corpora\n",
    "# Create Dictionary\n",
    "id2word = corpora.Dictionary(data_lemmatized)\n",
    "# Create Corpus\n",
    "texts = data_lemmatized\n",
    "# Term Document Frequency\n",
    "corpus = [id2word.doc2bow(text) for text in texts]\n",
    "# View\n",
    "print(corpus[:1])"
   ]
  },
  {
   "cell_type": "code",
   "execution_count": 71,
   "metadata": {},
   "outputs": [],
   "source": [
    "num_topics = 6"
   ]
  },
  {
   "cell_type": "code",
   "execution_count": 72,
   "metadata": {},
   "outputs": [],
   "source": [
    "# Build LDA model\n",
    "lda_model = gensim.models.LdaMulticore(corpus=corpus,\n",
    "                                       id2word=id2word,\n",
    "                                       num_topics=num_topics, \n",
    "                                       random_state=100,\n",
    "                                       chunksize=100,\n",
    "                                       passes=10,\n",
    "                                       per_word_topics=True)"
   ]
  },
  {
   "cell_type": "code",
   "execution_count": 73,
   "metadata": {},
   "outputs": [
    {
     "name": "stdout",
     "output_type": "stream",
     "text": [
      "[(0,\n",
      "  '0.056*\"girl\" + 0.030*\"enemy\" + 0.021*\"get\" + 0.018*\"say\" + 0.017*\"sorry\" + '\n",
      "  '0.013*\"send\" + 0.013*\"go\" + 0.012*\"level\" + 0.012*\"whole\" + 0.012*\"money\"'),\n",
      " (1,\n",
      "  '0.053*\"still\" + 0.033*\"woman\" + 0.033*\"life\" + 0.031*\"man\" + 0.025*\"live\" + '\n",
      "  '0.023*\"pay\" + 0.021*\"free\" + 0.020*\"end\" + 0.020*\"believe\" + 0.017*\"guy\"'),\n",
      " (2,\n",
      "  '0.234*\"tinder\" + 0.232*\"swindler\" + 0.124*\"watch\" + 0.021*\"netflix\" + '\n",
      "  '0.018*\"documentary\" + 0.011*\"see\" + 0.010*\"go\" + 0.009*\"guy\" + '\n",
      "  '0.008*\"finish\" + 0.008*\"movie\"'),\n",
      " (3,\n",
      "  '0.043*\"man\" + 0.040*\"money\" + 0.040*\"take\" + 0.035*\"loan\" + 0.028*\"give\" + '\n",
      "  '0.025*\"ask\" + 0.022*\"woman\" + 0.019*\"never\" + 0.017*\"billionaire\" + '\n",
      "  '0.013*\"get\"'),\n",
      " (4,\n",
      "  '0.049*\"woman\" + 0.032*\"love\" + 0.020*\"people\" + 0.018*\"bad\" + 0.018*\"show\" '\n",
      "  '+ 0.017*\"feel\" + 0.016*\"go\" + 0.016*\"scamme\" + 0.015*\"date\" + 0.014*\"scam\"'),\n",
      " (5,\n",
      "  '0.126*\"swindler\" + 0.119*\"tinder\" + 0.030*\"wild\" + 0.028*\"crazy\" + '\n",
      "  '0.020*\"shit\" + 0.017*\"see\" + 0.017*\"story\" + 0.014*\"actually\" + '\n",
      "  '0.012*\"dumb\" + 0.012*\"lol\"')]\n"
     ]
    }
   ],
   "source": [
    "# Print the Keyword in the 10 topics\n",
    "pprint(lda_model.print_topics())\n",
    "doc_lda = lda_model[corpus]"
   ]
  },
  {
   "cell_type": "code",
   "execution_count": 74,
   "metadata": {},
   "outputs": [
    {
     "name": "stdout",
     "output_type": "stream",
     "text": [
      "\n",
      "Coherence Score:  0.3515453198249037\n"
     ]
    }
   ],
   "source": [
    "from gensim.models import CoherenceModel\n",
    "# Compute Coherence Score\n",
    "coherence_model_lda = CoherenceModel(model=lda_model, texts=data_lemmatized, dictionary=id2word, coherence='c_v')\n",
    "coherence_lda = coherence_model_lda.get_coherence()\n",
    "print('\\nCoherence Score: ', coherence_lda)"
   ]
  },
  {
   "cell_type": "markdown",
   "metadata": {},
   "source": [
    "#### Calculate Coherence Score"
   ]
  },
  {
   "cell_type": "code",
   "execution_count": 75,
   "metadata": {},
   "outputs": [],
   "source": [
    "from gensim import models\n",
    "\n",
    "def compute_coherence_values(dictionary, corpus, texts, limit, start=2, step=1):\n",
    "    \"\"\"\n",
    "    Compute c_v coherence for various number of topics\n",
    "\n",
    "    Parameters:\n",
    "    ----------\n",
    "    dictionary : Gensim dictionary\n",
    "    corpus : Gensim corpus\n",
    "    texts : List of input texts\n",
    "    limit : Max num of topics\n",
    "\n",
    "    Returns:\n",
    "    -------\n",
    "    model_list : List of LDA topic models\n",
    "    coherence_values : Coherence values corresponding to the LDA model with respective number of topics\n",
    "    \"\"\"\n",
    "    coherence_values = []\n",
    "    model_list = []\n",
    "    for num_topics in range(start, limit, step):\n",
    "        model = models.ldamodel.LdaModel(corpus=corpus,\n",
    "                                           id2word=id2word,\n",
    "                                           num_topics=num_topics,\n",
    "                                           random_state=100,\n",
    "                                           chunksize=100,\n",
    "                                           passes=10) \n",
    "                                          \n",
    "        model_list.append(model)\n",
    "        coherencemodel = CoherenceModel(model=model, texts=data_lemmatized, dictionary=id2word, coherence='c_v')\n",
    "        coherence_values.append(coherencemodel.get_coherence())\n",
    "\n",
    "    return model_list, coherence_values"
   ]
  },
  {
   "cell_type": "code",
   "execution_count": 76,
   "metadata": {},
   "outputs": [
    {
     "ename": "KeyboardInterrupt",
     "evalue": "",
     "output_type": "error",
     "traceback": [
      "\u001b[0;31m---------------------------------------------------------------------------\u001b[0m",
      "\u001b[0;31mKeyboardInterrupt\u001b[0m                         Traceback (most recent call last)",
      "\u001b[1;32m/Users/akneis/git/notebooks/text-analytics/tinder_swindler_tweets_analysis/tinder_swindler.ipynb Zelle 91\u001b[0m in \u001b[0;36m<cell line: 1>\u001b[0;34m()\u001b[0m\n\u001b[0;32m----> <a href='vscode-notebook-cell:/Users/akneis/git/notebooks/text-analytics/tinder_swindler_tweets_analysis/tinder_swindler.ipynb#Y156sZmlsZQ%3D%3D?line=0'>1</a>\u001b[0m model_list, coherence_values \u001b[39m=\u001b[39m compute_coherence_values(dictionary\u001b[39m=\u001b[39;49mid2word, corpus\u001b[39m=\u001b[39;49mcorpus, texts\u001b[39m=\u001b[39;49mdata_lemmatized, start\u001b[39m=\u001b[39;49m\u001b[39m2\u001b[39;49m, limit\u001b[39m=\u001b[39;49m\u001b[39m20\u001b[39;49m, step\u001b[39m=\u001b[39;49m\u001b[39m1\u001b[39;49m)\n\u001b[1;32m      <a href='vscode-notebook-cell:/Users/akneis/git/notebooks/text-analytics/tinder_swindler_tweets_analysis/tinder_swindler.ipynb#Y156sZmlsZQ%3D%3D?line=1'>2</a>\u001b[0m \u001b[39m# Show graph\u001b[39;00m\n\u001b[1;32m      <a href='vscode-notebook-cell:/Users/akneis/git/notebooks/text-analytics/tinder_swindler_tweets_analysis/tinder_swindler.ipynb#Y156sZmlsZQ%3D%3D?line=2'>3</a>\u001b[0m limit\u001b[39m=\u001b[39m\u001b[39m20\u001b[39m; start\u001b[39m=\u001b[39m\u001b[39m2\u001b[39m; step\u001b[39m=\u001b[39m\u001b[39m1\u001b[39m;\n",
      "\u001b[1;32m/Users/akneis/git/notebooks/text-analytics/tinder_swindler_tweets_analysis/tinder_swindler.ipynb Zelle 91\u001b[0m in \u001b[0;36mcompute_coherence_values\u001b[0;34m(dictionary, corpus, texts, limit, start, step)\u001b[0m\n\u001b[1;32m     <a href='vscode-notebook-cell:/Users/akneis/git/notebooks/text-analytics/tinder_swindler_tweets_analysis/tinder_swindler.ipynb#Y156sZmlsZQ%3D%3D?line=19'>20</a>\u001b[0m model_list \u001b[39m=\u001b[39m []\n\u001b[1;32m     <a href='vscode-notebook-cell:/Users/akneis/git/notebooks/text-analytics/tinder_swindler_tweets_analysis/tinder_swindler.ipynb#Y156sZmlsZQ%3D%3D?line=20'>21</a>\u001b[0m \u001b[39mfor\u001b[39;00m num_topics \u001b[39min\u001b[39;00m \u001b[39mrange\u001b[39m(start, limit, step):\n\u001b[0;32m---> <a href='vscode-notebook-cell:/Users/akneis/git/notebooks/text-analytics/tinder_swindler_tweets_analysis/tinder_swindler.ipynb#Y156sZmlsZQ%3D%3D?line=21'>22</a>\u001b[0m     model \u001b[39m=\u001b[39m models\u001b[39m.\u001b[39;49mldamodel\u001b[39m.\u001b[39;49mLdaModel(corpus\u001b[39m=\u001b[39;49mcorpus,\n\u001b[1;32m     <a href='vscode-notebook-cell:/Users/akneis/git/notebooks/text-analytics/tinder_swindler_tweets_analysis/tinder_swindler.ipynb#Y156sZmlsZQ%3D%3D?line=22'>23</a>\u001b[0m                                        id2word\u001b[39m=\u001b[39;49mid2word,\n\u001b[1;32m     <a href='vscode-notebook-cell:/Users/akneis/git/notebooks/text-analytics/tinder_swindler_tweets_analysis/tinder_swindler.ipynb#Y156sZmlsZQ%3D%3D?line=23'>24</a>\u001b[0m                                        num_topics\u001b[39m=\u001b[39;49mnum_topics,\n\u001b[1;32m     <a href='vscode-notebook-cell:/Users/akneis/git/notebooks/text-analytics/tinder_swindler_tweets_analysis/tinder_swindler.ipynb#Y156sZmlsZQ%3D%3D?line=24'>25</a>\u001b[0m                                        random_state\u001b[39m=\u001b[39;49m\u001b[39m100\u001b[39;49m,\n\u001b[1;32m     <a href='vscode-notebook-cell:/Users/akneis/git/notebooks/text-analytics/tinder_swindler_tweets_analysis/tinder_swindler.ipynb#Y156sZmlsZQ%3D%3D?line=25'>26</a>\u001b[0m                                        chunksize\u001b[39m=\u001b[39;49m\u001b[39m100\u001b[39;49m,\n\u001b[1;32m     <a href='vscode-notebook-cell:/Users/akneis/git/notebooks/text-analytics/tinder_swindler_tweets_analysis/tinder_swindler.ipynb#Y156sZmlsZQ%3D%3D?line=26'>27</a>\u001b[0m                                        passes\u001b[39m=\u001b[39;49m\u001b[39m10\u001b[39;49m) \n\u001b[1;32m     <a href='vscode-notebook-cell:/Users/akneis/git/notebooks/text-analytics/tinder_swindler_tweets_analysis/tinder_swindler.ipynb#Y156sZmlsZQ%3D%3D?line=28'>29</a>\u001b[0m     model_list\u001b[39m.\u001b[39mappend(model)\n\u001b[1;32m     <a href='vscode-notebook-cell:/Users/akneis/git/notebooks/text-analytics/tinder_swindler_tweets_analysis/tinder_swindler.ipynb#Y156sZmlsZQ%3D%3D?line=29'>30</a>\u001b[0m     coherencemodel \u001b[39m=\u001b[39m CoherenceModel(model\u001b[39m=\u001b[39mmodel, texts\u001b[39m=\u001b[39mdata_lemmatized, dictionary\u001b[39m=\u001b[39mid2word, coherence\u001b[39m=\u001b[39m\u001b[39m'\u001b[39m\u001b[39mc_v\u001b[39m\u001b[39m'\u001b[39m)\n",
      "File \u001b[0;32m~/git/notebooks/text-analytics/lib/python3.8/site-packages/gensim/models/ldamodel.py:519\u001b[0m, in \u001b[0;36mLdaModel.__init__\u001b[0;34m(self, corpus, num_topics, id2word, distributed, chunksize, passes, update_every, alpha, eta, decay, offset, eval_every, iterations, gamma_threshold, minimum_probability, random_state, ns_conf, minimum_phi_value, per_word_topics, callbacks, dtype)\u001b[0m\n\u001b[1;32m    517\u001b[0m \u001b[39mif\u001b[39;00m corpus \u001b[39mis\u001b[39;00m \u001b[39mnot\u001b[39;00m \u001b[39mNone\u001b[39;00m:\n\u001b[1;32m    518\u001b[0m     use_numpy \u001b[39m=\u001b[39m \u001b[39mself\u001b[39m\u001b[39m.\u001b[39mdispatcher \u001b[39mis\u001b[39;00m \u001b[39mnot\u001b[39;00m \u001b[39mNone\u001b[39;00m\n\u001b[0;32m--> 519\u001b[0m     \u001b[39mself\u001b[39;49m\u001b[39m.\u001b[39;49mupdate(corpus, chunks_as_numpy\u001b[39m=\u001b[39;49muse_numpy)\n",
      "File \u001b[0;32m~/git/notebooks/text-analytics/lib/python3.8/site-packages/gensim/models/ldamodel.py:980\u001b[0m, in \u001b[0;36mLdaModel.update\u001b[0;34m(self, corpus, chunksize, decay, offset, passes, update_every, eval_every, iterations, gamma_threshold, chunks_as_numpy)\u001b[0m\n\u001b[1;32m    975\u001b[0m \u001b[39melse\u001b[39;00m:\n\u001b[1;32m    976\u001b[0m     logger\u001b[39m.\u001b[39minfo(\n\u001b[1;32m    977\u001b[0m         \u001b[39m\"\u001b[39m\u001b[39mPROGRESS: pass \u001b[39m\u001b[39m%i\u001b[39;00m\u001b[39m, at document #\u001b[39m\u001b[39m%i\u001b[39;00m\u001b[39m/\u001b[39m\u001b[39m%i\u001b[39;00m\u001b[39m\"\u001b[39m,\n\u001b[1;32m    978\u001b[0m         pass_, chunk_no \u001b[39m*\u001b[39m chunksize \u001b[39m+\u001b[39m \u001b[39mlen\u001b[39m(chunk), lencorpus\n\u001b[1;32m    979\u001b[0m     )\n\u001b[0;32m--> 980\u001b[0m     gammat \u001b[39m=\u001b[39m \u001b[39mself\u001b[39;49m\u001b[39m.\u001b[39;49mdo_estep(chunk, other)\n\u001b[1;32m    982\u001b[0m     \u001b[39mif\u001b[39;00m \u001b[39mself\u001b[39m\u001b[39m.\u001b[39moptimize_alpha:\n\u001b[1;32m    983\u001b[0m         \u001b[39mself\u001b[39m\u001b[39m.\u001b[39mupdate_alpha(gammat, rho())\n",
      "File \u001b[0;32m~/git/notebooks/text-analytics/lib/python3.8/site-packages/gensim/models/ldamodel.py:742\u001b[0m, in \u001b[0;36mLdaModel.do_estep\u001b[0;34m(self, chunk, state)\u001b[0m\n\u001b[1;32m    740\u001b[0m \u001b[39mif\u001b[39;00m state \u001b[39mis\u001b[39;00m \u001b[39mNone\u001b[39;00m:\n\u001b[1;32m    741\u001b[0m     state \u001b[39m=\u001b[39m \u001b[39mself\u001b[39m\u001b[39m.\u001b[39mstate\n\u001b[0;32m--> 742\u001b[0m gamma, sstats \u001b[39m=\u001b[39m \u001b[39mself\u001b[39;49m\u001b[39m.\u001b[39;49minference(chunk, collect_sstats\u001b[39m=\u001b[39;49m\u001b[39mTrue\u001b[39;49;00m)\n\u001b[1;32m    743\u001b[0m state\u001b[39m.\u001b[39msstats \u001b[39m+\u001b[39m\u001b[39m=\u001b[39m sstats\n\u001b[1;32m    744\u001b[0m state\u001b[39m.\u001b[39mnumdocs \u001b[39m+\u001b[39m\u001b[39m=\u001b[39m gamma\u001b[39m.\u001b[39mshape[\u001b[39m0\u001b[39m]  \u001b[39m# avoids calling len(chunk) on a generator\u001b[39;00m\n",
      "File \u001b[0;32m~/git/notebooks/text-analytics/lib/python3.8/site-packages/gensim/models/ldamodel.py:707\u001b[0m, in \u001b[0;36mLdaModel.inference\u001b[0;34m(self, chunk, collect_sstats)\u001b[0m\n\u001b[1;32m    703\u001b[0m     \u001b[39massert\u001b[39;00m gammad\u001b[39m.\u001b[39mdtype \u001b[39m==\u001b[39m \u001b[39mself\u001b[39m\u001b[39m.\u001b[39mdtype\n\u001b[1;32m    704\u001b[0m     \u001b[39mif\u001b[39;00m collect_sstats:\n\u001b[1;32m    705\u001b[0m         \u001b[39m# Contribution of document d to the expected sufficient\u001b[39;00m\n\u001b[1;32m    706\u001b[0m         \u001b[39m# statistics for the M step.\u001b[39;00m\n\u001b[0;32m--> 707\u001b[0m         sstats[:, ids] \u001b[39m+\u001b[39m\u001b[39m=\u001b[39m np\u001b[39m.\u001b[39;49mouter(expElogthetad\u001b[39m.\u001b[39;49mT, cts \u001b[39m/\u001b[39;49m phinorm)\n\u001b[1;32m    709\u001b[0m \u001b[39mif\u001b[39;00m \u001b[39mlen\u001b[39m(chunk) \u001b[39m>\u001b[39m \u001b[39m1\u001b[39m:\n\u001b[1;32m    710\u001b[0m     logger\u001b[39m.\u001b[39mdebug(\u001b[39m\"\u001b[39m\u001b[39m%i\u001b[39;00m\u001b[39m/\u001b[39m\u001b[39m%i\u001b[39;00m\u001b[39m documents converged within \u001b[39m\u001b[39m%i\u001b[39;00m\u001b[39m iterations\u001b[39m\u001b[39m\"\u001b[39m, converged, \u001b[39mlen\u001b[39m(chunk), \u001b[39mself\u001b[39m\u001b[39m.\u001b[39miterations)\n",
      "File \u001b[0;32m<__array_function__ internals>:180\u001b[0m, in \u001b[0;36mouter\u001b[0;34m(*args, **kwargs)\u001b[0m\n",
      "File \u001b[0;32m~/git/notebooks/text-analytics/lib/python3.8/site-packages/numpy/core/numeric.py:851\u001b[0m, in \u001b[0;36mouter\u001b[0;34m(a, b, out)\u001b[0m\n\u001b[1;32m    847\u001b[0m \u001b[39mdef\u001b[39;00m \u001b[39m_outer_dispatcher\u001b[39m(a, b, out\u001b[39m=\u001b[39m\u001b[39mNone\u001b[39;00m):\n\u001b[1;32m    848\u001b[0m     \u001b[39mreturn\u001b[39;00m (a, b, out)\n\u001b[0;32m--> 851\u001b[0m \u001b[39m@array_function_dispatch\u001b[39m(_outer_dispatcher)\n\u001b[1;32m    852\u001b[0m \u001b[39mdef\u001b[39;00m \u001b[39mouter\u001b[39m(a, b, out\u001b[39m=\u001b[39m\u001b[39mNone\u001b[39;00m):\n\u001b[1;32m    853\u001b[0m     \u001b[39m\"\"\"\u001b[39;00m\n\u001b[1;32m    854\u001b[0m \u001b[39m    Compute the outer product of two vectors.\u001b[39;00m\n\u001b[1;32m    855\u001b[0m \n\u001b[0;32m   (...)\u001b[0m\n\u001b[1;32m    932\u001b[0m \n\u001b[1;32m    933\u001b[0m \u001b[39m    \"\"\"\u001b[39;00m\n\u001b[1;32m    934\u001b[0m     a \u001b[39m=\u001b[39m asarray(a)\n",
      "File \u001b[0;32m_pydevd_bundle/pydevd_cython.pyx:1366\u001b[0m, in \u001b[0;36m_pydevd_bundle.pydevd_cython.SafeCallWrapper.__call__\u001b[0;34m()\u001b[0m\n",
      "File \u001b[0;32m_pydevd_bundle/pydevd_cython.pyx:1667\u001b[0m, in \u001b[0;36m_pydevd_bundle.pydevd_cython.ThreadTracer.__call__\u001b[0;34m()\u001b[0m\n",
      "File \u001b[0;32m~/git/notebooks/text-analytics/lib/python3.8/site-packages/debugpy/_vendored/pydevd/_pydev_bundle/pydev_is_thread_alive.py:9\u001b[0m, in \u001b[0;36mis_thread_alive\u001b[0;34m(t)\u001b[0m\n\u001b[1;32m      6\u001b[0m _temp \u001b[39m=\u001b[39m threading\u001b[39m.\u001b[39mThread()\n\u001b[1;32m      7\u001b[0m \u001b[39mif\u001b[39;00m \u001b[39mhasattr\u001b[39m(_temp, \u001b[39m'\u001b[39m\u001b[39m_is_stopped\u001b[39m\u001b[39m'\u001b[39m):  \u001b[39m# Python 3.x has this\u001b[39;00m\n\u001b[0;32m----> 9\u001b[0m     \u001b[39mdef\u001b[39;00m \u001b[39mis_thread_alive\u001b[39m(t):\n\u001b[1;32m     10\u001b[0m         \u001b[39mreturn\u001b[39;00m \u001b[39mnot\u001b[39;00m t\u001b[39m.\u001b[39m_is_stopped\n\u001b[1;32m     12\u001b[0m \u001b[39melif\u001b[39;00m \u001b[39mhasattr\u001b[39m(_temp, \u001b[39m'\u001b[39m\u001b[39m_Thread__stopped\u001b[39m\u001b[39m'\u001b[39m):  \u001b[39m# Python 2.x has this\u001b[39;00m\n",
      "\u001b[0;31mKeyboardInterrupt\u001b[0m: "
     ]
    }
   ],
   "source": [
    "model_list, coherence_values = compute_coherence_values(dictionary=id2word, corpus=corpus, texts=data_lemmatized, start=2, limit=20, step=1)\n",
    "# Show graph\n",
    "limit=20; start=2; step=1;\n",
    "x = range(start, limit, step)\n",
    "plt.plot(x, coherence_values)\n",
    "plt.xlabel(\"Num Topics\")\n",
    "plt.ylabel(\"Coherence score\")\n",
    "plt.legend((\"coherence_values\"), loc='best')\n",
    "plt.show()\n",
    "\n",
    "# Print the coherence scores\n",
    "for m, cv in zip(x, coherence_values):\n",
    "    print(\"Num Topics =\", m, \" has Coherence Value of\", round(cv, 4))"
   ]
  },
  {
   "cell_type": "code",
   "execution_count": 77,
   "metadata": {},
   "outputs": [
    {
     "name": "stderr",
     "output_type": "stream",
     "text": [
      "/Users/akneis/git/notebooks/text-analytics/lib/python3.8/site-packages/pyLDAvis/_prepare.py:246: FutureWarning: In a future version of pandas all arguments of DataFrame.drop except for the argument 'labels' will be keyword-only.\n",
      "  default_term_info = default_term_info.sort_values(\n"
     ]
    },
    {
     "data": {
      "text/html": [
       "\n",
       "<link rel=\"stylesheet\" type=\"text/css\" href=\"https://cdn.jsdelivr.net/gh/bmabey/pyLDAvis@3.3.1/pyLDAvis/js/ldavis.v1.0.0.css\">\n",
       "\n",
       "\n",
       "<div id=\"ldavis_el594091403367955851046999627521\"></div>\n",
       "<script type=\"text/javascript\">\n",
       "\n",
       "var ldavis_el594091403367955851046999627521_data = {\"mdsDat\": {\"x\": [0.31343909678259213, -0.15339385993872448, 0.26361778316620027, -0.15531141458167516, -0.11471794139036776, -0.15363366403802517], \"y\": [-0.03530646038168122, -0.10053900061972101, 0.007913746202631822, -0.032502754790527666, 0.3381214872591049, -0.17768701766980718], \"topics\": [1, 2, 3, 4, 5, 6], \"cluster\": [1, 1, 1, 1, 1, 1], \"Freq\": [27.988806929719455, 17.219575243773008, 15.334259135496872, 14.531239556145817, 13.222792414165244, 11.703326720699602]}, \"tinfo\": {\"Term\": [\"swindler\", \"tinder\", \"watch\", \"still\", \"girl\", \"take\", \"money\", \"loan\", \"woman\", \"love\", \"man\", \"life\", \"wild\", \"give\", \"crazy\", \"ask\", \"netflix\", \"enemy\", \"live\", \"pay\", \"shit\", \"free\", \"end\", \"believe\", \"billionaire\", \"never\", \"bad\", \"show\", \"feel\", \"scamme\", \"watch\", \"netflix\", \"finish\", \"true\", \"yet\", \"interesting\", \"sad\", \"finally\", \"arrest\", \"tonight\", \"full\", \"star\", \"currently\", \"night\", \"wanna\", \"note\", \"write\", \"suppose\", \"yesterday\", \"weekend\", \"sympathy\", \"female\", \"begin\", \"conman\", \"omg\", \"ball\", \"holy\", \"series\", \"delete\", \"title\", \"doc\", \"base\", \"movie\", \"ban\", \"tinder\", \"swindler\", \"documentary\", \"worth\", \"today\", \"great\", \"boy\", \"see\", \"let\", \"good\", \"swindle\", \"go\", \"start\", \"guy\", \"story\", \"time\", \"think\", \"need\", \"make\", \"say\", \"new\", \"look\", \"get\", \"call\", \"really\", \"thing\", \"take\", \"loan\", \"ask\", \"give\", \"billionaire\", \"spend\", \"hear\", \"car\", \"son\", \"maybe\", \"pawn\", \"credit_card\", \"cash\", \"friend\", \"buy\", \"borrow\", \"family\", \"diamond\", \"save\", \"boyfriend\", \"reason\", \"become\", \"soon\", \"defraud\", \"shake\", \"card\", \"amount\", \"picture\", \"moment\", \"madness\", \"money\", \"imagine\", \"never\", \"man\", \"name\", \"account\", \"even\", \"trust\", \"meet\", \"help\", \"way\", \"tell\", \"know\", \"woman\", \"time\", \"get\", \"guy\", \"say\", \"much\", \"ever\", \"use\", \"need\", \"date\", \"go\", \"see\", \"girl\", \"first\", \"wild\", \"crazy\", \"shit\", \"dumb\", \"mad\", \"lie\", \"min\", \"babe\", \"shocking\", \"funny\", \"finesse\", \"actually\", \"finished\", \"hilarious\", \"mess\", \"lol\", \"true_crime\", \"sick\", \"reaction\", \"amazing\", \"post\", \"recommend\", \"honestly\", \"ride\", \"nigerian\", \"af\", \"side\", \"stress\", \"old\", \"nut\", \"fucking\", \"happen\", \"tindler\", \"hell\", \"bitch\", \"turn\", \"story\", \"swindler\", \"tinder\", \"check\", \"see\", \"fuck\", \"ever\", \"documentary\", \"thing\", \"dude\", \"woman\", \"guy\", \"people\", \"man\", \"go\", \"get\", \"even\", \"love\", \"show\", \"scamme\", \"bad\", \"scammer\", \"find\", \"world\", \"tinderswindler\", \"always\", \"prison\", \"question\", \"face\", \"app\", \"million\", \"least\", \"black\", \"plane\", \"private\", \"stay\", \"pull\", \"deal\", \"romance\", \"expose\", \"sleep\", \"trip\", \"act\", \"glad\", \"add\", \"desperate\", \"plan\", \"year\", \"scam\", \"sense\", \"white\", \"fall\", \"feel\", \"online\", \"date\", \"day\", \"woman\", \"people\", \"first\", \"make\", \"also\", \"use\", \"go\", \"know\", \"think\", \"look\", \"minute\", \"man\", \"really\", \"thing\", \"get\", \"say\", \"still\", \"life\", \"live\", \"pay\", \"free\", \"end\", \"debt\", \"many\", \"insane\", \"jail\", \"hope\", \"fact\", \"catch\", \"review\", \"mind\", \"gullible\", \"sound\", \"crime\", \"believe\", \"girlfriend\", \"business\", \"cecilie\", \"single\", \"walk\", \"charge\", \"scary\", \"thousand\", \"actual\", \"piece\", \"justice\", \"month\", \"real\", \"fuck\", \"man\", \"good\", \"woman\", \"victim\", \"guy\", \"con\", \"absolutely\", \"really\", \"come\", \"people\", \"back\", \"lady\", \"enemy\", \"sorry\", \"level\", \"away\", \"ass\", \"mean\", \"homeless_ke\", \"baby\", \"long\", \"follow\", \"country\", \"head\", \"break\", \"move\", \"evil\", \"ayleen\", \"clothe\", \"kill\", \"queen\", \"week\", \"pretty\", \"game\", \"catfishe\", \"hero\", \"die\", \"cecile\", \"easily\", \"one\", \"speak\", \"lesson\", \"play\", \"run\", \"girl\", \"whole\", \"send\", \"different\", \"back\", \"sell\", \"get\", \"say\", \"red_flag\", \"need\", \"go\", \"money\", \"feel\", \"woman\", \"start\", \"really\", \"guy\"], \"Freq\": [32804.0, 32676.0, 13536.0, 2730.0, 2966.0, 2664.0, 3254.0, 2372.0, 6871.0, 1800.0, 5749.0, 1676.0, 1779.0, 1856.0, 1664.0, 1694.0, 2325.0, 1353.0, 1297.0, 1186.0, 1202.0, 1075.0, 1035.0, 1036.0, 1134.0, 1609.0, 996.0, 992.0, 1344.0, 910.0, 13535.600354094202, 2324.343151142043, 925.615422148911, 550.5025230425558, 353.8714796958364, 292.20693207051823, 262.4664262417299, 244.045290029043, 170.2269035967562, 165.4177596330138, 158.62216692085977, 154.75783560115153, 149.72541498597113, 132.86884027145481, 132.32131229917138, 130.49560547482778, 122.82950295243919, 121.79476014017743, 115.49166331684178, 103.95457738437914, 101.71632670389609, 100.35860840109763, 98.58886673014636, 97.48477841478704, 96.26447528787503, 95.25830218814804, 94.43101827046212, 92.50273088084988, 91.21504994932636, 84.97478618184084, 289.3840337379243, 117.28211660121248, 925.2180232236997, 219.6975983142794, 25555.976799453878, 25278.516993151843, 2016.5136578991785, 277.461101174588, 326.3995905783612, 285.09033791372804, 255.99523718836863, 1180.652301310764, 592.1946263584323, 866.1754909577918, 571.3477876210997, 1036.9258150466699, 454.7469517099072, 1019.2791903477555, 698.2601252890028, 483.11375009884415, 575.2676461226017, 540.5919747631604, 536.7922601227687, 497.6771055235571, 339.04153286333417, 361.57394020831583, 412.3332997066056, 297.08078157737975, 301.7561855182146, 292.54890537256716, 2663.8996169205107, 2372.0582143516426, 1694.0909533559939, 1855.577919043672, 1133.9976006482977, 420.0748568853923, 354.1822820828978, 351.49227598885665, 284.8757223091389, 277.86952247558736, 242.5318304348817, 242.41255230623585, 236.22611624839587, 478.39236452994766, 226.53058200225053, 225.37335297100412, 218.57932637231332, 208.86653147502162, 205.7703924128307, 204.4984151975832, 198.86944350002508, 183.63106898656693, 180.85057334312225, 179.23461712435068, 177.7999211733641, 203.04781757884368, 169.07949656324757, 167.36142914398388, 164.34076833187373, 163.1807900928429, 2707.832457171158, 313.3695739805603, 1262.4978218429012, 2878.5520123827864, 403.2627639818501, 271.314067754687, 825.9001949322773, 272.8524057150456, 618.1859251698916, 342.8379573295559, 574.1737952674629, 583.0329299067014, 816.2779052048878, 1471.3511383759592, 574.3311874131198, 904.8650653036007, 797.2343303283455, 684.0258901325119, 435.35276688125, 374.48893049038577, 422.62168548766186, 509.5205508377762, 451.24743665073936, 492.94201563191774, 449.25204289622445, 426.46807710601564, 370.18192160415515, 1778.2994885783044, 1663.457380051777, 1201.625049337183, 737.3223676532685, 707.6521160139037, 510.0217571855268, 354.4992033294178, 328.53350442580444, 275.1634240239058, 374.4542508830521, 252.4416534923447, 817.1085611913282, 228.35395102813214, 218.45125054213875, 215.85949081983225, 728.3464660885832, 207.09530341880892, 192.7668866556124, 188.57610076671992, 189.12362252729156, 187.84770388984754, 186.11417941521637, 313.4420959680597, 189.45415813550025, 158.7554931224258, 155.19438299217248, 150.64307097359588, 148.65857758038453, 147.32130078420775, 143.2435218510045, 190.67627188562201, 458.9999791279838, 319.894565009644, 273.1108259956558, 397.7307904208661, 236.09253492805166, 991.508673828584, 7523.199430582933, 7118.42732197619, 366.8632548462373, 1037.2290290741553, 548.1831656343015, 314.5534979554622, 469.75121941013657, 372.2248812653266, 301.55424830661497, 477.06389895637653, 384.56013854306724, 347.5823541538195, 386.1803778568007, 350.41528997136726, 336.7490711556826, 316.84908041280875, 1799.8634297704536, 991.3913471800015, 909.9745686272976, 995.7277416266035, 723.8406818225054, 637.1528656000232, 445.64317208086, 416.3083668673801, 401.5971215527494, 311.29031783924097, 260.0256432296144, 222.49436073054437, 221.7689655966818, 217.5453415547717, 216.86895639924276, 192.4853585423864, 182.8038446405744, 172.36826516302898, 161.64839353843627, 153.09243504812932, 148.39340894365782, 142.2933011858496, 144.9860949954186, 131.238123800398, 130.18465972065914, 123.68387759452658, 121.98830107138022, 120.82660113039938, 119.37698404397375, 118.57597803444632, 410.76280477350906, 796.165542576385, 162.76584213534338, 188.3614944563744, 509.29861848549825, 982.8501655013439, 306.26730915072307, 826.7073272562831, 434.93263317941415, 2776.100860013339, 1108.6066589977897, 676.5800881700264, 759.3486352160493, 398.1145658195913, 464.38370197785986, 915.207115405001, 695.4286034738335, 612.382711095874, 421.03151568846016, 324.7389300756932, 710.76627487517, 439.5832029416709, 403.49008253409056, 471.7437932695633, 378.75836619476684, 2729.224280395049, 1675.6376535285726, 1296.275431341842, 1185.4219846503186, 1074.486301111679, 1034.7588029900933, 801.8211582932793, 756.3653887731158, 616.0683200241633, 537.8737450025395, 453.1816913869115, 409.526304277002, 387.0706551473376, 375.5754888601428, 302.433897894779, 301.4326139026782, 279.42454145231386, 272.4803737995882, 1032.9788598428913, 256.67372249566193, 250.02566026999312, 243.77297303770717, 240.3340910189314, 231.91764870332733, 198.88941891889462, 191.46562428705948, 187.17229950757033, 178.59289485169265, 177.2744664258487, 175.48417170352127, 835.5726189261441, 614.4755928498005, 593.9753958444381, 1609.4345926257736, 816.1657785555986, 1712.6793557179235, 520.0128997823832, 879.1960516952256, 382.13478902795606, 322.9879758682342, 516.880318832445, 387.85495189259973, 482.5554073263429, 342.7156550933092, 343.20840446313406, 1352.2474443791523, 765.5906270852855, 556.9474894886125, 508.22590242016105, 402.3459572843221, 382.6442618318082, 366.8602710694949, 336.80365597405086, 314.5159909035242, 308.7665134984377, 283.0207324755533, 264.2455186579221, 256.6757980683099, 266.3913914512978, 239.76728528498035, 238.6407036609347, 237.17362931339406, 227.1355275756316, 217.76860162919343, 217.64797683733917, 205.56825643892495, 204.86019889026025, 200.10965018744014, 194.18979902248054, 183.54069587468499, 164.11257728023236, 156.41842057151052, 144.85992837067388, 144.5257312378821, 143.10900038294602, 451.3859547345103, 385.5195950589372, 2539.3505671419716, 546.2448154290323, 615.1942522084291, 234.0396991244637, 501.2866963868087, 380.882218357628, 977.9174390155638, 810.5033074627374, 310.431033707526, 538.7467138189879, 583.6516229107826, 545.5728327829131, 355.92823791792216, 425.5505491303169, 280.52572511916765, 279.95538494419895, 276.4892004438911], \"Total\": [32804.0, 32676.0, 13536.0, 2730.0, 2966.0, 2664.0, 3254.0, 2372.0, 6871.0, 1800.0, 5749.0, 1676.0, 1779.0, 1856.0, 1664.0, 1694.0, 2325.0, 1353.0, 1297.0, 1186.0, 1202.0, 1075.0, 1035.0, 1036.0, 1134.0, 1609.0, 996.0, 992.0, 1344.0, 910.0, 13536.447839193213, 2325.190255254124, 926.4628852857853, 551.352473236965, 354.7188616044538, 293.054504619842, 263.32070406765865, 244.89161688703572, 171.08333858830233, 166.26545801853936, 159.4764816600994, 155.60800525275312, 150.57390819963211, 133.71858542557803, 133.17343543117434, 131.34659984883737, 123.68427087620513, 122.65301393405193, 116.33924667563394, 104.80178160161675, 102.57101130595115, 101.20846000014892, 99.44134692891033, 98.34091819274764, 97.11804771751942, 96.11406624887223, 95.28093922892866, 93.35054185007131, 92.06350658991163, 85.82281398584554, 294.6851661264922, 118.59761807252553, 958.569124364486, 225.80343438215507, 32676.77304827802, 32804.895009017106, 2753.0518667342862, 337.05984780873, 421.08327059279964, 357.4399714490772, 316.87965177942885, 2668.9263636087667, 1179.5679970612723, 2035.004696187582, 1184.5349043726958, 3379.5063328243405, 928.9967729443255, 3361.1843641888113, 1949.1361575578096, 1295.427781583879, 1872.1786948373167, 1666.1670320534836, 2048.66041554198, 2449.217519531302, 798.4514293528284, 1055.8607047816952, 3187.301927010625, 879.3561313745959, 2076.3389389491817, 1487.5985214582984, 2664.7369491544873, 2372.8945959084276, 1694.9274514506012, 1856.7480129623423, 1134.8343110915753, 420.91469021132946, 355.02086254650595, 352.32895600694815, 285.7121733947567, 278.707481011657, 243.36693927661634, 243.24902888638462, 237.06290532989746, 480.1233264331882, 227.36815978197515, 226.20958309212423, 219.41665582128843, 209.70418274460508, 206.609544282577, 205.33639539318114, 199.7085217069951, 184.46986237981037, 181.68831081224585, 180.0759604634916, 178.63931991520187, 204.0074472900516, 169.91724727375103, 168.19968549152722, 165.17911186295075, 164.01889052975702, 3254.067213295626, 330.2844586300471, 1609.270363443828, 5749.319985865583, 502.5745288370504, 306.4479659961082, 1433.7495492694247, 321.429528516337, 1109.6725036141402, 477.516608204698, 1145.231805630014, 1196.918358321957, 2229.4264988695245, 6871.1577298838, 1295.427781583879, 3187.301927010625, 3361.1843641888113, 2449.217519531302, 913.8925889969024, 689.7104766966042, 979.6728280562897, 1666.1670320534836, 1278.6249010044357, 3379.5063328243405, 2668.9263636087667, 2966.481061086129, 1252.551725583311, 1779.1289835820191, 1664.2877637250813, 1202.4561492396701, 738.152985833818, 708.4832306661975, 510.8539623009872, 355.3300892829065, 329.3659783588212, 275.9970593566193, 375.62100985628865, 253.27191691651865, 820.0548500470198, 229.1840339956703, 219.28117620584734, 216.69090450527958, 731.1664256672566, 207.92820510058863, 193.5983962184356, 189.405654275481, 189.95584928505374, 188.67914874322273, 186.94588483097584, 314.8718752744135, 190.33637669330918, 159.58664989290736, 156.02423744462635, 151.47394188532647, 149.49000268724714, 148.15406775080473, 144.0724154862542, 191.95020921431302, 521.1620018086733, 374.83026359672505, 311.47209164276313, 526.3731942242483, 269.0838082513307, 1949.1361575578096, 32804.895009017106, 32676.77304827802, 496.6146403728075, 2668.9263636087667, 1154.2714218471042, 689.7104766966042, 2753.0518667342862, 1487.5985214582984, 770.8241791629233, 6871.1577298838, 3361.1843641888113, 2226.5141451955988, 5749.319985865583, 3379.5063328243405, 3187.301927010625, 1433.7495492694247, 1800.700550909268, 992.2261037969649, 910.8152669512916, 996.8026346389976, 724.6743343878973, 637.9867318560975, 446.4780469285405, 417.14123264792, 402.43067119933824, 312.125671927777, 260.860172831186, 223.3284889608598, 222.6070837381607, 218.37991148413553, 217.70391301924883, 193.31821202892638, 183.63667937141201, 173.20241374419578, 162.48282171637106, 153.92658584470163, 149.22801969239836, 143.12606958385942, 145.85771922836554, 132.07234045924451, 131.01855819924444, 124.51720693978082, 122.82302536594455, 121.6612006358898, 120.21047403270634, 119.4097144245524, 418.73598409726185, 836.833403395125, 166.32688917078266, 196.5638664427201, 614.5762358413315, 1344.6759902853187, 360.9088778721208, 1278.6249010044357, 594.4561111242404, 6871.1577298838, 2226.5141451955988, 1252.551725583311, 2048.66041554198, 718.0202118904039, 979.6728280562897, 3379.5063328243405, 2229.4264988695245, 1872.1786948373167, 1055.8607047816952, 591.6749243562853, 5749.319985865583, 2076.3389389491817, 1487.5985214582984, 3187.301927010625, 2449.217519531302, 2730.059481498027, 1676.4729075005928, 1297.1100898045206, 1186.2682068702002, 1075.3203996584677, 1035.5944921044652, 802.6558394702557, 757.202338588403, 616.9038035515032, 538.7146264987036, 454.01853049982344, 410.36975271299093, 387.90660173259187, 376.41365929135935, 303.2698544961015, 302.26872651313863, 280.26192374743283, 273.3177898814441, 1036.2622373919082, 257.51080378337025, 250.86270138291616, 244.6096834240797, 241.17081883067573, 232.75217911465444, 199.72434387460692, 192.30259728541128, 188.00773003063352, 179.42890453584718, 178.1111203430512, 176.32025777492575, 1022.0323038454893, 915.2087414552723, 1154.2714218471042, 5749.319985865583, 2035.004696187582, 6871.1577298838, 999.6263661134186, 3361.1843641888113, 653.2150284363414, 474.72858890703475, 2076.3389389491817, 977.4468905101486, 2226.5141451955988, 845.5210504526349, 1194.5536175441575, 1353.0716092154055, 766.4168698829592, 557.774081004729, 509.05289520485235, 403.17852589966054, 383.50274325817674, 367.68395929822145, 337.6291922104636, 315.34262377303725, 309.5970782625035, 283.84746842478694, 265.0716170114235, 257.50230256183977, 267.25327140932313, 240.59481899292834, 239.46609231387015, 237.99771100999294, 227.96099097606174, 218.5931412095944, 218.4746042772024, 206.39532485909638, 205.68517585244697, 200.94237745999314, 195.01425591212808, 184.36650870711637, 164.93879052271836, 157.24673395565776, 145.68577568079476, 145.35524116034478, 143.93532082661855, 459.28931350869146, 400.21969282339745, 2966.481061086129, 675.7410496530351, 969.6400675135465, 265.79890329436256, 845.5210504526349, 579.749316819101, 3187.301927010625, 2449.217519531302, 438.403700405636, 1666.1670320534836, 3379.5063328243405, 3254.067213295626, 1344.6759902853187, 6871.1577298838, 928.9967729443255, 2076.3389389491817, 3361.1843641888113], \"Category\": [\"Default\", \"Default\", \"Default\", \"Default\", \"Default\", \"Default\", \"Default\", \"Default\", \"Default\", \"Default\", \"Default\", \"Default\", \"Default\", \"Default\", \"Default\", \"Default\", \"Default\", \"Default\", \"Default\", \"Default\", \"Default\", \"Default\", \"Default\", \"Default\", \"Default\", \"Default\", \"Default\", \"Default\", \"Default\", \"Default\", \"Topic1\", \"Topic1\", \"Topic1\", \"Topic1\", \"Topic1\", \"Topic1\", \"Topic1\", \"Topic1\", \"Topic1\", \"Topic1\", \"Topic1\", \"Topic1\", \"Topic1\", \"Topic1\", \"Topic1\", \"Topic1\", \"Topic1\", \"Topic1\", \"Topic1\", \"Topic1\", \"Topic1\", \"Topic1\", \"Topic1\", \"Topic1\", \"Topic1\", \"Topic1\", \"Topic1\", \"Topic1\", \"Topic1\", \"Topic1\", \"Topic1\", \"Topic1\", \"Topic1\", \"Topic1\", \"Topic1\", \"Topic1\", \"Topic1\", \"Topic1\", \"Topic1\", \"Topic1\", \"Topic1\", \"Topic1\", \"Topic1\", \"Topic1\", \"Topic1\", \"Topic1\", \"Topic1\", \"Topic1\", \"Topic1\", \"Topic1\", \"Topic1\", \"Topic1\", \"Topic1\", \"Topic1\", \"Topic1\", \"Topic1\", \"Topic1\", \"Topic1\", \"Topic1\", \"Topic1\", \"Topic2\", \"Topic2\", \"Topic2\", \"Topic2\", \"Topic2\", \"Topic2\", \"Topic2\", \"Topic2\", \"Topic2\", \"Topic2\", \"Topic2\", \"Topic2\", \"Topic2\", \"Topic2\", \"Topic2\", \"Topic2\", \"Topic2\", \"Topic2\", \"Topic2\", \"Topic2\", \"Topic2\", \"Topic2\", \"Topic2\", \"Topic2\", \"Topic2\", \"Topic2\", \"Topic2\", \"Topic2\", \"Topic2\", \"Topic2\", \"Topic2\", \"Topic2\", \"Topic2\", \"Topic2\", \"Topic2\", \"Topic2\", \"Topic2\", \"Topic2\", \"Topic2\", \"Topic2\", \"Topic2\", \"Topic2\", \"Topic2\", \"Topic2\", \"Topic2\", \"Topic2\", \"Topic2\", \"Topic2\", \"Topic2\", \"Topic2\", \"Topic2\", \"Topic2\", \"Topic2\", \"Topic2\", \"Topic2\", \"Topic2\", \"Topic2\", \"Topic3\", \"Topic3\", \"Topic3\", \"Topic3\", \"Topic3\", \"Topic3\", \"Topic3\", \"Topic3\", \"Topic3\", \"Topic3\", \"Topic3\", \"Topic3\", \"Topic3\", \"Topic3\", \"Topic3\", \"Topic3\", \"Topic3\", \"Topic3\", \"Topic3\", \"Topic3\", \"Topic3\", \"Topic3\", \"Topic3\", \"Topic3\", \"Topic3\", \"Topic3\", \"Topic3\", \"Topic3\", \"Topic3\", \"Topic3\", \"Topic3\", \"Topic3\", \"Topic3\", \"Topic3\", \"Topic3\", \"Topic3\", \"Topic3\", \"Topic3\", \"Topic3\", \"Topic3\", \"Topic3\", \"Topic3\", \"Topic3\", \"Topic3\", \"Topic3\", \"Topic3\", \"Topic3\", \"Topic3\", \"Topic3\", \"Topic3\", \"Topic3\", \"Topic3\", \"Topic3\", \"Topic4\", \"Topic4\", \"Topic4\", \"Topic4\", \"Topic4\", \"Topic4\", \"Topic4\", \"Topic4\", \"Topic4\", \"Topic4\", \"Topic4\", \"Topic4\", \"Topic4\", \"Topic4\", \"Topic4\", \"Topic4\", \"Topic4\", \"Topic4\", \"Topic4\", \"Topic4\", \"Topic4\", \"Topic4\", \"Topic4\", \"Topic4\", \"Topic4\", \"Topic4\", \"Topic4\", \"Topic4\", \"Topic4\", \"Topic4\", \"Topic4\", \"Topic4\", \"Topic4\", \"Topic4\", \"Topic4\", \"Topic4\", \"Topic4\", \"Topic4\", \"Topic4\", \"Topic4\", \"Topic4\", \"Topic4\", \"Topic4\", \"Topic4\", \"Topic4\", \"Topic4\", \"Topic4\", \"Topic4\", \"Topic4\", \"Topic4\", \"Topic4\", \"Topic4\", \"Topic4\", \"Topic4\", \"Topic4\", \"Topic5\", \"Topic5\", \"Topic5\", \"Topic5\", \"Topic5\", \"Topic5\", \"Topic5\", \"Topic5\", \"Topic5\", \"Topic5\", \"Topic5\", \"Topic5\", \"Topic5\", \"Topic5\", \"Topic5\", \"Topic5\", \"Topic5\", \"Topic5\", \"Topic5\", \"Topic5\", \"Topic5\", \"Topic5\", \"Topic5\", \"Topic5\", \"Topic5\", \"Topic5\", \"Topic5\", \"Topic5\", \"Topic5\", \"Topic5\", \"Topic5\", \"Topic5\", \"Topic5\", \"Topic5\", \"Topic5\", \"Topic5\", \"Topic5\", \"Topic5\", \"Topic5\", \"Topic5\", \"Topic5\", \"Topic5\", \"Topic5\", \"Topic5\", \"Topic5\", \"Topic6\", \"Topic6\", \"Topic6\", \"Topic6\", \"Topic6\", \"Topic6\", \"Topic6\", \"Topic6\", \"Topic6\", \"Topic6\", \"Topic6\", \"Topic6\", \"Topic6\", \"Topic6\", \"Topic6\", \"Topic6\", \"Topic6\", \"Topic6\", \"Topic6\", \"Topic6\", \"Topic6\", \"Topic6\", \"Topic6\", \"Topic6\", \"Topic6\", \"Topic6\", \"Topic6\", \"Topic6\", \"Topic6\", \"Topic6\", \"Topic6\", \"Topic6\", \"Topic6\", \"Topic6\", \"Topic6\", \"Topic6\", \"Topic6\", \"Topic6\", \"Topic6\", \"Topic6\", \"Topic6\", \"Topic6\", \"Topic6\", \"Topic6\", \"Topic6\", \"Topic6\", \"Topic6\", \"Topic6\", \"Topic6\"], \"logprob\": [30.0, 29.0, 28.0, 27.0, 26.0, 25.0, 24.0, 23.0, 22.0, 21.0, 20.0, 19.0, 18.0, 17.0, 16.0, 15.0, 14.0, 13.0, 12.0, 11.0, 10.0, 9.0, 8.0, 7.0, 6.0, 5.0, 4.0, 3.0, 2.0, 1.0, -2.0865, -3.8483, -4.7691, -5.2887, -5.7306, -5.9221, -6.0294, -6.1022, -6.4624, -6.4911, -6.533, -6.5577, -6.5907, -6.7102, -6.7143, -6.7282, -6.7887, -6.7972, -6.8503, -6.9556, -6.9774, -6.9908, -7.0086, -7.0198, -7.0324, -7.0429, -7.0517, -7.0723, -7.0863, -7.1572, -5.9318, -6.835, -4.7695, -6.2073, -1.4509, -1.4618, -3.9904, -5.9739, -5.8114, -5.9467, -6.0544, -4.5257, -5.2157, -4.8355, -5.2515, -4.6555, -5.4798, -4.6727, -5.0509, -5.4193, -5.2447, -5.3069, -5.3139, -5.3896, -5.7734, -5.7091, -5.5777, -5.9055, -5.8899, -5.9209, -3.2262, -3.3423, -3.6789, -3.5878, -4.0803, -5.0734, -5.244, -5.2516, -5.4617, -5.4866, -5.6227, -5.6231, -5.649, -4.9434, -5.6909, -5.696, -5.7266, -5.7721, -5.787, -5.7932, -5.8211, -5.9009, -5.9161, -5.9251, -5.9331, -5.8003, -5.9834, -5.9936, -6.0118, -6.0189, -3.2099, -5.3664, -3.9729, -3.1487, -5.1142, -5.5105, -4.3973, -5.5049, -4.687, -5.2765, -4.7609, -4.7455, -4.409, -3.8198, -4.7606, -4.306, -4.4326, -4.5858, -5.0376, -5.1882, -5.0673, -4.8803, -5.0018, -4.9134, -5.0062, -5.0582, -5.1998, -3.5144, -3.5812, -3.9064, -4.3948, -4.4359, -4.7634, -5.1271, -5.2032, -5.3805, -5.0724, -5.4666, -4.2921, -5.5669, -5.6113, -5.6232, -4.407, -5.6646, -5.7363, -5.7583, -5.7554, -5.7622, -5.7715, -5.2502, -5.7537, -5.9305, -5.9531, -5.9829, -5.9962, -6.0052, -6.0333, -5.7472, -4.8688, -5.2298, -5.3879, -5.0121, -5.5336, -4.0986, -2.0721, -2.1274, -5.0928, -4.0535, -4.6912, -5.2467, -4.8456, -5.0783, -5.2889, -4.8302, -5.0457, -5.1468, -5.0415, -5.1387, -5.1785, -5.2394, -3.4486, -4.0449, -4.1306, -4.0406, -4.3595, -4.487, -4.8445, -4.9126, -4.9486, -5.2033, -5.3833, -5.5391, -5.5424, -5.5616, -5.5647, -5.684, -5.7356, -5.7944, -5.8586, -5.913, -5.9442, -5.9861, -5.9674, -6.067, -6.0751, -6.1263, -6.1401, -6.1497, -6.1618, -6.1685, -4.926, -4.2642, -5.8517, -5.7057, -4.711, -4.0536, -5.2196, -4.2266, -4.8688, -3.0152, -3.9332, -4.427, -4.3116, -4.9573, -4.8033, -4.1249, -4.3995, -4.5267, -4.9013, -5.161, -4.3777, -4.8582, -4.9439, -4.7876, -5.0071, -2.9379, -3.4257, -3.6824, -3.7718, -3.8701, -3.9078, -4.1628, -4.2212, -4.4263, -4.5621, -4.7334, -4.8347, -4.8911, -4.9212, -5.1378, -5.1411, -5.2169, -5.2421, -3.9095, -5.3019, -5.3281, -5.3534, -5.3676, -5.4033, -5.5569, -5.595, -5.6176, -5.6646, -5.672, -5.6821, -4.1216, -4.4289, -4.4628, -3.466, -4.1451, -3.4039, -4.5958, -4.0707, -4.9039, -5.0721, -4.6019, -4.889, -4.6706, -5.0128, -5.0113, -3.5181, -4.087, -4.4051, -4.4967, -4.7303, -4.7805, -4.8226, -4.9081, -4.9766, -4.995, -5.0821, -5.1507, -5.1798, -5.1426, -5.2479, -5.2527, -5.2588, -5.3021, -5.3442, -5.3447, -5.4018, -5.4053, -5.4287, -5.4588, -5.5152, -5.6271, -5.6751, -5.7518, -5.7542, -5.764, -4.6153, -4.773, -2.8879, -4.4245, -4.3057, -5.2721, -4.5104, -4.7851, -3.8422, -4.03, -4.9896, -4.4384, -4.3583, -4.4258, -4.8529, -4.6742, -5.0909, -5.093, -5.1054], \"loglift\": [30.0, 29.0, 28.0, 27.0, 26.0, 25.0, 24.0, 23.0, 22.0, 21.0, 20.0, 19.0, 18.0, 17.0, 16.0, 15.0, 14.0, 13.0, 12.0, 11.0, 10.0, 9.0, 8.0, 7.0, 6.0, 5.0, 4.0, 3.0, 2.0, 1.0, 1.2733, 1.273, 1.2725, 1.2718, 1.271, 1.2705, 1.2701, 1.2699, 1.2683, 1.2683, 1.268, 1.2679, 1.2677, 1.267, 1.2669, 1.2669, 1.2664, 1.2663, 1.2661, 1.2652, 1.265, 1.2649, 1.2648, 1.2646, 1.2645, 1.2644, 1.2644, 1.2642, 1.2641, 1.2634, 1.2552, 1.2622, 1.238, 1.246, 1.0276, 1.0127, 0.962, 1.0788, 1.0187, 1.0472, 1.06, 0.4578, 0.5843, 0.4192, 0.5443, 0.0919, 0.559, 0.0802, 0.2468, 0.287, 0.0933, 0.1477, -0.066, -0.3202, 0.4168, 0.2017, -0.7717, 0.1882, -0.6554, -0.3529, 1.7588, 1.7588, 1.7586, 1.7585, 1.7584, 1.7571, 1.7568, 1.7567, 1.7562, 1.7561, 1.7557, 1.7557, 1.7556, 1.7555, 1.7554, 1.7554, 1.7553, 1.7551, 1.7551, 1.755, 1.7549, 1.7546, 1.7545, 1.7544, 1.7544, 1.7544, 1.7542, 1.7541, 1.754, 1.754, 1.5754, 1.7066, 1.5164, 1.0673, 1.539, 1.6374, 1.2075, 1.5953, 1.1741, 1.4278, 1.0687, 1.0399, 0.7544, 0.218, 0.9457, 0.5, 0.3202, 0.4836, 1.0176, 1.1484, 0.9184, 0.5743, 0.7176, -0.166, -0.0227, -0.1805, 0.5402, 1.8746, 1.8746, 1.8744, 1.874, 1.8739, 1.8735, 1.8727, 1.8725, 1.8721, 1.872, 1.8718, 1.8715, 1.8715, 1.8713, 1.8712, 1.8712, 1.8711, 1.8708, 1.8707, 1.8707, 1.8707, 1.8706, 1.8705, 1.8704, 1.8699, 1.8697, 1.8696, 1.8695, 1.8694, 1.8693, 1.8684, 1.7481, 1.7166, 1.7436, 1.5948, 1.7443, 1.1992, 0.4025, 0.3511, 1.5723, 0.93, 1.1305, 1.09, 0.1068, 0.4897, 0.9366, -0.7924, -0.2929, 0.0179, -0.8255, -0.3913, -0.3725, 0.3655, 1.9284, 1.928, 1.9279, 1.9278, 1.9277, 1.9276, 1.927, 1.9269, 1.9268, 1.9262, 1.9257, 1.9251, 1.9251, 1.925, 1.925, 1.9246, 1.9243, 1.924, 1.9237, 1.9234, 1.9233, 1.923, 1.9229, 1.9225, 1.9225, 1.9222, 1.9221, 1.922, 1.9219, 1.9219, 1.9096, 1.8791, 1.9072, 1.8862, 1.741, 1.6154, 1.7647, 1.4928, 1.6164, 1.0226, 1.2315, 1.313, 0.9364, 1.3391, 1.1824, 0.6225, 0.7639, 0.8114, 1.0095, 1.3289, -0.1616, 0.3763, 0.6241, 0.0184, 0.0622, 2.0229, 2.0227, 2.0226, 2.0225, 2.0225, 2.0224, 2.0222, 2.0221, 2.0219, 2.0217, 2.0214, 2.0212, 2.0211, 2.021, 2.0205, 2.0205, 2.0202, 2.0202, 2.0201, 2.02, 2.0199, 2.0198, 2.0198, 2.0196, 2.019, 2.0189, 2.0188, 2.0186, 2.0185, 2.0185, 1.8218, 1.6248, 1.3588, 0.75, 1.1096, 0.634, 1.3697, 0.6822, 1.4871, 1.6381, 0.6327, 1.0989, 0.4941, 1.1202, 0.776, 2.1447, 2.1442, 2.1438, 2.1437, 2.1432, 2.1431, 2.1431, 2.1428, 2.1427, 2.1426, 2.1424, 2.1422, 2.1421, 2.1421, 2.1419, 2.1418, 2.1418, 2.1417, 2.1415, 2.1415, 2.1413, 2.1413, 2.1411, 2.1411, 2.1408, 2.1403, 2.14, 2.1396, 2.1396, 2.1395, 2.1279, 2.1079, 1.9898, 1.9326, 1.6903, 2.018, 1.6225, 1.7252, 0.9638, 1.0394, 1.8001, 1.0163, 0.3891, 0.3595, 0.8161, -0.6364, 0.9479, 0.1416, -0.3526]}, \"token.table\": {\"Topic\": [3, 5, 2, 6, 4, 5, 2, 3, 4, 3, 1, 2, 4, 4, 3, 2, 4, 1, 2, 6, 6, 6, 3, 6, 2, 5, 6, 4, 1, 1, 4, 1, 2, 2, 1, 2, 5, 2, 3, 6, 4, 2, 1, 2, 5, 2, 6, 5, 2, 1, 2, 3, 4, 6, 2, 2, 2, 5, 6, 6, 5, 5, 3, 4, 6, 2, 3, 4, 5, 4, 5, 1, 6, 3, 2, 5, 1, 2, 4, 2, 3, 4, 4, 5, 2, 1, 4, 2, 6, 3, 6, 1, 5, 1, 3, 5, 1, 2, 3, 4, 6, 3, 6, 5, 6, 2, 3, 4, 5, 2, 3, 6, 4, 4, 5, 3, 4, 5, 2, 1, 3, 4, 5, 6, 1, 1, 4, 3, 1, 3, 2, 4, 6, 6, 5, 2, 4, 3, 5, 6, 2, 3, 1, 3, 6, 6, 1, 2, 3, 4, 5, 6, 2, 6, 5, 2, 4, 1, 2, 3, 4, 6, 1, 4, 5, 1, 2, 6, 5, 1, 2, 3, 4, 5, 6, 3, 5, 6, 2, 2, 3, 2, 5, 6, 3, 1, 6, 3, 6, 5, 2, 3, 5, 1, 5, 5, 6, 1, 2, 3, 4, 5, 6, 1, 2, 3, 4, 5, 6, 4, 6, 1, 2, 3, 6, 3, 5, 5, 2, 3, 5, 6, 1, 2, 3, 4, 4, 3, 2, 1, 2, 3, 4, 5, 6, 2, 3, 4, 5, 6, 5, 2, 6, 1, 2, 3, 4, 3, 4, 3, 5, 1, 3, 4, 2, 2, 6, 2, 5, 6, 1, 3, 5, 1, 2, 3, 4, 6, 2, 6, 1, 2, 4, 5, 6, 1, 2, 3, 4, 1, 2, 4, 5, 6, 3, 1, 1, 3, 3, 1, 6, 4, 5, 2, 5, 1, 2, 3, 4, 5, 2, 5, 4, 4, 3, 6, 3, 6, 4, 4, 4, 6, 4, 3, 2, 5, 6, 1, 2, 3, 4, 5, 6, 2, 3, 5, 6, 5, 3, 4, 2, 6, 1, 2, 1, 2, 3, 4, 5, 6, 3, 4, 5, 4, 4, 5, 1, 2, 3, 6, 2, 6, 2, 6, 4, 6, 1, 2, 3, 3, 4, 3, 3, 5, 4, 2, 2, 6, 5, 6, 2, 1, 1, 2, 4, 6, 4, 5, 1, 3, 5, 3, 1, 1, 2, 4, 5, 1, 3, 5, 1, 2, 1, 2, 3, 4, 5, 6, 1, 3, 4, 5, 6, 1, 3, 4, 5, 6, 5, 1, 2, 4, 1, 3, 5, 4, 3, 5, 1, 1, 2, 3, 1, 4, 1, 3, 2, 5, 3, 5, 2, 4, 6, 2, 3, 4, 5, 6, 5, 1, 1, 1, 2, 3, 4, 5, 6, 1, 4, 6, 2, 3, 4, 5, 6, 3, 1, 2, 3, 4, 5, 6, 4, 1, 2, 1, 1, 3, 4, 1, 1], \"Freq\": [0.31807648312827874, 0.6803887685459207, 0.8843263133403914, 0.11094868875857308, 0.9958463014671463, 0.9976096129162875, 0.0024388612540799256, 0.9962748222916495, 0.9945652300615654, 0.9934353952860058, 0.19637330212303516, 0.2479038849496472, 0.554301944999773, 0.9989298251098637, 0.9949680450028187, 0.9946018000616896, 0.9972728462726066, 0.9936677726934632, 0.9994528075819367, 0.9970769130200307, 0.9979316585471365, 0.9980536187425681, 0.9988888398229688, 0.9981364401391234, 0.001182702665373816, 0.4056670142232189, 0.5925340353522818, 0.9991947908130396, 0.9884089156524963, 0.9742987328867053, 0.022143153020152392, 0.9865290880332137, 0.008431872547292425, 0.9974529043728403, 0.9955617362139528, 0.0019300133960624215, 0.9968519190662407, 0.9992648168253101, 0.7561175309972983, 0.24317347730566377, 0.993181128590569, 0.9946528211776438, 0.8078776865678788, 0.1893463327893466, 0.0031557722131557767, 0.9934916779335579, 0.9980493278823434, 0.9965610615760717, 0.9983807768760227, 0.33774711906054966, 0.2513202468430353, 0.14442385225821486, 0.01137195687072558, 0.25473183390425297, 0.9962280817846776, 0.9950617131706019, 0.9955163574477487, 0.9976628350006355, 0.9953102104598083, 0.9943082490192684, 0.997507525394967, 0.9963732819917952, 0.7390035858074863, 0.25975875359445705, 0.995807896614808, 0.27827598884481375, 0.13402262698040662, 0.19029166884240942, 0.3969525134992196, 0.4133401533126433, 0.5847997724645546, 0.9863645955580825, 0.9970143527103131, 0.9992262373411922, 0.9948652255998605, 0.9951785433285709, 0.9961885282351095, 0.35272267859456885, 0.6467885924561163, 0.25737812621800643, 0.010093259851686527, 0.7317613392472733, 0.9917708504412934, 0.9991829132263106, 0.9940249633503426, 0.988448119897834, 0.9899303780103471, 0.9966420186026395, 0.9980120646114821, 0.11662952561421457, 0.8803648062492325, 0.9807076609887724, 0.016967260570740005, 0.7326414821209298, 0.17071963143125285, 0.09662004672492183, 0.0012973127037685173, 0.18162377852759243, 0.3917884365380922, 0.17902915312005538, 0.2464894137160183, 0.9984380123687835, 0.9920714794877118, 0.9994259412260323, 0.9992080173672206, 0.5761117765797332, 0.2210985873798734, 0.1506539270474847, 0.0516129194514531, 0.5422565157938268, 0.4567133756017525, 0.9975277148717578, 0.9941194800460122, 0.9940514129341885, 0.999098976689811, 0.16596801837019598, 0.828212954415978, 0.0048814123050057645, 0.998101074780632, 0.0022310207229649785, 0.0007436735743216595, 0.7310311235581912, 0.0007436735743216595, 0.26474779245851077, 0.9880596938225605, 0.996359136754579, 0.9984533661801605, 0.9949780578439027, 0.9995003736327306, 0.9948336977274226, 0.2953969823702823, 0.5404966407153543, 0.16366589563758885, 0.998071434440356, 0.9987720872226667, 0.9955775395272662, 0.0020827981998478374, 0.4747583537354428, 0.5146103323336734, 0.0103961683299732, 0.005209684345191293, 0.995049709931537, 0.997012213618338, 0.9956844537079839, 0.00266225789761493, 0.9966688126667014, 0.1292629344300668, 0.28393921276507395, 0.10573206044401096, 0.14808763361891147, 0.02635457886438255, 0.3068425967781683, 0.14360449004317155, 0.8558962446469779, 0.9980163792125788, 0.99959713813769, 0.9932990954791059, 0.30684955075475545, 0.14587929462111326, 0.10356542214480657, 0.2707496036071372, 0.17280630437876296, 0.425551843503055, 0.17297257380262746, 0.4009818756333636, 0.7973366796237075, 0.06434646888191324, 0.13708595544407604, 0.9958026537254641, 0.3031669464063824, 0.23711879910293113, 0.11454295816139082, 0.0011900567081702942, 0.26151496162042215, 0.0821139128637503, 0.880724224726779, 0.11704613879811225, 0.9959572547845539, 0.9971244998415488, 0.1220012996977699, 0.8764830215129259, 0.718299623733643, 0.28061851189594217, 0.9947990678559157, 0.9941573817323716, 0.9865561859560286, 0.9981398174140452, 0.9940551207605247, 0.0031758949545064685, 0.9977566323147601, 0.9476679626351796, 0.048443090741734425, 0.9985349360041225, 0.9964016774926905, 0.9986734600035863, 0.9925121605901287, 0.9957844060426871, 0.12783556674531094, 0.36601341215499555, 0.09105480719051973, 0.31173936451926704, 0.005831096026979096, 0.09733444906572798, 0.163240893615888, 0.23858284451552864, 0.0008371327877737847, 0.18835487724910155, 0.28713654620640816, 0.12138425422719878, 0.9967666496688712, 0.993501797743271, 0.5018786551304246, 0.2806112075138016, 0.2170286076239674, 0.998612196172087, 0.9983283631644144, 0.99971791521445, 0.9991441822762416, 0.9996229938278884, 0.9956693502927642, 0.002735355357947154, 0.9989134872763542, 0.3428482548508569, 0.14869385638559263, 0.10986297669253978, 0.3987268378237866, 0.999610956464186, 0.9993179363388134, 0.9937879684073819, 0.2621225049920901, 0.10982786522014948, 0.116173475210647, 0.37048599867597093, 0.05955110914159216, 0.08200480603104494, 0.5007548731115816, 0.06713837479022942, 0.12366679916024124, 0.27985918403492005, 0.028525112605175193, 0.9984121303816303, 0.997461564328704, 0.9986890751969452, 0.2460185316936795, 0.5569210717461316, 0.006308167479325115, 0.1901461911625142, 0.9968115666559381, 0.9982603185359239, 0.9962567502076991, 0.9958127902352463, 0.30929145797262825, 0.14027973230452537, 0.5492881084213344, 0.9928616164014185, 0.832189325695401, 0.16779001913947156, 0.18199033367160522, 0.8179780588680751, 0.9953105479206515, 0.9649799649172492, 0.0052161079184716175, 0.029210204343441057, 0.1936770274002079, 0.4759859147971211, 0.03939193777631347, 0.17616949949962413, 0.11379893135379447, 0.8018711193592235, 0.196985709222241, 0.32469733801732914, 0.30609176042299047, 0.04621385402464758, 0.0006001799223980205, 0.3234969781725331, 0.9994881041448395, 0.7842063264617192, 0.006835395872487251, 0.20816887429847536, 0.42457184937945547, 0.09267940074949765, 0.19036849883680598, 0.1302521307830778, 0.16156273914439456, 0.9963239412989681, 0.9946261364993428, 0.9897477372814589, 0.9925564135047316, 0.9922103539354324, 0.9884877451328984, 0.9952927753063735, 0.8478594425389103, 0.14962225456569006, 0.9984922386018946, 0.9989309273713521, 0.014821374511007636, 0.11407967047866482, 0.1562981312069896, 0.49808801008204445, 0.21693102693383903, 0.9928674926589702, 0.9937616453093376, 0.9965688350690154, 0.9965329400771601, 0.01524093810614545, 0.9819518694102283, 0.9964005098192011, 0.998084622995379, 0.9963935298214194, 0.993057754114376, 0.9939803391362394, 0.9972865515984983, 0.9967025520919874, 0.9978582779007695, 0.15078527307395073, 0.6708852004884475, 0.17700879882594217, 0.14544831498119462, 0.10932704470440788, 0.14978286741440902, 0.21191145229048222, 0.2489959564413166, 0.1348527423666705, 0.9964522209621349, 0.9949403281498759, 0.2896873358561809, 0.7071108198064259, 0.9989010513270478, 0.9929788686927539, 0.992132323712001, 0.03498078743011203, 0.9644702820016603, 0.9949844275544725, 0.9970497767434048, 0.20333024569222438, 0.27927286757727204, 0.03184690595179418, 0.1547432994324358, 0.0004082936660486433, 0.33112616316544974, 0.00716988587651657, 0.9512048596178649, 0.04182433427967999, 0.9991049041656707, 0.9990694656124853, 0.993226314653057, 0.4425000315119675, 0.16823244212436358, 0.3885457516324388, 0.0003746824991633933, 0.3415269225091332, 0.657180593313029, 0.3650839232621278, 0.6342559683791203, 0.9799978873688509, 0.018036770933169032, 0.9962448868198932, 0.9964211691160415, 0.9996206520795302, 0.9963874276090349, 0.998764289921145, 0.996909084836837, 0.9968711325563491, 0.9951452715699499, 0.9918806583156189, 0.9975073746900777, 0.9962115845033248, 0.9994560794531795, 0.9954973414491722, 0.997556048495335, 0.9978268988167882, 0.9960927122498259, 0.4897756518119445, 0.13132446048584007, 0.07750296028672528, 0.30247683111902507, 0.9970284753103693, 0.9996119199947081, 0.3581073581204129, 0.5089434086754292, 0.13287937786989532, 0.9967221708579919, 0.9946759242752645, 0.48204573617219776, 0.12241091373899943, 0.21105329954999902, 0.18403847720759914, 0.7705862187046032, 0.2293255319955192, 9.144976684654493e-05, 0.9944330147603994, 0.9997234439389144, 0.15539907020957247, 0.4870841824310793, 0.1269927885583603, 0.0008354788720944756, 0.04762229570938511, 0.18213439411659568, 0.1969617445658463, 0.2500674709163646, 0.27090642682606164, 0.13847822314185781, 0.14318379383114424, 0.3071288021734297, 0.12979530248372767, 0.3268918729219808, 0.11003223173517654, 0.1260563431529207, 0.9946399542695966, 0.37284980827680797, 0.44309687360432254, 0.18295114816066976, 0.782084570047431, 0.21783056697439407, 6.120555408103232e-05, 0.9972641576554883, 0.8537197528540112, 0.1440652082941144, 0.9904126426572165, 0.7741936637403293, 0.18523652077222602, 0.03799723503020021, 0.9923889301264351, 0.9922258479009097, 0.9993607116063239, 0.9955359346263793, 0.8493308043605101, 0.149332888678771, 0.8770501708507498, 0.11892205706450845, 0.4317768012809429, 0.47362750778807927, 0.0939089024062571, 0.019007101697279802, 0.14905569225761528, 0.22508409904673451, 0.520194362241342, 0.08603214452452963, 0.9967683262192621, 0.9911886674142247, 0.9999669160478042, 0.11613369393529388, 0.5012085738260051, 0.20519863214130873, 0.018336899042414822, 0.15804660603224205, 0.9978276455573747, 0.9923495422562131, 0.9564321429075284, 0.04069924012372461, 0.07991226820943725, 0.051794988654264885, 0.05771441592903802, 0.0014798568186932825, 0.8080018230065322, 0.999365429042842, 0.001164287055324997, 0.21408328229788381, 0.06942061567375293, 0.4040076081977739, 0.24930296572146496, 0.06199828569605608, 0.998929293541241, 0.821812511341274, 0.17504309808352045, 0.9944675998705607, 0.002388139634466488, 0.014328837806798927, 0.9815253897657266, 0.9884884360703494, 0.9979734328160552], \"Term\": [\"absolutely\", \"absolutely\", \"account\", \"account\", \"act\", \"actual\", \"actually\", \"actually\", \"add\", \"af\", \"also\", \"also\", \"also\", \"always\", \"amazing\", \"amount\", \"app\", \"arrest\", \"ask\", \"ass\", \"away\", \"ayleen\", \"babe\", \"baby\", \"back\", \"back\", \"back\", \"bad\", \"ball\", \"ban\", \"ban\", \"base\", \"base\", \"become\", \"begin\", \"believe\", \"believe\", \"billionaire\", \"bitch\", \"bitch\", \"black\", \"borrow\", \"boy\", \"boy\", \"boy\", \"boyfriend\", \"break\", \"business\", \"buy\", \"call\", \"call\", \"call\", \"call\", \"call\", \"car\", \"card\", \"cash\", \"catch\", \"catfishe\", \"cecile\", \"cecilie\", \"charge\", \"check\", \"check\", \"clothe\", \"come\", \"come\", \"come\", \"come\", \"con\", \"con\", \"conman\", \"country\", \"crazy\", \"credit_card\", \"crime\", \"currently\", \"date\", \"date\", \"day\", \"day\", \"day\", \"deal\", \"debt\", \"defraud\", \"delete\", \"desperate\", \"diamond\", \"die\", \"different\", \"different\", \"doc\", \"doc\", \"documentary\", \"documentary\", \"documentary\", \"dude\", \"dude\", \"dude\", \"dude\", \"dude\", \"dumb\", \"easily\", \"end\", \"enemy\", \"even\", \"even\", \"even\", \"even\", \"ever\", \"ever\", \"evil\", \"expose\", \"face\", \"fact\", \"fall\", \"fall\", \"fall\", \"family\", \"feel\", \"feel\", \"feel\", \"feel\", \"feel\", \"female\", \"finally\", \"find\", \"finesse\", \"finish\", \"finished\", \"first\", \"first\", \"first\", \"follow\", \"free\", \"friend\", \"friend\", \"fuck\", \"fuck\", \"fuck\", \"fucking\", \"fucking\", \"full\", \"funny\", \"funny\", \"game\", \"get\", \"get\", \"get\", \"get\", \"get\", \"get\", \"girl\", \"girl\", \"girlfriend\", \"give\", \"glad\", \"go\", \"go\", \"go\", \"go\", \"go\", \"good\", \"good\", \"good\", \"great\", \"great\", \"great\", \"gullible\", \"guy\", \"guy\", \"guy\", \"guy\", \"guy\", \"guy\", \"happen\", \"happen\", \"head\", \"hear\", \"hell\", \"hell\", \"help\", \"help\", \"hero\", \"hilarious\", \"holy\", \"homeless_ke\", \"honestly\", \"honestly\", \"hope\", \"imagine\", \"imagine\", \"insane\", \"interesting\", \"jail\", \"justice\", \"kill\", \"know\", \"know\", \"know\", \"know\", \"know\", \"know\", \"lady\", \"lady\", \"lady\", \"lady\", \"lady\", \"lady\", \"least\", \"lesson\", \"let\", \"let\", \"let\", \"level\", \"lie\", \"life\", \"live\", \"loan\", \"lol\", \"lol\", \"long\", \"look\", \"look\", \"look\", \"look\", \"love\", \"mad\", \"madness\", \"make\", \"make\", \"make\", \"make\", \"make\", \"make\", \"man\", \"man\", \"man\", \"man\", \"man\", \"many\", \"maybe\", \"mean\", \"meet\", \"meet\", \"meet\", \"meet\", \"mess\", \"million\", \"min\", \"mind\", \"minute\", \"minute\", \"minute\", \"moment\", \"money\", \"money\", \"month\", \"month\", \"move\", \"movie\", \"movie\", \"movie\", \"much\", \"much\", \"much\", \"much\", \"much\", \"name\", \"name\", \"need\", \"need\", \"need\", \"need\", \"need\", \"netflix\", \"never\", \"never\", \"never\", \"new\", \"new\", \"new\", \"new\", \"new\", \"nigerian\", \"night\", \"note\", \"nut\", \"old\", \"omg\", \"one\", \"online\", \"online\", \"pawn\", \"pay\", \"people\", \"people\", \"people\", \"people\", \"people\", \"picture\", \"piece\", \"plan\", \"plane\", \"play\", \"play\", \"post\", \"pretty\", \"prison\", \"private\", \"pull\", \"queen\", \"question\", \"reaction\", \"real\", \"real\", \"real\", \"really\", \"really\", \"really\", \"really\", \"really\", \"really\", \"reason\", \"recommend\", \"red_flag\", \"red_flag\", \"review\", \"ride\", \"romance\", \"run\", \"run\", \"sad\", \"save\", \"say\", \"say\", \"say\", \"say\", \"say\", \"say\", \"scam\", \"scam\", \"scam\", \"scamme\", \"scammer\", \"scary\", \"see\", \"see\", \"see\", \"see\", \"sell\", \"sell\", \"send\", \"send\", \"sense\", \"sense\", \"series\", \"shake\", \"shit\", \"shocking\", \"show\", \"sick\", \"side\", \"single\", \"sleep\", \"son\", \"soon\", \"sorry\", \"sound\", \"speak\", \"spend\", \"star\", \"start\", \"start\", \"start\", \"start\", \"stay\", \"still\", \"story\", \"story\", \"story\", \"stress\", \"suppose\", \"swindle\", \"swindle\", \"swindle\", \"swindle\", \"swindler\", \"swindler\", \"swindler\", \"sympathy\", \"take\", \"tell\", \"tell\", \"tell\", \"tell\", \"tell\", \"tell\", \"thing\", \"thing\", \"thing\", \"thing\", \"thing\", \"think\", \"think\", \"think\", \"think\", \"think\", \"thousand\", \"time\", \"time\", \"time\", \"tinder\", \"tinder\", \"tinder\", \"tinderswindler\", \"tindler\", \"tindler\", \"title\", \"today\", \"today\", \"today\", \"tonight\", \"trip\", \"true\", \"true_crime\", \"trust\", \"trust\", \"turn\", \"turn\", \"use\", \"use\", \"use\", \"victim\", \"victim\", \"victim\", \"victim\", \"victim\", \"walk\", \"wanna\", \"watch\", \"way\", \"way\", \"way\", \"way\", \"way\", \"week\", \"weekend\", \"white\", \"white\", \"whole\", \"whole\", \"whole\", \"whole\", \"whole\", \"wild\", \"woman\", \"woman\", \"woman\", \"woman\", \"woman\", \"woman\", \"world\", \"worth\", \"worth\", \"write\", \"year\", \"year\", \"year\", \"yesterday\", \"yet\"]}, \"R\": 30, \"lambda.step\": 0.01, \"plot.opts\": {\"xlab\": \"PC1\", \"ylab\": \"PC2\"}, \"topic.order\": [3, 4, 6, 5, 2, 1]};\n",
       "\n",
       "function LDAvis_load_lib(url, callback){\n",
       "  var s = document.createElement('script');\n",
       "  s.src = url;\n",
       "  s.async = true;\n",
       "  s.onreadystatechange = s.onload = callback;\n",
       "  s.onerror = function(){console.warn(\"failed to load library \" + url);};\n",
       "  document.getElementsByTagName(\"head\")[0].appendChild(s);\n",
       "}\n",
       "\n",
       "if(typeof(LDAvis) !== \"undefined\"){\n",
       "   // already loaded: just create the visualization\n",
       "   !function(LDAvis){\n",
       "       new LDAvis(\"#\" + \"ldavis_el594091403367955851046999627521\", ldavis_el594091403367955851046999627521_data);\n",
       "   }(LDAvis);\n",
       "}else if(typeof define === \"function\" && define.amd){\n",
       "   // require.js is available: use it to load d3/LDAvis\n",
       "   require.config({paths: {d3: \"https://d3js.org/d3.v5\"}});\n",
       "   require([\"d3\"], function(d3){\n",
       "      window.d3 = d3;\n",
       "      LDAvis_load_lib(\"https://cdn.jsdelivr.net/gh/bmabey/pyLDAvis@3.3.1/pyLDAvis/js/ldavis.v3.0.0.js\", function(){\n",
       "        new LDAvis(\"#\" + \"ldavis_el594091403367955851046999627521\", ldavis_el594091403367955851046999627521_data);\n",
       "      });\n",
       "    });\n",
       "}else{\n",
       "    // require.js not available: dynamically load d3 & LDAvis\n",
       "    LDAvis_load_lib(\"https://d3js.org/d3.v5.js\", function(){\n",
       "         LDAvis_load_lib(\"https://cdn.jsdelivr.net/gh/bmabey/pyLDAvis@3.3.1/pyLDAvis/js/ldavis.v3.0.0.js\", function(){\n",
       "                 new LDAvis(\"#\" + \"ldavis_el594091403367955851046999627521\", ldavis_el594091403367955851046999627521_data);\n",
       "            })\n",
       "         });\n",
       "}\n",
       "</script>"
      ],
      "text/plain": [
       "PreparedData(topic_coordinates=              x         y  topics  cluster       Freq\n",
       "topic                                                \n",
       "2      0.313439 -0.035306       1        1  27.988807\n",
       "3     -0.153394 -0.100539       2        1  17.219575\n",
       "5      0.263618  0.007914       3        1  15.334259\n",
       "4     -0.155311 -0.032503       4        1  14.531240\n",
       "1     -0.114718  0.338121       5        1  13.222792\n",
       "0     -0.153634 -0.177687       6        1  11.703327, topic_info=         Term          Freq         Total Category  logprob  loglift\n",
       "0    swindler  32804.000000  32804.000000  Default  30.0000  30.0000\n",
       "1      tinder  32676.000000  32676.000000  Default  29.0000  29.0000\n",
       "36      watch  13536.000000  13536.000000  Default  28.0000  28.0000\n",
       "47      still   2730.000000   2730.000000  Default  27.0000  27.0000\n",
       "138      girl   2966.000000   2966.000000  Default  26.0000  26.0000\n",
       "..        ...           ...           ...      ...      ...      ...\n",
       "85       feel    355.928238   1344.675990   Topic6  -4.8529   0.8161\n",
       "16      woman    425.550549   6871.157730   Topic6  -4.6742  -0.6364\n",
       "128     start    280.525725    928.996773   Topic6  -5.0909   0.9479\n",
       "172    really    279.955385   2076.338939   Topic6  -5.0930   0.1416\n",
       "61        guy    276.489200   3361.184364   Topic6  -5.1054  -0.3526\n",
       "\n",
       "[349 rows x 6 columns], token_table=      Topic      Freq        Term\n",
       "term                             \n",
       "659       3  0.318076  absolutely\n",
       "659       5  0.680389  absolutely\n",
       "579       2  0.884326     account\n",
       "579       6  0.110949     account\n",
       "348       4  0.995846         act\n",
       "...     ...       ...         ...\n",
       "301       1  0.002388        year\n",
       "301       3  0.014329        year\n",
       "301       4  0.981525        year\n",
       "64        1  0.988488   yesterday\n",
       "211       1  0.997973         yet\n",
       "\n",
       "[471 rows x 3 columns], R=30, lambda_step=0.01, plot_opts={'xlab': 'PC1', 'ylab': 'PC2'}, topic_order=[3, 4, 6, 5, 2, 1])"
      ]
     },
     "execution_count": 77,
     "metadata": {},
     "output_type": "execute_result"
    }
   ],
   "source": [
    "# Visualize the topics\n",
    "\n",
    "import pyLDAvis\n",
    "\n",
    "pyLDAvis.enable_notebook()\n",
    "vis = gensimvis.prepare(lda_model, corpus, id2word)\n",
    "vis"
   ]
  }
 ],
 "metadata": {
  "kernelspec": {
   "display_name": "Python 3.8.2 ('text-analytics': venv)",
   "language": "python",
   "name": "python3"
  },
  "language_info": {
   "codemirror_mode": {
    "name": "ipython",
    "version": 3
   },
   "file_extension": ".py",
   "mimetype": "text/x-python",
   "name": "python",
   "nbconvert_exporter": "python",
   "pygments_lexer": "ipython3",
   "version": "3.8.2"
  },
  "orig_nbformat": 4,
  "vscode": {
   "interpreter": {
    "hash": "368aedfa66a7a2a59fb0566c053d7fa54d1d04abc57ba0bc385f6735e5dc7228"
   }
  }
 },
 "nbformat": 4,
 "nbformat_minor": 2
}

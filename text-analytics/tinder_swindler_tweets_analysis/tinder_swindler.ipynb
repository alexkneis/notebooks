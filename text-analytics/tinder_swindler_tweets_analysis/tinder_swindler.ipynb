{
 "cells": [
  {
   "cell_type": "markdown",
   "metadata": {},
   "source": [
    "## Tinder Swindler 100k Tweets"
   ]
  },
  {
   "cell_type": "code",
   "execution_count": 135,
   "metadata": {},
   "outputs": [],
   "source": [
    "# load the dataset\n",
    "import pandas as pd\n",
    "\n",
    "file = './TinderSwindlerVersion2.csv'\n",
    "df = pd.read_csv(file)"
   ]
  },
  {
   "cell_type": "code",
   "execution_count": 136,
   "metadata": {},
   "outputs": [
    {
     "data": {
      "text/html": [
       "<div>\n",
       "<style scoped>\n",
       "    .dataframe tbody tr th:only-of-type {\n",
       "        vertical-align: middle;\n",
       "    }\n",
       "\n",
       "    .dataframe tbody tr th {\n",
       "        vertical-align: top;\n",
       "    }\n",
       "\n",
       "    .dataframe thead th {\n",
       "        text-align: right;\n",
       "    }\n",
       "</style>\n",
       "<table border=\"1\" class=\"dataframe\">\n",
       "  <thead>\n",
       "    <tr style=\"text-align: right;\">\n",
       "      <th></th>\n",
       "      <th>user_name</th>\n",
       "      <th>user_location</th>\n",
       "      <th>user_created</th>\n",
       "      <th>user_followers</th>\n",
       "      <th>user_verified</th>\n",
       "      <th>date</th>\n",
       "      <th>text</th>\n",
       "      <th>source</th>\n",
       "      <th>is_retweet</th>\n",
       "    </tr>\n",
       "  </thead>\n",
       "  <tbody>\n",
       "    <tr>\n",
       "      <th>0</th>\n",
       "      <td>globalnode.saito 🟥🐳🐈‍⬛</td>\n",
       "      <td>Travelling the World on Web3</td>\n",
       "      <td>2009-06-03 20:18:22+00:00</td>\n",
       "      <td>768</td>\n",
       "      <td>False</td>\n",
       "      <td>2022-02-09 17:09:22+00:00</td>\n",
       "      <td>@T1gmee Tinder Swindler, off Netflix</td>\n",
       "      <td>Twitter for iPhone</td>\n",
       "      <td>False</td>\n",
       "    </tr>\n",
       "    <tr>\n",
       "      <th>1</th>\n",
       "      <td>Ungovernable 🇧🇮</td>\n",
       "      <td>NaN</td>\n",
       "      <td>2011-09-04 22:46:26+00:00</td>\n",
       "      <td>385</td>\n",
       "      <td>False</td>\n",
       "      <td>2022-02-09 17:09:18+00:00</td>\n",
       "      <td>#tinderswindler , basically homeboy got away w...</td>\n",
       "      <td>Twitter for iPhone</td>\n",
       "      <td>False</td>\n",
       "    </tr>\n",
       "    <tr>\n",
       "      <th>2</th>\n",
       "      <td>Adefolake</td>\n",
       "      <td>NaN</td>\n",
       "      <td>2009-06-02 14:18:44+00:00</td>\n",
       "      <td>1994</td>\n",
       "      <td>False</td>\n",
       "      <td>2022-02-09 17:09:17+00:00</td>\n",
       "      <td>Not the tinder swindler becoming a TIk Tok sta...</td>\n",
       "      <td>Twitter for iPhone</td>\n",
       "      <td>False</td>\n",
       "    </tr>\n",
       "    <tr>\n",
       "      <th>3</th>\n",
       "      <td>✧ ☽</td>\n",
       "      <td>Noord-Brabant</td>\n",
       "      <td>2012-02-12 07:35:26+00:00</td>\n",
       "      <td>336</td>\n",
       "      <td>False</td>\n",
       "      <td>2022-02-09 17:09:07+00:00</td>\n",
       "      <td>Why isn’t Shimon Hayut in jail ????? #thetinde...</td>\n",
       "      <td>Twitter for iPhone</td>\n",
       "      <td>False</td>\n",
       "    </tr>\n",
       "    <tr>\n",
       "      <th>4</th>\n",
       "      <td>chivo. 🥶</td>\n",
       "      <td>PG/MD</td>\n",
       "      <td>2010-03-22 21:23:17+00:00</td>\n",
       "      <td>1046</td>\n",
       "      <td>False</td>\n",
       "      <td>2022-02-09 17:09:06+00:00</td>\n",
       "      <td>the tinder swindler a sick nigga 😂😂</td>\n",
       "      <td>Twitter Web App</td>\n",
       "      <td>False</td>\n",
       "    </tr>\n",
       "    <tr>\n",
       "      <th>5</th>\n",
       "      <td>kira</td>\n",
       "      <td>Toronto, Ontario</td>\n",
       "      <td>2010-07-02 12:50:53+00:00</td>\n",
       "      <td>362</td>\n",
       "      <td>False</td>\n",
       "      <td>2022-02-09 17:09:03+00:00</td>\n",
       "      <td>No those women on the Tinder swindler pissed m...</td>\n",
       "      <td>Twitter for iPhone</td>\n",
       "      <td>False</td>\n",
       "    </tr>\n",
       "    <tr>\n",
       "      <th>6</th>\n",
       "      <td>fogmistress698</td>\n",
       "      <td>NaN</td>\n",
       "      <td>2020-05-05 08:47:57+00:00</td>\n",
       "      <td>210</td>\n",
       "      <td>False</td>\n",
       "      <td>2022-02-09 17:08:55+00:00</td>\n",
       "      <td>This manipulation is how scammers pull you in ...</td>\n",
       "      <td>Twitter Web App</td>\n",
       "      <td>False</td>\n",
       "    </tr>\n",
       "    <tr>\n",
       "      <th>7</th>\n",
       "      <td>melraunch</td>\n",
       "      <td>East, England</td>\n",
       "      <td>2019-05-24 23:18:01+00:00</td>\n",
       "      <td>3268</td>\n",
       "      <td>False</td>\n",
       "      <td>2022-02-09 17:08:45+00:00</td>\n",
       "      <td>@robertstweets1 @DistantFixed I waited for him...</td>\n",
       "      <td>Twitter for iPhone</td>\n",
       "      <td>False</td>\n",
       "    </tr>\n",
       "    <tr>\n",
       "      <th>8</th>\n",
       "      <td>Pamela Power</td>\n",
       "      <td>Johannesburg, South Africa</td>\n",
       "      <td>2009-07-10 12:51:24+00:00</td>\n",
       "      <td>6306</td>\n",
       "      <td>False</td>\n",
       "      <td>2022-02-09 17:08:41+00:00</td>\n",
       "      <td>Hmmm...he's like the #tinderswindler https://t...</td>\n",
       "      <td>Twitter for Android</td>\n",
       "      <td>False</td>\n",
       "    </tr>\n",
       "    <tr>\n",
       "      <th>9</th>\n",
       "      <td>CaliMcCormac</td>\n",
       "      <td>NaN</td>\n",
       "      <td>2022-02-09 16:48:06+00:00</td>\n",
       "      <td>0</td>\n",
       "      <td>False</td>\n",
       "      <td>2022-02-09 17:08:40+00:00</td>\n",
       "      <td>Wow just watching the Twitter Swindler and it ...</td>\n",
       "      <td>Twitter for iPhone</td>\n",
       "      <td>False</td>\n",
       "    </tr>\n",
       "  </tbody>\n",
       "</table>\n",
       "</div>"
      ],
      "text/plain": [
       "                user_name                 user_location  \\\n",
       "0  globalnode.saito 🟥🐳🐈‍⬛  Travelling the World on Web3   \n",
       "1         Ungovernable 🇧🇮                           NaN   \n",
       "2               Adefolake                           NaN   \n",
       "3                     ✧ ☽                 Noord-Brabant   \n",
       "4                chivo. 🥶                         PG/MD   \n",
       "5                    kira              Toronto, Ontario   \n",
       "6          fogmistress698                           NaN   \n",
       "7               melraunch                 East, England   \n",
       "8            Pamela Power    Johannesburg, South Africa   \n",
       "9            CaliMcCormac                           NaN   \n",
       "\n",
       "                user_created  user_followers  user_verified  \\\n",
       "0  2009-06-03 20:18:22+00:00             768          False   \n",
       "1  2011-09-04 22:46:26+00:00             385          False   \n",
       "2  2009-06-02 14:18:44+00:00            1994          False   \n",
       "3  2012-02-12 07:35:26+00:00             336          False   \n",
       "4  2010-03-22 21:23:17+00:00            1046          False   \n",
       "5  2010-07-02 12:50:53+00:00             362          False   \n",
       "6  2020-05-05 08:47:57+00:00             210          False   \n",
       "7  2019-05-24 23:18:01+00:00            3268          False   \n",
       "8  2009-07-10 12:51:24+00:00            6306          False   \n",
       "9  2022-02-09 16:48:06+00:00               0          False   \n",
       "\n",
       "                        date  \\\n",
       "0  2022-02-09 17:09:22+00:00   \n",
       "1  2022-02-09 17:09:18+00:00   \n",
       "2  2022-02-09 17:09:17+00:00   \n",
       "3  2022-02-09 17:09:07+00:00   \n",
       "4  2022-02-09 17:09:06+00:00   \n",
       "5  2022-02-09 17:09:03+00:00   \n",
       "6  2022-02-09 17:08:55+00:00   \n",
       "7  2022-02-09 17:08:45+00:00   \n",
       "8  2022-02-09 17:08:41+00:00   \n",
       "9  2022-02-09 17:08:40+00:00   \n",
       "\n",
       "                                                text               source  \\\n",
       "0               @T1gmee Tinder Swindler, off Netflix   Twitter for iPhone   \n",
       "1  #tinderswindler , basically homeboy got away w...   Twitter for iPhone   \n",
       "2  Not the tinder swindler becoming a TIk Tok sta...   Twitter for iPhone   \n",
       "3  Why isn’t Shimon Hayut in jail ????? #thetinde...   Twitter for iPhone   \n",
       "4                the tinder swindler a sick nigga 😂😂      Twitter Web App   \n",
       "5  No those women on the Tinder swindler pissed m...   Twitter for iPhone   \n",
       "6  This manipulation is how scammers pull you in ...      Twitter Web App   \n",
       "7  @robertstweets1 @DistantFixed I waited for him...   Twitter for iPhone   \n",
       "8  Hmmm...he's like the #tinderswindler https://t...  Twitter for Android   \n",
       "9  Wow just watching the Twitter Swindler and it ...   Twitter for iPhone   \n",
       "\n",
       "   is_retweet  \n",
       "0       False  \n",
       "1       False  \n",
       "2       False  \n",
       "3       False  \n",
       "4       False  \n",
       "5       False  \n",
       "6       False  \n",
       "7       False  \n",
       "8       False  \n",
       "9       False  "
      ]
     },
     "execution_count": 136,
     "metadata": {},
     "output_type": "execute_result"
    }
   ],
   "source": [
    "df.head(10)"
   ]
  },
  {
   "cell_type": "markdown",
   "metadata": {},
   "source": [
    "### Data Cleansing"
   ]
  },
  {
   "cell_type": "code",
   "execution_count": 137,
   "metadata": {},
   "outputs": [
    {
     "data": {
      "text/plain": [
       "user_name             5\n",
       "user_location     18481\n",
       "user_created          0\n",
       "user_followers        0\n",
       "user_verified         0\n",
       "date                  0\n",
       "text                  0\n",
       "source                0\n",
       "is_retweet            0\n",
       "dtype: int64"
      ]
     },
     "execution_count": 137,
     "metadata": {},
     "output_type": "execute_result"
    }
   ],
   "source": [
    "df.isna().sum()"
   ]
  },
  {
   "cell_type": "code",
   "execution_count": 138,
   "metadata": {},
   "outputs": [],
   "source": [
    "df[\"user_name\"].fillna('unknown', inplace=True)\n",
    "df[\"user_location\"].fillna('unknown', inplace=True)"
   ]
  },
  {
   "cell_type": "code",
   "execution_count": 139,
   "metadata": {},
   "outputs": [],
   "source": [
    "import re\n",
    "# Remove urls from tweets\n",
    "df.text = df.text.apply(lambda text: re.sub(r'http\\S+|http', '', text))"
   ]
  },
  {
   "cell_type": "code",
   "execution_count": 140,
   "metadata": {},
   "outputs": [],
   "source": [
    "df = df[df.is_retweet != True]"
   ]
  },
  {
   "cell_type": "code",
   "execution_count": 141,
   "metadata": {},
   "outputs": [
    {
     "data": {
      "text/html": [
       "<div>\n",
       "<style scoped>\n",
       "    .dataframe tbody tr th:only-of-type {\n",
       "        vertical-align: middle;\n",
       "    }\n",
       "\n",
       "    .dataframe tbody tr th {\n",
       "        vertical-align: top;\n",
       "    }\n",
       "\n",
       "    .dataframe thead th {\n",
       "        text-align: right;\n",
       "    }\n",
       "</style>\n",
       "<table border=\"1\" class=\"dataframe\">\n",
       "  <thead>\n",
       "    <tr style=\"text-align: right;\">\n",
       "      <th></th>\n",
       "      <th>count</th>\n",
       "      <th>unique</th>\n",
       "      <th>top</th>\n",
       "      <th>freq</th>\n",
       "    </tr>\n",
       "  </thead>\n",
       "  <tbody>\n",
       "    <tr>\n",
       "      <th>user_name</th>\n",
       "      <td>76213</td>\n",
       "      <td>49767</td>\n",
       "      <td>.</td>\n",
       "      <td>196</td>\n",
       "    </tr>\n",
       "    <tr>\n",
       "      <th>user_location</th>\n",
       "      <td>76213</td>\n",
       "      <td>17911</td>\n",
       "      <td>unknown</td>\n",
       "      <td>18485</td>\n",
       "    </tr>\n",
       "    <tr>\n",
       "      <th>user_created</th>\n",
       "      <td>76213</td>\n",
       "      <td>54501</td>\n",
       "      <td>2020-10-06 00:15:38+00:00</td>\n",
       "      <td>160</td>\n",
       "    </tr>\n",
       "    <tr>\n",
       "      <th>date</th>\n",
       "      <td>76213</td>\n",
       "      <td>70999</td>\n",
       "      <td>2022-02-07 21:13:06+00:00</td>\n",
       "      <td>5</td>\n",
       "    </tr>\n",
       "    <tr>\n",
       "      <th>text</th>\n",
       "      <td>76213</td>\n",
       "      <td>73948</td>\n",
       "      <td>The Tinder Swindler</td>\n",
       "      <td>69</td>\n",
       "    </tr>\n",
       "    <tr>\n",
       "      <th>source</th>\n",
       "      <td>76213</td>\n",
       "      <td>210</td>\n",
       "      <td>Twitter for iPhone</td>\n",
       "      <td>47828</td>\n",
       "    </tr>\n",
       "  </tbody>\n",
       "</table>\n",
       "</div>"
      ],
      "text/plain": [
       "               count unique                        top   freq\n",
       "user_name      76213  49767                          .    196\n",
       "user_location  76213  17911                    unknown  18485\n",
       "user_created   76213  54501  2020-10-06 00:15:38+00:00    160\n",
       "date           76213  70999  2022-02-07 21:13:06+00:00      5\n",
       "text           76213  73948        The Tinder Swindler     69\n",
       "source         76213    210         Twitter for iPhone  47828"
      ]
     },
     "execution_count": 141,
     "metadata": {},
     "output_type": "execute_result"
    }
   ],
   "source": [
    "df.describe(include= \"O\").T"
   ]
  },
  {
   "cell_type": "code",
   "execution_count": 142,
   "metadata": {},
   "outputs": [],
   "source": [
    "df_sample = df.sample(1000)"
   ]
  },
  {
   "cell_type": "markdown",
   "metadata": {},
   "source": [
    "### Load Spacy and init stop words"
   ]
  },
  {
   "cell_type": "code",
   "execution_count": 143,
   "metadata": {},
   "outputs": [
    {
     "name": "stderr",
     "output_type": "stream",
     "text": [
      "[nltk_data] Downloading package stopwords to\n",
      "[nltk_data]     /Users/alexanderkneis/nltk_data...\n",
      "[nltk_data]   Package stopwords is already up-to-date!\n"
     ]
    }
   ],
   "source": [
    "import spacy\n",
    "\n",
    "from spacy.tokenizer import _get_regex_pattern\n",
    "import nltk\n",
    "nltk.download('stopwords')\n",
    "from nltk.corpus import stopwords\n",
    "\n",
    "nlp = spacy.load('en_core_web_lg')\n",
    "\n",
    "# get default pattern for tokens that don't get split\n",
    "re_token_match = _get_regex_pattern(nlp.Defaults.token_match)\n",
    "# add patterns for hashtags and in-word hyphens\n",
    "re_token_match = f\"({re_token_match}|#\\w+|\\w+-\\w+)\"\n",
    "\n",
    "# overwrite token_match function of the tokenizer\n",
    "nlp.tokenizer.token_match = re.compile(re_token_match).match\n",
    "\n",
    "stop_words = stopwords.words('english')\n"
   ]
  },
  {
   "cell_type": "code",
   "execution_count": 144,
   "metadata": {},
   "outputs": [],
   "source": [
    "# extend stop words if needed\n",
    "stop_words.extend([])"
   ]
  },
  {
   "cell_type": "markdown",
   "metadata": {},
   "source": [
    "#### Create docs via spacy"
   ]
  },
  {
   "cell_type": "code",
   "execution_count": 168,
   "metadata": {},
   "outputs": [],
   "source": [
    "# create docs list with nlp\n",
    "docs = list(nlp.pipe(df.text, n_process=6))"
   ]
  },
  {
   "cell_type": "code",
   "execution_count": 146,
   "metadata": {},
   "outputs": [],
   "source": [
    "doc_vectors = [doc.vector for doc in docs]"
   ]
  },
  {
   "cell_type": "code",
   "execution_count": 169,
   "metadata": {},
   "outputs": [
    {
     "data": {
      "text/plain": [
       "the tinder swindler a sick nigga 😂😂"
      ]
     },
     "execution_count": 169,
     "metadata": {},
     "output_type": "execute_result"
    }
   ],
   "source": [
    "docs[4]"
   ]
  },
  {
   "cell_type": "markdown",
   "metadata": {},
   "source": [
    "### Get Hashtags\n",
    "- [ ] Remove punktation"
   ]
  },
  {
   "cell_type": "code",
   "execution_count": 148,
   "metadata": {},
   "outputs": [],
   "source": [
    "from spacy.matcher import Matcher\n",
    "\n",
    "matcher = Matcher(nlp.vocab)\n",
    "pattern = [{\"TEXT\": {\"REGEX\": \"^#\\w+|\\w+-\\w+\"}}]\n",
    "matcher.add('HASHTAG', [pattern])\n",
    "\n",
    "def getHashtags(doc):\n",
    "    matches = matcher(doc)\n",
    "    hashtags = []\n",
    "    for match_id, start, end in matches:\n",
    "        span = doc[start:end]  # The matched span\n",
    "        text = re.sub('[^A-Za-z0-9_-]+', '', span.text)\n",
    "        hashtags.append(text)\n",
    "    return hashtags\n",
    "\n",
    "# getHashtags(docs[15])\n",
    "# >>> ['tinderswindler']"
   ]
  },
  {
   "cell_type": "code",
   "execution_count": 149,
   "metadata": {},
   "outputs": [],
   "source": [
    "# create list of hastags\n",
    "hashtags = [item for sublist in list(getHashtags(doc) for doc in docs) for item in sublist]"
   ]
  },
  {
   "cell_type": "code",
   "execution_count": 150,
   "metadata": {},
   "outputs": [
    {
     "data": {
      "text/plain": [
       "Counter({'tinderswindler': 228, 'TheTinderSwindler': 138, 'TinderSwindler': 38, 'Netflix': 12, 'simonleviev': 5, 'Tinderswindler': 3, 'thetinderswindler': 3, 'TindlerSwindler': 3, 'TinderSwinder': 2, 'netflix': 2, 'radio': 2, 'Tinder': 1, 'shahamsamat': 1, 'joziswindler': 1, 'Puppetmaster': 1, 'robertfreegard': 1, 'SAMROMCSF': 1, 'VirtualSlumberParty': 1, 'Euphoria': 1, '200-2': 1, 'AbuLeviev': 1, 'Hushpuppi': 1, 'Bingeit': 1, 'docu-movie': 1, 'Masculinitysaturday': 1, 'instagram': 1, 'Facebook': 1, 'PREDATOR': 1, 'SIMONLEVIEV': 1, 'blacktwitter': 1, 're-enacting': 1, 'tinderswalwell': 1, 'SimonLeviev': 1, 'HEX': 1, 'HEXICAN': 1, 'PULSICAN': 1, 'tinder': 1, 'RedFlags': 1, 'pof': 1, 'NowPlaying': 1, 'BSRTop20NaijaCountdown': 1, 'Henry-Freegard': 1, 'IMDb': 1, 'SorryNotSorry': 1, 'CelebsGoDating': 1, '600lblife': 1, 'GoalOfTheDay': 1, 'BorisJohnson': 1, 'ThePuppetMaster': 1, 'TV': 1, 'NorthAfrica': 1, 'car-guard': 1, 'kwaki': 1, 'BabaCares': 1, 'gift': 1, 'co-sign': 1, 'ShimonHayut': 1, 'Respect': 1, 'Documentary': 1, 'BookofBobaFett': 1, 'alt-right': 1, 'EarthquakeInMombasa': 1, 'earthquakeinkirinyaga': 1, 'KenyaReformParty': 1, 'globetrotter': 1, 'fraud': 1, 'bloodsucker': 1, 'therightswipe': 1, 'AllOfUsAreDead': 1, 'zonauang': 1, 'zonaBU': 1, 'AllOfUsAreDeadEp12': 1, 'zonajajan': 1, 'ManifestNetflix': 1, 'thedevilsadvocate': 1, 'psychopathic': 1, 'self-proclaimed': 1, 'showprep': 1, 'con-artist': 1, 'tattystelly': 1, 'hisimon': 1, 'BHM': 1, 'genius': 1, 'whoa': 1, 'epic': 1, 'how': 1, 'wow': 1, 'noted': 1, 'bigstage2022': 1, 'NFT': 1, 'AFCON2021': 1, 'ValentinesDay': 1, 'trump': 1, 'BBMzansi': 1, 'wtf-ness': 1, 'nw': 1, 'playedbyyourownGame': 1, 'thewomaninthehouseacrossthestreet': 1})"
      ]
     },
     "execution_count": 150,
     "metadata": {},
     "output_type": "execute_result"
    }
   ],
   "source": [
    "from collections import Counter\n",
    "counter = Counter()\n",
    "\n",
    "for tag in hashtags:\n",
    "    counter[tag] += 1\n",
    "counter"
   ]
  },
  {
   "cell_type": "code",
   "execution_count": 167,
   "metadata": {},
   "outputs": [
    {
     "data": {
      "text/plain": [
       "[('tinderswindler', 228), ('TheTinderSwindler', 138), ('TinderSwindler', 38), ('Netflix', 12), ('simonleviev', 5), ('Tinderswindler', 3), ('thetinderswindler', 3), ('TindlerSwindler', 3), ('TinderSwinder', 2), ('netflix', 2), ('radio', 2), ('Tinder', 1), ('shahamsamat', 1), ('joziswindler', 1), ('Puppetmaster', 1), ('robertfreegard', 1), ('SAMROMCSF', 1), ('VirtualSlumberParty', 1), ('Euphoria', 1), ('200-2', 1)]"
      ]
     },
     "execution_count": 167,
     "metadata": {},
     "output_type": "execute_result"
    }
   ],
   "source": [
    "counter.most_common(20)"
   ]
  },
  {
   "cell_type": "markdown",
   "metadata": {},
   "source": [
    "### Cosine Similarity"
   ]
  },
  {
   "cell_type": "code",
   "execution_count": 151,
   "metadata": {},
   "outputs": [],
   "source": [
    "from sklearn.metrics.pairwise import cosine_similarity\n",
    "similarity = cosine_similarity(doc_vectors)"
   ]
  },
  {
   "cell_type": "code",
   "execution_count": 152,
   "metadata": {},
   "outputs": [],
   "source": [
    "similarity[similarity < 0.95] = 0"
   ]
  },
  {
   "cell_type": "code",
   "execution_count": 153,
   "metadata": {},
   "outputs": [
    {
     "name": "stdout",
     "output_type": "stream",
     "text": [
      "array([[1.0000001 , 0.        , 0.        , ..., 0.        , 0.        ,\n",
      "        0.        ],\n",
      "       [0.        , 0.99999994, 0.        , ..., 0.        , 0.        ,\n",
      "        0.        ],\n",
      "       [0.        , 0.        , 1.        , ..., 0.        , 0.        ,\n",
      "        0.        ],\n",
      "       ...,\n",
      "       [0.        , 0.        , 0.        , ..., 0.99999994, 0.        ,\n",
      "        0.        ],\n",
      "       [0.        , 0.        , 0.        , ..., 0.        , 0.9999999 ,\n",
      "        0.        ],\n",
      "       [0.        , 0.        , 0.        , ..., 0.        , 0.        ,\n",
      "        1.0000001 ]], dtype=float32)\n"
     ]
    }
   ],
   "source": [
    "from pprint import pprint\n",
    "\n",
    "pprint(similarity)"
   ]
  },
  {
   "cell_type": "code",
   "execution_count": 154,
   "metadata": {},
   "outputs": [],
   "source": [
    "import networkx as nx\n",
    "G = nx.from_numpy_array(similarity)\n"
   ]
  },
  {
   "cell_type": "code",
   "execution_count": 155,
   "metadata": {},
   "outputs": [
    {
     "data": {
      "image/png": "[encoded data removed]",
      "text/plain": [
       "<Figure size 432x288 with 1 Axes>"
      ]
     },
     "metadata": {},
     "output_type": "display_data"
    }
   ],
   "source": [
    "nx.draw(G)"
   ]
  },
  {
   "cell_type": "markdown",
   "metadata": {},
   "source": [
    "### Document Term Matrix"
   ]
  },
  {
   "cell_type": "code",
   "execution_count": 156,
   "metadata": {},
   "outputs": [
    {
     "name": "stdout",
     "output_type": "stream",
     "text": [
      "                   Doc 1  Doc 2  Doc 3  Doc 4  Doc 5  Doc 6  Doc 7  Doc 8  \\\n",
      "swindler               1      0      1      0      1      0      0      1   \n",
      "tinder                 1      0      1      0      1      0      0      0   \n",
      "thetinderswindler      0      1      0      1      0      0      1      0   \n",
      "watching               0      0      0      2      0      0      0      0   \n",
      "like                   1      0      0      1      0      0      0      0   \n",
      "real                   0      1      0      0      0      0      0      0   \n",
      "movie                  1      0      0      1      0      0      0      0   \n",
      "checked                0      1      0      0      0      0      0      0   \n",
      "series                 0      0      0      1      0      0      0      0   \n",
      "crazy                  0      0      0      1      0      0      0      0   \n",
      "\n",
      "                   Doc 9  \n",
      "swindler               1  \n",
      "tinder                 1  \n",
      "thetinderswindler      0  \n",
      "watching               0  \n",
      "like                   0  \n",
      "real                   1  \n",
      "movie                  0  \n",
      "checked                0  \n",
      "series                 0  \n",
      "crazy                  0  \n"
     ]
    }
   ],
   "source": [
    "from sklearn.feature_extraction.text import CountVectorizer\n",
    "\n",
    "# Count Vectorizer\n",
    "vect = CountVectorizer(stop_words=stop_words)  \n",
    "vects = vect.fit_transform(df_sample.text)\n",
    "\n",
    "# Select the first five rows from the data set\n",
    "td = pd.DataFrame(vects.todense()).iloc[:9]  \n",
    "td.columns = vect.get_feature_names_out()\n",
    "term_document_matrix = td.T\n",
    "term_document_matrix.columns = ['Doc '+str(i) for i in range(1, 10)]\n",
    "term_document_matrix['total_count'] = term_document_matrix.sum(axis=1)\n",
    "\n",
    "# Top 25 words \n",
    "term_document_matrix = term_document_matrix.sort_values(by ='total_count',ascending=False)[:25] \n",
    "\n",
    "# Print the first 10 rows \n",
    "print(term_document_matrix.drop(columns=['total_count']).head(10))"
   ]
  },
  {
   "cell_type": "code",
   "execution_count": 157,
   "metadata": {},
   "outputs": [
    {
     "data": {
      "text/plain": [
       "<AxesSubplot:>"
      ]
     },
     "execution_count": 157,
     "metadata": {},
     "output_type": "execute_result"
    },
    {
     "data": {
      "image/png": "[encoded data removed]",
      "text/plain": [
       "<Figure size 432x288 with 1 Axes>"
      ]
     },
     "metadata": {
      "needs_background": "light"
     },
     "output_type": "display_data"
    }
   ],
   "source": [
    "term_document_matrix['total_count'].plot.bar()"
   ]
  }
 ],
 "metadata": {
  "kernelspec": {
   "display_name": "Python 3.8.2 64-bit",
   "language": "python",
   "name": "python3"
  },
  "language_info": {
   "codemirror_mode": {
    "name": "ipython",
    "version": 3
   },
   "file_extension": ".py",
   "mimetype": "text/x-python",
   "name": "python",
   "nbconvert_exporter": "python",
   "pygments_lexer": "ipython3",
   "version": "3.8.2"
  },
  "orig_nbformat": 4,
  "vscode": {
   "interpreter": {
    "hash": "0adcc2737ebf6a4a119f135174df96668767fca1ef1112612db5ecadf2b6d608"
   }
  }
 },
 "nbformat": 4,
 "nbformat_minor": 2
}

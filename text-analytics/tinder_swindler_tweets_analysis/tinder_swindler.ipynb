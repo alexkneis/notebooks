{
 "cells": [
  {
   "cell_type": "code",
   "execution_count": 19,
   "metadata": {},
   "outputs": [],
   "source": [
    "import pandas as pd\n",
    "import matplotlib.pyplot as plt\n",
    "import seaborn as sns\n",
    "from collections import Counter\n",
    "from pprint import pprint\n",
    "import spacy\n",
    "from spacy.tokenizer import _get_regex_pattern\n",
    "import nltk\n",
    "from nltk.corpus import stopwords\n",
    "import re\n",
    "from spacy.matcher import Matcher\n",
    "import spacy\n",
    "from spacymoji import Emoji\n",
    "import emoji\n",
    "from pprint import pprint\n",
    "from sklearn.metrics.pairwise import cosine_similarity\n",
    "import string\n",
    "from sklearn.feature_extraction.text import CountVectorizer"
   ]
  },
  {
   "cell_type": "markdown",
   "metadata": {},
   "source": [
    "## Tinder Swindler 100k Tweets"
   ]
  },
  {
   "cell_type": "code",
   "execution_count": 20,
   "metadata": {},
   "outputs": [],
   "source": [
    "# load the dataset\n",
    "file = './TinderSwindlerVersion2.csv'\n",
    "df = pd.read_csv(file)"
   ]
  },
  {
   "cell_type": "code",
   "execution_count": 21,
   "metadata": {},
   "outputs": [
    {
     "data": {
      "text/html": [
       "<div>\n",
       "<style scoped>\n",
       "    .dataframe tbody tr th:only-of-type {\n",
       "        vertical-align: middle;\n",
       "    }\n",
       "\n",
       "    .dataframe tbody tr th {\n",
       "        vertical-align: top;\n",
       "    }\n",
       "\n",
       "    .dataframe thead th {\n",
       "        text-align: right;\n",
       "    }\n",
       "</style>\n",
       "<table border=\"1\" class=\"dataframe\">\n",
       "  <thead>\n",
       "    <tr style=\"text-align: right;\">\n",
       "      <th></th>\n",
       "      <th>user_name</th>\n",
       "      <th>user_location</th>\n",
       "      <th>user_created</th>\n",
       "      <th>user_followers</th>\n",
       "      <th>user_verified</th>\n",
       "      <th>date</th>\n",
       "      <th>text</th>\n",
       "      <th>source</th>\n",
       "      <th>is_retweet</th>\n",
       "    </tr>\n",
       "  </thead>\n",
       "  <tbody>\n",
       "    <tr>\n",
       "      <th>0</th>\n",
       "      <td>globalnode.saito 🟥🐳🐈‍⬛</td>\n",
       "      <td>Travelling the World on Web3</td>\n",
       "      <td>2009-06-03 20:18:22+00:00</td>\n",
       "      <td>768</td>\n",
       "      <td>False</td>\n",
       "      <td>2022-02-09 17:09:22+00:00</td>\n",
       "      <td>@T1gmee Tinder Swindler, off Netflix</td>\n",
       "      <td>Twitter for iPhone</td>\n",
       "      <td>False</td>\n",
       "    </tr>\n",
       "    <tr>\n",
       "      <th>1</th>\n",
       "      <td>Ungovernable 🇧🇮</td>\n",
       "      <td>NaN</td>\n",
       "      <td>2011-09-04 22:46:26+00:00</td>\n",
       "      <td>385</td>\n",
       "      <td>False</td>\n",
       "      <td>2022-02-09 17:09:18+00:00</td>\n",
       "      <td>#tinderswindler , basically homeboy got away w...</td>\n",
       "      <td>Twitter for iPhone</td>\n",
       "      <td>False</td>\n",
       "    </tr>\n",
       "    <tr>\n",
       "      <th>2</th>\n",
       "      <td>Adefolake</td>\n",
       "      <td>NaN</td>\n",
       "      <td>2009-06-02 14:18:44+00:00</td>\n",
       "      <td>1994</td>\n",
       "      <td>False</td>\n",
       "      <td>2022-02-09 17:09:17+00:00</td>\n",
       "      <td>Not the tinder swindler becoming a TIk Tok sta...</td>\n",
       "      <td>Twitter for iPhone</td>\n",
       "      <td>False</td>\n",
       "    </tr>\n",
       "    <tr>\n",
       "      <th>3</th>\n",
       "      <td>✧ ☽</td>\n",
       "      <td>Noord-Brabant</td>\n",
       "      <td>2012-02-12 07:35:26+00:00</td>\n",
       "      <td>336</td>\n",
       "      <td>False</td>\n",
       "      <td>2022-02-09 17:09:07+00:00</td>\n",
       "      <td>Why isn’t Shimon Hayut in jail ????? #thetinde...</td>\n",
       "      <td>Twitter for iPhone</td>\n",
       "      <td>False</td>\n",
       "    </tr>\n",
       "    <tr>\n",
       "      <th>4</th>\n",
       "      <td>chivo. 🥶</td>\n",
       "      <td>PG/MD</td>\n",
       "      <td>2010-03-22 21:23:17+00:00</td>\n",
       "      <td>1046</td>\n",
       "      <td>False</td>\n",
       "      <td>2022-02-09 17:09:06+00:00</td>\n",
       "      <td>the tinder swindler a sick nigga 😂😂</td>\n",
       "      <td>Twitter Web App</td>\n",
       "      <td>False</td>\n",
       "    </tr>\n",
       "    <tr>\n",
       "      <th>5</th>\n",
       "      <td>kira</td>\n",
       "      <td>Toronto, Ontario</td>\n",
       "      <td>2010-07-02 12:50:53+00:00</td>\n",
       "      <td>362</td>\n",
       "      <td>False</td>\n",
       "      <td>2022-02-09 17:09:03+00:00</td>\n",
       "      <td>No those women on the Tinder swindler pissed m...</td>\n",
       "      <td>Twitter for iPhone</td>\n",
       "      <td>False</td>\n",
       "    </tr>\n",
       "    <tr>\n",
       "      <th>6</th>\n",
       "      <td>fogmistress698</td>\n",
       "      <td>NaN</td>\n",
       "      <td>2020-05-05 08:47:57+00:00</td>\n",
       "      <td>210</td>\n",
       "      <td>False</td>\n",
       "      <td>2022-02-09 17:08:55+00:00</td>\n",
       "      <td>This manipulation is how scammers pull you in ...</td>\n",
       "      <td>Twitter Web App</td>\n",
       "      <td>False</td>\n",
       "    </tr>\n",
       "    <tr>\n",
       "      <th>7</th>\n",
       "      <td>melraunch</td>\n",
       "      <td>East, England</td>\n",
       "      <td>2019-05-24 23:18:01+00:00</td>\n",
       "      <td>3268</td>\n",
       "      <td>False</td>\n",
       "      <td>2022-02-09 17:08:45+00:00</td>\n",
       "      <td>@robertstweets1 @DistantFixed I waited for him...</td>\n",
       "      <td>Twitter for iPhone</td>\n",
       "      <td>False</td>\n",
       "    </tr>\n",
       "    <tr>\n",
       "      <th>8</th>\n",
       "      <td>Pamela Power</td>\n",
       "      <td>Johannesburg, South Africa</td>\n",
       "      <td>2009-07-10 12:51:24+00:00</td>\n",
       "      <td>6306</td>\n",
       "      <td>False</td>\n",
       "      <td>2022-02-09 17:08:41+00:00</td>\n",
       "      <td>Hmmm...he's like the #tinderswindler https://t...</td>\n",
       "      <td>Twitter for Android</td>\n",
       "      <td>False</td>\n",
       "    </tr>\n",
       "    <tr>\n",
       "      <th>9</th>\n",
       "      <td>CaliMcCormac</td>\n",
       "      <td>NaN</td>\n",
       "      <td>2022-02-09 16:48:06+00:00</td>\n",
       "      <td>0</td>\n",
       "      <td>False</td>\n",
       "      <td>2022-02-09 17:08:40+00:00</td>\n",
       "      <td>Wow just watching the Twitter Swindler and it ...</td>\n",
       "      <td>Twitter for iPhone</td>\n",
       "      <td>False</td>\n",
       "    </tr>\n",
       "  </tbody>\n",
       "</table>\n",
       "</div>"
      ],
      "text/plain": [
       "                user_name                 user_location  \\\n",
       "0  globalnode.saito 🟥🐳🐈‍⬛  Travelling the World on Web3   \n",
       "1         Ungovernable 🇧🇮                           NaN   \n",
       "2               Adefolake                           NaN   \n",
       "3                     ✧ ☽                 Noord-Brabant   \n",
       "4                chivo. 🥶                         PG/MD   \n",
       "5                    kira              Toronto, Ontario   \n",
       "6          fogmistress698                           NaN   \n",
       "7               melraunch                 East, England   \n",
       "8            Pamela Power    Johannesburg, South Africa   \n",
       "9            CaliMcCormac                           NaN   \n",
       "\n",
       "                user_created  user_followers  user_verified  \\\n",
       "0  2009-06-03 20:18:22+00:00             768          False   \n",
       "1  2011-09-04 22:46:26+00:00             385          False   \n",
       "2  2009-06-02 14:18:44+00:00            1994          False   \n",
       "3  2012-02-12 07:35:26+00:00             336          False   \n",
       "4  2010-03-22 21:23:17+00:00            1046          False   \n",
       "5  2010-07-02 12:50:53+00:00             362          False   \n",
       "6  2020-05-05 08:47:57+00:00             210          False   \n",
       "7  2019-05-24 23:18:01+00:00            3268          False   \n",
       "8  2009-07-10 12:51:24+00:00            6306          False   \n",
       "9  2022-02-09 16:48:06+00:00               0          False   \n",
       "\n",
       "                        date  \\\n",
       "0  2022-02-09 17:09:22+00:00   \n",
       "1  2022-02-09 17:09:18+00:00   \n",
       "2  2022-02-09 17:09:17+00:00   \n",
       "3  2022-02-09 17:09:07+00:00   \n",
       "4  2022-02-09 17:09:06+00:00   \n",
       "5  2022-02-09 17:09:03+00:00   \n",
       "6  2022-02-09 17:08:55+00:00   \n",
       "7  2022-02-09 17:08:45+00:00   \n",
       "8  2022-02-09 17:08:41+00:00   \n",
       "9  2022-02-09 17:08:40+00:00   \n",
       "\n",
       "                                                text               source  \\\n",
       "0               @T1gmee Tinder Swindler, off Netflix   Twitter for iPhone   \n",
       "1  #tinderswindler , basically homeboy got away w...   Twitter for iPhone   \n",
       "2  Not the tinder swindler becoming a TIk Tok sta...   Twitter for iPhone   \n",
       "3  Why isn’t Shimon Hayut in jail ????? #thetinde...   Twitter for iPhone   \n",
       "4                the tinder swindler a sick nigga 😂😂      Twitter Web App   \n",
       "5  No those women on the Tinder swindler pissed m...   Twitter for iPhone   \n",
       "6  This manipulation is how scammers pull you in ...      Twitter Web App   \n",
       "7  @robertstweets1 @DistantFixed I waited for him...   Twitter for iPhone   \n",
       "8  Hmmm...he's like the #tinderswindler https://t...  Twitter for Android   \n",
       "9  Wow just watching the Twitter Swindler and it ...   Twitter for iPhone   \n",
       "\n",
       "   is_retweet  \n",
       "0       False  \n",
       "1       False  \n",
       "2       False  \n",
       "3       False  \n",
       "4       False  \n",
       "5       False  \n",
       "6       False  \n",
       "7       False  \n",
       "8       False  \n",
       "9       False  "
      ]
     },
     "execution_count": 21,
     "metadata": {},
     "output_type": "execute_result"
    }
   ],
   "source": [
    "df.head(10)"
   ]
  },
  {
   "cell_type": "markdown",
   "metadata": {},
   "source": [
    "### Data Cleansing"
   ]
  },
  {
   "cell_type": "code",
   "execution_count": 22,
   "metadata": {},
   "outputs": [
    {
     "data": {
      "text/plain": [
       "user_name             5\n",
       "user_location     18481\n",
       "user_created          0\n",
       "user_followers        0\n",
       "user_verified         0\n",
       "date                  0\n",
       "text                  0\n",
       "source                0\n",
       "is_retweet            0\n",
       "dtype: int64"
      ]
     },
     "execution_count": 22,
     "metadata": {},
     "output_type": "execute_result"
    }
   ],
   "source": [
    "df.isna().sum()"
   ]
  },
  {
   "cell_type": "code",
   "execution_count": 23,
   "metadata": {},
   "outputs": [],
   "source": [
    "df[\"user_name\"].fillna('unknown', inplace=True)\n",
    "df[\"user_location\"].fillna('unknown', inplace=True)"
   ]
  },
  {
   "cell_type": "code",
   "execution_count": 24,
   "metadata": {},
   "outputs": [],
   "source": [
    "# Remove urls from tweets\n",
    "df.text = df.text.apply(lambda text: re.sub(r'http\\S+|http', '', text))"
   ]
  },
  {
   "cell_type": "code",
   "execution_count": 25,
   "metadata": {},
   "outputs": [],
   "source": [
    "df = df[df.is_retweet != True]"
   ]
  },
  {
   "cell_type": "code",
   "execution_count": 26,
   "metadata": {},
   "outputs": [
    {
     "data": {
      "text/html": [
       "<div>\n",
       "<style scoped>\n",
       "    .dataframe tbody tr th:only-of-type {\n",
       "        vertical-align: middle;\n",
       "    }\n",
       "\n",
       "    .dataframe tbody tr th {\n",
       "        vertical-align: top;\n",
       "    }\n",
       "\n",
       "    .dataframe thead th {\n",
       "        text-align: right;\n",
       "    }\n",
       "</style>\n",
       "<table border=\"1\" class=\"dataframe\">\n",
       "  <thead>\n",
       "    <tr style=\"text-align: right;\">\n",
       "      <th></th>\n",
       "      <th>count</th>\n",
       "      <th>unique</th>\n",
       "      <th>top</th>\n",
       "      <th>freq</th>\n",
       "    </tr>\n",
       "  </thead>\n",
       "  <tbody>\n",
       "    <tr>\n",
       "      <th>user_name</th>\n",
       "      <td>76213</td>\n",
       "      <td>49767</td>\n",
       "      <td>.</td>\n",
       "      <td>196</td>\n",
       "    </tr>\n",
       "    <tr>\n",
       "      <th>user_location</th>\n",
       "      <td>76213</td>\n",
       "      <td>17911</td>\n",
       "      <td>unknown</td>\n",
       "      <td>18485</td>\n",
       "    </tr>\n",
       "    <tr>\n",
       "      <th>user_created</th>\n",
       "      <td>76213</td>\n",
       "      <td>54501</td>\n",
       "      <td>2020-10-06 00:15:38+00:00</td>\n",
       "      <td>160</td>\n",
       "    </tr>\n",
       "    <tr>\n",
       "      <th>date</th>\n",
       "      <td>76213</td>\n",
       "      <td>70999</td>\n",
       "      <td>2022-02-07 21:13:06+00:00</td>\n",
       "      <td>5</td>\n",
       "    </tr>\n",
       "    <tr>\n",
       "      <th>text</th>\n",
       "      <td>76213</td>\n",
       "      <td>73948</td>\n",
       "      <td>The Tinder Swindler</td>\n",
       "      <td>69</td>\n",
       "    </tr>\n",
       "    <tr>\n",
       "      <th>source</th>\n",
       "      <td>76213</td>\n",
       "      <td>210</td>\n",
       "      <td>Twitter for iPhone</td>\n",
       "      <td>47828</td>\n",
       "    </tr>\n",
       "  </tbody>\n",
       "</table>\n",
       "</div>"
      ],
      "text/plain": [
       "               count unique                        top   freq\n",
       "user_name      76213  49767                          .    196\n",
       "user_location  76213  17911                    unknown  18485\n",
       "user_created   76213  54501  2020-10-06 00:15:38+00:00    160\n",
       "date           76213  70999  2022-02-07 21:13:06+00:00      5\n",
       "text           76213  73948        The Tinder Swindler     69\n",
       "source         76213    210         Twitter for iPhone  47828"
      ]
     },
     "execution_count": 26,
     "metadata": {},
     "output_type": "execute_result"
    }
   ],
   "source": [
    "df.describe(include= \"O\").T"
   ]
  },
  {
   "cell_type": "code",
   "execution_count": 27,
   "metadata": {},
   "outputs": [],
   "source": [
    "df_sample = df.sample(10000)"
   ]
  },
  {
   "cell_type": "markdown",
   "metadata": {},
   "source": [
    "### Load Spacy and init stop words"
   ]
  },
  {
   "cell_type": "code",
   "execution_count": 28,
   "metadata": {},
   "outputs": [
    {
     "name": "stderr",
     "output_type": "stream",
     "text": [
      "[nltk_data] Error loading stopwords: <urlopen error [SSL:\n",
      "[nltk_data]     CERTIFICATE_VERIFY_FAILED] certificate verify failed:\n",
      "[nltk_data]     unable to get local issuer certificate (_ssl.c:1108)>\n"
     ]
    }
   ],
   "source": [
    "nltk.download('stopwords')\n",
    "\n",
    "nlp = spacy.load('en_core_web_lg')\n",
    "nlp.add_pipe(\"emoji\", first=True)\n",
    "\n",
    "# get default pattern for tokens that don't get split\n",
    "re_token_match = _get_regex_pattern(nlp.Defaults.token_match)\n",
    "# add patterns for hashtags and in-word hyphens\n",
    "re_token_match = f\"({re_token_match}|#\\w+|\\w+-\\w+)\"\n",
    "\n",
    "# overwrite token_match function of the tokenizer\n",
    "nlp.tokenizer.token_match = re.compile(re_token_match).match\n",
    "\n",
    "stop_words = stopwords.words('english')\n"
   ]
  },
  {
   "cell_type": "code",
   "execution_count": 172,
   "metadata": {},
   "outputs": [],
   "source": [
    "# extend stop words if needed\n",
    "stop_words.extend(['\\n', \"\\n\\n\",'hi','\\n','\\n\\n', '&amp;', ' ', '.','…','…', '-', 'got', \"it's\", 'it’s', \"i'm\", 'i’m', 'im', 'want', 'like', '$', '@'])"
   ]
  },
  {
   "cell_type": "code",
   "execution_count": 173,
   "metadata": {},
   "outputs": [],
   "source": [
    "no_stop_words = [\n",
    "    'not'\n",
    "]\n",
    "\n",
    "for w in no_stop_words:\n",
    "    nlp.vocab[w].is_stop = False"
   ]
  },
  {
   "cell_type": "markdown",
   "metadata": {},
   "source": [
    "#### Create docs via spacy\n",
    "Follow along [this](https://towardsdatascience.com/text-preprocessing-steps-and-universal-pipeline-94233cb6725a) guide for more details about each single step"
   ]
  },
  {
   "cell_type": "code",
   "execution_count": 31,
   "metadata": {},
   "outputs": [],
   "source": [
    "# custom extended abbreviations\n",
    "custom_abbreviations = {\"bdrm\": \"bedroom\"}\n",
    "\n",
    "def normalize(text):\n",
    "    # choosing BrE variety here since majority of posts are from the UK\n",
    "        try:\n",
    "            return ' '.join(normalise(text, variety=\"BrE\", user_abbrevs=custom_abbreviations, verbose=False))\n",
    "        except:\n",
    "            return text"
   ]
  },
  {
   "cell_type": "code",
   "execution_count": 32,
   "metadata": {},
   "outputs": [
    {
     "data": {
      "text/plain": [
       "33109    @_ItsMarisWorld_ “set it up” is just so so goo...\n",
       "66592    This woman was taking out loans to give a bill...\n",
       "40416    14/02/2022 ON ALL DSP's❗❤🔥\\n\\nKindly pre-save:...\n",
       "5138                       @reallysamreed Sam the Swindler\n",
       "21540                 Let me watch lo Tinder Swindler wenu\n",
       "                               ...                        \n",
       "66398    Lmao after God fear men!! 😭😭😭😭😭 I’m not even d...\n",
       "8898                   White women... wyd? #tinderswindler\n",
       "12396    @castlelitesa My Mom said alcohol is your enem...\n",
       "58258    What do I want as a #ValentinesDay gift?\\nI ju...\n",
       "17124    Simon being dedicated to the game and wanting ...\n",
       "Name: text, Length: 10000, dtype: object"
      ]
     },
     "execution_count": 32,
     "metadata": {},
     "output_type": "execute_result"
    }
   ],
   "source": [
    "df_sample.text.apply(normalize)"
   ]
  },
  {
   "cell_type": "code",
   "execution_count": 33,
   "metadata": {},
   "outputs": [],
   "source": [
    "# create docs list with nlp\n",
    "docs = [d for d in nlp.pipe(df_sample.text, n_process=6)]"
   ]
  },
  {
   "cell_type": "code",
   "execution_count": 34,
   "metadata": {},
   "outputs": [],
   "source": [
    "def remove_stop_words(doc):\n",
    "    return [t for t in doc if not t.is_stop]"
   ]
  },
  {
   "cell_type": "code",
   "execution_count": 35,
   "metadata": {},
   "outputs": [],
   "source": [
    "# python based removal\n",
    "def remove_punct(doc):\n",
    "    return [t for t in doc if t.text not in string.punctuation]"
   ]
  },
  {
   "cell_type": "code",
   "execution_count": 36,
   "metadata": {},
   "outputs": [],
   "source": [
    "def remove_hashtag(doc):\n",
    "    return [t for t in doc if not t.text.startswith('#')]"
   ]
  },
  {
   "cell_type": "code",
   "execution_count": 37,
   "metadata": {},
   "outputs": [],
   "source": [
    "def remove_annotations(doc):\n",
    "    return [t for t in doc if not t.text.startswith('@')]"
   ]
  },
  {
   "cell_type": "code",
   "execution_count": 38,
   "metadata": {},
   "outputs": [],
   "source": [
    "def remove_linebreaks(doc):\n",
    "    return [t for t in doc if not \"\\n\" in t.text]"
   ]
  },
  {
   "cell_type": "code",
   "execution_count": 39,
   "metadata": {},
   "outputs": [],
   "source": [
    "def lemmatize(doc):\n",
    "    return ' '.join([t.lemma_ for t in doc])"
   ]
  },
  {
   "cell_type": "code",
   "execution_count": 40,
   "metadata": {},
   "outputs": [],
   "source": [
    "def lemmatize_token(doc):\n",
    "    return [t.lemma_ for t in doc]"
   ]
  },
  {
   "cell_type": "code",
   "execution_count": 41,
   "metadata": {},
   "outputs": [],
   "source": [
    "def preprocess_text(doc, keep_token):\n",
    "        removed_punct = remove_punct(doc)\n",
    "        removed_stop_words = remove_stop_words(removed_punct)\n",
    "        removed_hashtag = remove_hashtag(removed_stop_words)\n",
    "        removed_annotations = remove_annotations(removed_hashtag)\n",
    "        removed_linebreaks = remove_linebreaks(removed_annotations)\n",
    "        if keep_token:\n",
    "                return lemmatize_token(removed_linebreaks)\n",
    "        else:\n",
    "                return lemmatize(removed_linebreaks)"
   ]
  },
  {
   "cell_type": "code",
   "execution_count": 42,
   "metadata": {},
   "outputs": [],
   "source": [
    "pre_proccesed_texts = [preprocess_text(doc, False) for doc in docs]"
   ]
  },
  {
   "cell_type": "code",
   "execution_count": 43,
   "metadata": {},
   "outputs": [
    {
     "data": {
      "text/plain": [
       "'\" set \" good watch \" secret \" tinder swindler doc'"
      ]
     },
     "execution_count": 43,
     "metadata": {},
     "output_type": "execute_result"
    }
   ],
   "source": [
    "pre_proccesed_texts[0]"
   ]
  },
  {
   "cell_type": "code",
   "execution_count": 44,
   "metadata": {},
   "outputs": [],
   "source": [
    "pre_proccesed_docs = [preprocess_text(doc, True) for doc in docs]"
   ]
  },
  {
   "cell_type": "markdown",
   "metadata": {},
   "source": [
    "### Get Hashtags and Emoji"
   ]
  },
  {
   "cell_type": "code",
   "execution_count": 45,
   "metadata": {},
   "outputs": [],
   "source": [
    "matcher = Matcher(nlp.vocab)\n",
    "pattern = [{\"TEXT\": {\"REGEX\": \"^#\\w+|\\w+-\\w+\"}}]\n",
    "matcher.add('HASHTAG', [pattern])\n",
    "\n",
    "def getHashtags(doc):\n",
    "    matches = matcher(doc)\n",
    "    hashtags = []\n",
    "    for match_id, start, end in matches:\n",
    "        span = doc[start:end]  # The matched span\n",
    "        text = re.sub('[^A-Za-z0-9_-]+', '', span.text)\n",
    "        hashtags.append(text)\n",
    "    return hashtags\n",
    "\n",
    "# getHashtags(docs[15])\n",
    "# >>> ['tinderswindler']"
   ]
  },
  {
   "cell_type": "code",
   "execution_count": 46,
   "metadata": {},
   "outputs": [],
   "source": [
    "# create list of hastags\n",
    "hashtags = [item for sublist in list(getHashtags(doc) for doc in docs) for item in sublist]"
   ]
  },
  {
   "cell_type": "code",
   "execution_count": 47,
   "metadata": {},
   "outputs": [],
   "source": [
    "counter = Counter()\n",
    "\n",
    "for tag in hashtags:\n",
    "    counter[tag] += 1\n",
    "\n",
    "top_15_hashtags = counter.most_common(15)"
   ]
  },
  {
   "cell_type": "code",
   "execution_count": 48,
   "metadata": {},
   "outputs": [],
   "source": [
    "df_hashtags = pd.DataFrame.from_records(top_15_hashtags, columns =['hashtag', 'count'])"
   ]
  },
  {
   "cell_type": "code",
   "execution_count": 49,
   "metadata": {},
   "outputs": [
    {
     "data": {
      "text/html": [
       "<div>\n",
       "<style scoped>\n",
       "    .dataframe tbody tr th:only-of-type {\n",
       "        vertical-align: middle;\n",
       "    }\n",
       "\n",
       "    .dataframe tbody tr th {\n",
       "        vertical-align: top;\n",
       "    }\n",
       "\n",
       "    .dataframe thead th {\n",
       "        text-align: right;\n",
       "    }\n",
       "</style>\n",
       "<table border=\"1\" class=\"dataframe\">\n",
       "  <thead>\n",
       "    <tr style=\"text-align: right;\">\n",
       "      <th></th>\n",
       "      <th>hashtag</th>\n",
       "      <th>count</th>\n",
       "    </tr>\n",
       "  </thead>\n",
       "  <tbody>\n",
       "    <tr>\n",
       "      <th>0</th>\n",
       "      <td>tinderswindler</td>\n",
       "      <td>2015</td>\n",
       "    </tr>\n",
       "    <tr>\n",
       "      <th>1</th>\n",
       "      <td>TheTinderSwindler</td>\n",
       "      <td>1441</td>\n",
       "    </tr>\n",
       "    <tr>\n",
       "      <th>2</th>\n",
       "      <td>TinderSwindler</td>\n",
       "      <td>324</td>\n",
       "    </tr>\n",
       "    <tr>\n",
       "      <th>3</th>\n",
       "      <td>Netflix</td>\n",
       "      <td>82</td>\n",
       "    </tr>\n",
       "    <tr>\n",
       "      <th>4</th>\n",
       "      <td>thetinderswindler</td>\n",
       "      <td>31</td>\n",
       "    </tr>\n",
       "    <tr>\n",
       "      <th>5</th>\n",
       "      <td>simonleviev</td>\n",
       "      <td>27</td>\n",
       "    </tr>\n",
       "    <tr>\n",
       "      <th>6</th>\n",
       "      <td>TindlerSwindler</td>\n",
       "      <td>18</td>\n",
       "    </tr>\n",
       "    <tr>\n",
       "      <th>7</th>\n",
       "      <td>netflix</td>\n",
       "      <td>12</td>\n",
       "    </tr>\n",
       "    <tr>\n",
       "      <th>8</th>\n",
       "      <td>Tinderswindler</td>\n",
       "      <td>9</td>\n",
       "    </tr>\n",
       "    <tr>\n",
       "      <th>9</th>\n",
       "      <td>Tinder</td>\n",
       "      <td>9</td>\n",
       "    </tr>\n",
       "    <tr>\n",
       "      <th>10</th>\n",
       "      <td>SimonLeviev</td>\n",
       "      <td>9</td>\n",
       "    </tr>\n",
       "    <tr>\n",
       "      <th>11</th>\n",
       "      <td>Taooma</td>\n",
       "      <td>9</td>\n",
       "    </tr>\n",
       "    <tr>\n",
       "      <th>12</th>\n",
       "      <td>thepuppetmaster</td>\n",
       "      <td>8</td>\n",
       "    </tr>\n",
       "    <tr>\n",
       "      <th>13</th>\n",
       "      <td>tinder</td>\n",
       "      <td>7</td>\n",
       "    </tr>\n",
       "    <tr>\n",
       "      <th>14</th>\n",
       "      <td>SaveRayan</td>\n",
       "      <td>7</td>\n",
       "    </tr>\n",
       "  </tbody>\n",
       "</table>\n",
       "</div>"
      ],
      "text/plain": [
       "              hashtag  count\n",
       "0      tinderswindler   2015\n",
       "1   TheTinderSwindler   1441\n",
       "2      TinderSwindler    324\n",
       "3             Netflix     82\n",
       "4   thetinderswindler     31\n",
       "5         simonleviev     27\n",
       "6     TindlerSwindler     18\n",
       "7             netflix     12\n",
       "8      Tinderswindler      9\n",
       "9              Tinder      9\n",
       "10        SimonLeviev      9\n",
       "11             Taooma      9\n",
       "12    thepuppetmaster      8\n",
       "13             tinder      7\n",
       "14          SaveRayan      7"
      ]
     },
     "execution_count": 49,
     "metadata": {},
     "output_type": "execute_result"
    }
   ],
   "source": [
    "df_hashtags"
   ]
  },
  {
   "cell_type": "code",
   "execution_count": 50,
   "metadata": {},
   "outputs": [],
   "source": [
    "def getEmoji(doc):\n",
    "    emojis = set()\n",
    "    if doc._.has_emoji:\n",
    "        for emoji in doc._.emoji:\n",
    "                emojis.add((emoji[0],emoji[2])) \n",
    "\n",
    "    return emojis"
   ]
  },
  {
   "cell_type": "code",
   "execution_count": 51,
   "metadata": {},
   "outputs": [],
   "source": [
    "# create list of emojis\n",
    "emojis = [item for sublist in list(getEmoji(doc) for doc in docs) for item in sublist]"
   ]
  },
  {
   "cell_type": "code",
   "execution_count": 52,
   "metadata": {},
   "outputs": [],
   "source": [
    "counter = Counter()\n",
    "\n",
    "for emoji in emojis:\n",
    "    counter[emoji] += 1\n",
    "\n",
    "top_15_emoji = (counter.most_common(15))"
   ]
  },
  {
   "cell_type": "code",
   "execution_count": 53,
   "metadata": {},
   "outputs": [
    {
     "data": {
      "text/plain": [
       "[(('😂', 'face with tears of joy'), 685),\n",
       " (('😭', 'loudly crying face'), 401),\n",
       " (('🤣', 'rolling on the floor laughing'), 299),\n",
       " (('🤯', 'exploding head'), 150),\n",
       " (('💀', 'skull'), 106),\n",
       " (('😳', 'flushed face'), 97),\n",
       " (('😩', 'weary face'), 93),\n",
       " (('🥴', 'woozy face'), 54),\n",
       " (('👀', 'eyes'), 51),\n",
       " (('😅', 'grinning face with sweat'), 50),\n",
       " (('😱', 'face screaming in fear'), 41),\n",
       " (('🚩', 'triangular flag'), 38),\n",
       " (('🤔', 'thinking face'), 33),\n",
       " (('🔥', 'fire'), 31),\n",
       " (('🥺', 'pleading face'), 28)]"
      ]
     },
     "execution_count": 53,
     "metadata": {},
     "output_type": "execute_result"
    }
   ],
   "source": [
    "top_15_emoji"
   ]
  },
  {
   "cell_type": "code",
   "execution_count": 54,
   "metadata": {},
   "outputs": [
    {
     "name": "stdout",
     "output_type": "stream",
     "text": [
      "[['😂', 'face with tears of joy', 685], ['😭', 'loudly crying face', 401], ['🤣', 'rolling on the floor laughing', 299], ['🤯', 'exploding head', 150], ['💀', 'skull', 106], ['😳', 'flushed face', 97], ['😩', 'weary face', 93], ['🥴', 'woozy face', 54], ['👀', 'eyes', 51], ['😅', 'grinning face with sweat', 50], ['😱', 'face screaming in fear', 41], ['🚩', 'triangular flag', 38], ['🤔', 'thinking face', 33], ['🔥', 'fire', 31], ['🥺', 'pleading face', 28]]\n"
     ]
    }
   ],
   "source": [
    "flatted_emojis = []\n",
    "\n",
    "for emoji in top_15_emoji:\n",
    "    flatted_emoji = []\n",
    "    for entry in emoji:\n",
    "        if hasattr(entry, '__iter__'):\n",
    "            for i in entry:\n",
    "                flatted_emoji.append(i)\n",
    "        else:\n",
    "            flatted_emoji.append(entry)\n",
    "    flatted_emojis.append(flatted_emoji)\n",
    "\n",
    "print(flatted_emojis)\n",
    "    \n",
    "   \n"
   ]
  },
  {
   "cell_type": "code",
   "execution_count": 55,
   "metadata": {},
   "outputs": [],
   "source": [
    "# create DataFrame using data\n",
    "df_emoji = pd.DataFrame.from_records(flatted_emojis, columns =['emoji',\"desc\", 'count'])"
   ]
  },
  {
   "cell_type": "code",
   "execution_count": 56,
   "metadata": {},
   "outputs": [
    {
     "data": {
      "text/html": [
       "<div>\n",
       "<style scoped>\n",
       "    .dataframe tbody tr th:only-of-type {\n",
       "        vertical-align: middle;\n",
       "    }\n",
       "\n",
       "    .dataframe tbody tr th {\n",
       "        vertical-align: top;\n",
       "    }\n",
       "\n",
       "    .dataframe thead th {\n",
       "        text-align: right;\n",
       "    }\n",
       "</style>\n",
       "<table border=\"1\" class=\"dataframe\">\n",
       "  <thead>\n",
       "    <tr style=\"text-align: right;\">\n",
       "      <th></th>\n",
       "      <th>emoji</th>\n",
       "      <th>desc</th>\n",
       "      <th>count</th>\n",
       "    </tr>\n",
       "  </thead>\n",
       "  <tbody>\n",
       "    <tr>\n",
       "      <th>0</th>\n",
       "      <td>😂</td>\n",
       "      <td>face with tears of joy</td>\n",
       "      <td>685</td>\n",
       "    </tr>\n",
       "    <tr>\n",
       "      <th>1</th>\n",
       "      <td>😭</td>\n",
       "      <td>loudly crying face</td>\n",
       "      <td>401</td>\n",
       "    </tr>\n",
       "    <tr>\n",
       "      <th>2</th>\n",
       "      <td>🤣</td>\n",
       "      <td>rolling on the floor laughing</td>\n",
       "      <td>299</td>\n",
       "    </tr>\n",
       "    <tr>\n",
       "      <th>3</th>\n",
       "      <td>🤯</td>\n",
       "      <td>exploding head</td>\n",
       "      <td>150</td>\n",
       "    </tr>\n",
       "    <tr>\n",
       "      <th>4</th>\n",
       "      <td>💀</td>\n",
       "      <td>skull</td>\n",
       "      <td>106</td>\n",
       "    </tr>\n",
       "    <tr>\n",
       "      <th>5</th>\n",
       "      <td>😳</td>\n",
       "      <td>flushed face</td>\n",
       "      <td>97</td>\n",
       "    </tr>\n",
       "    <tr>\n",
       "      <th>6</th>\n",
       "      <td>😩</td>\n",
       "      <td>weary face</td>\n",
       "      <td>93</td>\n",
       "    </tr>\n",
       "    <tr>\n",
       "      <th>7</th>\n",
       "      <td>🥴</td>\n",
       "      <td>woozy face</td>\n",
       "      <td>54</td>\n",
       "    </tr>\n",
       "    <tr>\n",
       "      <th>8</th>\n",
       "      <td>👀</td>\n",
       "      <td>eyes</td>\n",
       "      <td>51</td>\n",
       "    </tr>\n",
       "    <tr>\n",
       "      <th>9</th>\n",
       "      <td>😅</td>\n",
       "      <td>grinning face with sweat</td>\n",
       "      <td>50</td>\n",
       "    </tr>\n",
       "    <tr>\n",
       "      <th>10</th>\n",
       "      <td>😱</td>\n",
       "      <td>face screaming in fear</td>\n",
       "      <td>41</td>\n",
       "    </tr>\n",
       "    <tr>\n",
       "      <th>11</th>\n",
       "      <td>🚩</td>\n",
       "      <td>triangular flag</td>\n",
       "      <td>38</td>\n",
       "    </tr>\n",
       "    <tr>\n",
       "      <th>12</th>\n",
       "      <td>🤔</td>\n",
       "      <td>thinking face</td>\n",
       "      <td>33</td>\n",
       "    </tr>\n",
       "    <tr>\n",
       "      <th>13</th>\n",
       "      <td>🔥</td>\n",
       "      <td>fire</td>\n",
       "      <td>31</td>\n",
       "    </tr>\n",
       "    <tr>\n",
       "      <th>14</th>\n",
       "      <td>🥺</td>\n",
       "      <td>pleading face</td>\n",
       "      <td>28</td>\n",
       "    </tr>\n",
       "  </tbody>\n",
       "</table>\n",
       "</div>"
      ],
      "text/plain": [
       "   emoji                           desc  count\n",
       "0      😂         face with tears of joy    685\n",
       "1      😭             loudly crying face    401\n",
       "2      🤣  rolling on the floor laughing    299\n",
       "3      🤯                 exploding head    150\n",
       "4      💀                          skull    106\n",
       "5      😳                   flushed face     97\n",
       "6      😩                     weary face     93\n",
       "7      🥴                     woozy face     54\n",
       "8      👀                           eyes     51\n",
       "9      😅       grinning face with sweat     50\n",
       "10     😱         face screaming in fear     41\n",
       "11     🚩                triangular flag     38\n",
       "12     🤔                  thinking face     33\n",
       "13     🔥                           fire     31\n",
       "14     🥺                  pleading face     28"
      ]
     },
     "execution_count": 56,
     "metadata": {},
     "output_type": "execute_result"
    }
   ],
   "source": [
    "df_emoji"
   ]
  },
  {
   "cell_type": "markdown",
   "metadata": {},
   "source": [
    "### First explorative Analysis"
   ]
  },
  {
   "cell_type": "code",
   "execution_count": 59,
   "metadata": {},
   "outputs": [
    {
     "data": {
      "image/png": "[encoded data removed]",
      "text/plain": [
       "<Figure size 1080x720 with 1 Axes>"
      ]
     },
     "metadata": {
      "needs_background": "light"
     },
     "output_type": "display_data"
    }
   ],
   "source": [
    "from pathlib import Path\n",
    "import matplotlib as mpl\n",
    "\n",
    "plt.figure(figsize=(15,10))\n",
    "sns.set(style=\"darkgrid\")\n",
    "ax = sns.barplot(x=\"desc\",y=\"count\", data=df_emoji)\n",
    "ax.set_xlabel(\"Description\")\n",
    "ax.set_ylabel(\"Count\")\n",
    "ax.tick_params(axis='x', rotation=90)\n"
   ]
  },
  {
   "cell_type": "code",
   "execution_count": 60,
   "metadata": {},
   "outputs": [
    {
     "data": {
      "image/png": "[encoded data removed]",
      "text/plain": [
       "<Figure size 1080x720 with 1 Axes>"
      ]
     },
     "metadata": {},
     "output_type": "display_data"
    }
   ],
   "source": [
    "plt.figure(figsize=(15,10))\n",
    "sns.set(style=\"darkgrid\")\n",
    "ax = sns.barplot(x=\"hashtag\",y=\"count\", data=df_hashtags)\n",
    "\n",
    "\n",
    "for p in ax.patches:\n",
    "    count = f'{p.get_height():.0f}\\n'\n",
    "    x = p.get_x() + p.get_width() / 2\n",
    "    y = p.get_height()\n",
    "    ax.annotate(count, (x, y), ha='center', va='center')\n",
    "\n",
    "ax.set_xlabel(\"Hashtag\")\n",
    "ax.set_ylabel(\"Count\")\n",
    "ax.tick_params(axis='x', rotation=90)\n"
   ]
  },
  {
   "cell_type": "code",
   "execution_count": 61,
   "metadata": {},
   "outputs": [
    {
     "data": {
      "image/png": "[encoded data removed]",
      "text/plain": [
       "<Figure size 1080x720 with 1 Axes>"
      ]
     },
     "metadata": {},
     "output_type": "display_data"
    }
   ],
   "source": [
    "plt.figure(figsize=(15,10))\n",
    "sns.set(style=\"darkgrid\")\n",
    "ax = sns.countplot(x=\"user_location\", data=df[df[\"user_location\"] != \"unknown\"], order=df[df[\"user_location\"] != \"unknown\"]['user_location'].value_counts().index[0:20])\n",
    "ax.set_xlabel(\"User Location\")\n",
    "ax.set_ylabel(\"Count\")\n",
    "ax.tick_params(axis='x', rotation=90)"
   ]
  },
  {
   "cell_type": "code",
   "execution_count": 62,
   "metadata": {},
   "outputs": [],
   "source": [
    "df['datetime_date'] = pd.to_datetime(df['date']).dt.date"
   ]
  },
  {
   "cell_type": "code",
   "execution_count": 63,
   "metadata": {},
   "outputs": [],
   "source": [
    "df_datecount = df.groupby(by=\"datetime_date\")['datetime_date'].count().reset_index(name=\"count\")"
   ]
  },
  {
   "cell_type": "code",
   "execution_count": 64,
   "metadata": {},
   "outputs": [
    {
     "data": {
      "text/html": [
       "<div>\n",
       "<style scoped>\n",
       "    .dataframe tbody tr th:only-of-type {\n",
       "        vertical-align: middle;\n",
       "    }\n",
       "\n",
       "    .dataframe tbody tr th {\n",
       "        vertical-align: top;\n",
       "    }\n",
       "\n",
       "    .dataframe thead th {\n",
       "        text-align: right;\n",
       "    }\n",
       "</style>\n",
       "<table border=\"1\" class=\"dataframe\">\n",
       "  <thead>\n",
       "    <tr style=\"text-align: right;\">\n",
       "      <th></th>\n",
       "      <th>datetime_date</th>\n",
       "      <th>count</th>\n",
       "    </tr>\n",
       "  </thead>\n",
       "  <tbody>\n",
       "    <tr>\n",
       "      <th>0</th>\n",
       "      <td>2022-02-01</td>\n",
       "      <td>80</td>\n",
       "    </tr>\n",
       "    <tr>\n",
       "      <th>1</th>\n",
       "      <td>2022-02-02</td>\n",
       "      <td>3130</td>\n",
       "    </tr>\n",
       "    <tr>\n",
       "      <th>2</th>\n",
       "      <td>2022-02-03</td>\n",
       "      <td>6725</td>\n",
       "    </tr>\n",
       "    <tr>\n",
       "      <th>3</th>\n",
       "      <td>2022-02-04</td>\n",
       "      <td>9080</td>\n",
       "    </tr>\n",
       "    <tr>\n",
       "      <th>4</th>\n",
       "      <td>2022-02-05</td>\n",
       "      <td>13420</td>\n",
       "    </tr>\n",
       "    <tr>\n",
       "      <th>5</th>\n",
       "      <td>2022-02-06</td>\n",
       "      <td>14831</td>\n",
       "    </tr>\n",
       "    <tr>\n",
       "      <th>6</th>\n",
       "      <td>2022-02-07</td>\n",
       "      <td>11798</td>\n",
       "    </tr>\n",
       "    <tr>\n",
       "      <th>7</th>\n",
       "      <td>2022-02-08</td>\n",
       "      <td>11042</td>\n",
       "    </tr>\n",
       "    <tr>\n",
       "      <th>8</th>\n",
       "      <td>2022-02-09</td>\n",
       "      <td>6107</td>\n",
       "    </tr>\n",
       "  </tbody>\n",
       "</table>\n",
       "</div>"
      ],
      "text/plain": [
       "  datetime_date  count\n",
       "0    2022-02-01     80\n",
       "1    2022-02-02   3130\n",
       "2    2022-02-03   6725\n",
       "3    2022-02-04   9080\n",
       "4    2022-02-05  13420\n",
       "5    2022-02-06  14831\n",
       "6    2022-02-07  11798\n",
       "7    2022-02-08  11042\n",
       "8    2022-02-09   6107"
      ]
     },
     "execution_count": 64,
     "metadata": {},
     "output_type": "execute_result"
    }
   ],
   "source": [
    "df_datecount"
   ]
  },
  {
   "cell_type": "code",
   "execution_count": 65,
   "metadata": {},
   "outputs": [
    {
     "data": {
      "text/plain": [
       "Text(0.5, 0, 'Date')"
      ]
     },
     "execution_count": 65,
     "metadata": {},
     "output_type": "execute_result"
    },
    {
     "data": {
      "image/png": "[encoded data removed]",
      "text/plain": [
       "<Figure size 1080x720 with 1 Axes>"
      ]
     },
     "metadata": {},
     "output_type": "display_data"
    }
   ],
   "source": [
    "plt.figure(figsize=(15,10))\n",
    "sns.set(style=\"darkgrid\")\n",
    "ax = sns.lineplot(data=df_datecount,x=df_datecount[\"datetime_date\"], y=df_datecount['count'].value_counts().index)\n",
    "ax.set_ylabel(\"Count of Tweets\")\n",
    "ax.set_xlabel(\"Date\")"
   ]
  },
  {
   "cell_type": "markdown",
   "metadata": {},
   "source": [
    "The film was released on Netflix on February 2, 2022"
   ]
  },
  {
   "cell_type": "code",
   "execution_count": 66,
   "metadata": {},
   "outputs": [],
   "source": [
    "# word count\n",
    "words = [item for sublist in pre_proccesed_docs for item in sublist]\n",
    "cv = CountVectorizer().fit(words)\n",
    "texts_count = cv.transform(words)\n",
    "sum_words = texts_count.sum(axis=0)\n",
    "words_freq = [(word, sum_words[0, idx]) for word, idx in cv.vocabulary_.items()]\n",
    "words_freq =sorted(words_freq, key = lambda x: x[1], reverse=True)\n"
   ]
  },
  {
   "cell_type": "code",
   "execution_count": 67,
   "metadata": {},
   "outputs": [],
   "source": [
    "top_20_words = words_freq[:20]"
   ]
  },
  {
   "cell_type": "code",
   "execution_count": 68,
   "metadata": {},
   "outputs": [],
   "source": [
    "df_word_freq = pd.DataFrame.from_records(top_20_words, columns = ['word', 'count'])"
   ]
  },
  {
   "cell_type": "code",
   "execution_count": 69,
   "metadata": {},
   "outputs": [
    {
     "data": {
      "image/png": "[encoded data removed]",
      "text/plain": [
       "<Figure size 1080x720 with 1 Axes>"
      ]
     },
     "metadata": {},
     "output_type": "display_data"
    }
   ],
   "source": [
    "plt.figure(figsize=(15,10))\n",
    "sns.set(style=\"darkgrid\")\n",
    "ax = sns.barplot(x=\"word\",y=\"count\", data=df_word_freq)\n",
    "\n",
    "for p in ax.patches:\n",
    "    count = f'{p.get_height():.0f}\\n'\n",
    "    x = p.get_x() + p.get_width() / 2\n",
    "    y = p.get_height()\n",
    "    ax.annotate(count, (x, y), ha='center', va='center')\n",
    "\n",
    "ax.set_xlabel(\"Word\")\n",
    "ax.set_ylabel(\"Count\")\n",
    "ax.tick_params(axis='x', rotation=90)\n"
   ]
  },
  {
   "cell_type": "markdown",
   "metadata": {},
   "source": [
    "### Sentiment Analysis"
   ]
  },
  {
   "cell_type": "code",
   "execution_count": 81,
   "metadata": {},
   "outputs": [],
   "source": [
    "from textblob import TextBlob\n",
    "from vaderSentiment.vaderSentiment import SentimentIntensityAnalyzer"
   ]
  },
  {
   "cell_type": "code",
   "execution_count": 83,
   "metadata": {},
   "outputs": [],
   "source": [
    "preprocess_docs_sentiment = [remove_punct(remove_linebreaks(remove_annotations(remove_hashtag(doc)))) for doc in docs]"
   ]
  },
  {
   "cell_type": "code",
   "execution_count": 84,
   "metadata": {},
   "outputs": [],
   "source": [
    "preprocess_text_sentiment = []\n",
    "for doc in preprocess_docs_sentiment:\n",
    "    doc_text = \"\"\n",
    "    for word in doc:\n",
    "        doc_text = doc_text + word.text\n",
    "        if doc.index(word) +1 < len(doc):\n",
    "            doc_text = doc_text + \" \"\n",
    "    preprocess_text_sentiment.append(doc_text)"
   ]
  },
  {
   "cell_type": "code",
   "execution_count": 85,
   "metadata": {},
   "outputs": [
    {
     "data": {
      "text/plain": [
       "['“ set it up ” is just so so good i ’m watching “ can you keep a secret ” after the tinder swindler doc',\n",
       " 'This woman was taking out loans to give a billionaire cash and all he ever did for her was buy her flowers Shuuuu',\n",
       " \"14/02/2022 ON ALL DSP 's ❗ ❤ 🔥 Kindly pre-save:\",\n",
       " 'Sam the Swindler',\n",
       " 'Let me watch lo Tinder Swindler wenu']"
      ]
     },
     "execution_count": 85,
     "metadata": {},
     "output_type": "execute_result"
    }
   ],
   "source": [
    "preprocess_text_sentiment[:5]"
   ]
  },
  {
   "cell_type": "code",
   "execution_count": 86,
   "metadata": {},
   "outputs": [],
   "source": [
    "df_preprocessed_text = pd.DataFrame(preprocess_text_sentiment, columns=['text'])"
   ]
  },
  {
   "cell_type": "code",
   "execution_count": 87,
   "metadata": {},
   "outputs": [],
   "source": [
    "df_preprocessed_text[['polarity', 'subjectivity']] = df_preprocessed_text['text'].apply(lambda Text: pd.Series(TextBlob(Text).sentiment))"
   ]
  },
  {
   "cell_type": "code",
   "execution_count": 88,
   "metadata": {},
   "outputs": [],
   "source": [
    "for index, row in df_preprocessed_text['text'].items():\n",
    "    score = SentimentIntensityAnalyzer().polarity_scores(row)\n",
    "    neg = score['neg']\n",
    "    neu = score['neu']\n",
    "    pos = score['pos']\n",
    "    comp = score['compound']\n",
    "    if neg > pos:\n",
    "        df_preprocessed_text.loc[index, 'sentiment'] = \"negative\"\n",
    "    elif pos > neg:\n",
    "        df_preprocessed_text.loc[index, 'sentiment'] = \"positive\"\n",
    "    else:\n",
    "        df_preprocessed_text.loc[index, 'sentiment'] = \"neutral\"\n",
    "    df_preprocessed_text.loc[index, 'neg'] = neg\n",
    "    df_preprocessed_text.loc[index, 'neu'] = neu\n",
    "    df_preprocessed_text.loc[index, 'pos'] = pos\n",
    "    df_preprocessed_text.loc[index, 'compound'] = comp"
   ]
  },
  {
   "cell_type": "code",
   "execution_count": 89,
   "metadata": {},
   "outputs": [
    {
     "data": {
      "text/html": [
       "<div>\n",
       "<style scoped>\n",
       "    .dataframe tbody tr th:only-of-type {\n",
       "        vertical-align: middle;\n",
       "    }\n",
       "\n",
       "    .dataframe tbody tr th {\n",
       "        vertical-align: top;\n",
       "    }\n",
       "\n",
       "    .dataframe thead th {\n",
       "        text-align: right;\n",
       "    }\n",
       "</style>\n",
       "<table border=\"1\" class=\"dataframe\">\n",
       "  <thead>\n",
       "    <tr style=\"text-align: right;\">\n",
       "      <th></th>\n",
       "      <th>text</th>\n",
       "      <th>polarity</th>\n",
       "      <th>subjectivity</th>\n",
       "      <th>sentiment</th>\n",
       "      <th>neg</th>\n",
       "      <th>neu</th>\n",
       "      <th>pos</th>\n",
       "      <th>compound</th>\n",
       "    </tr>\n",
       "  </thead>\n",
       "  <tbody>\n",
       "    <tr>\n",
       "      <th>0</th>\n",
       "      <td>“ set it up ” is just so so good i ’m watching...</td>\n",
       "      <td>0.15</td>\n",
       "      <td>0.65</td>\n",
       "      <td>positive</td>\n",
       "      <td>0.000</td>\n",
       "      <td>0.854</td>\n",
       "      <td>0.146</td>\n",
       "      <td>0.6236</td>\n",
       "    </tr>\n",
       "    <tr>\n",
       "      <th>1</th>\n",
       "      <td>This woman was taking out loans to give a bill...</td>\n",
       "      <td>0.00</td>\n",
       "      <td>0.00</td>\n",
       "      <td>neutral</td>\n",
       "      <td>0.000</td>\n",
       "      <td>1.000</td>\n",
       "      <td>0.000</td>\n",
       "      <td>0.0000</td>\n",
       "    </tr>\n",
       "    <tr>\n",
       "      <th>2</th>\n",
       "      <td>14/02/2022 ON ALL DSP 's ❗ ❤ 🔥 Kindly pre-save:</td>\n",
       "      <td>0.60</td>\n",
       "      <td>0.90</td>\n",
       "      <td>positive</td>\n",
       "      <td>0.128</td>\n",
       "      <td>0.479</td>\n",
       "      <td>0.394</td>\n",
       "      <td>0.7184</td>\n",
       "    </tr>\n",
       "    <tr>\n",
       "      <th>3</th>\n",
       "      <td>Sam the Swindler</td>\n",
       "      <td>0.00</td>\n",
       "      <td>0.00</td>\n",
       "      <td>neutral</td>\n",
       "      <td>0.000</td>\n",
       "      <td>1.000</td>\n",
       "      <td>0.000</td>\n",
       "      <td>0.0000</td>\n",
       "    </tr>\n",
       "    <tr>\n",
       "      <th>4</th>\n",
       "      <td>Let me watch lo Tinder Swindler wenu</td>\n",
       "      <td>0.00</td>\n",
       "      <td>0.00</td>\n",
       "      <td>neutral</td>\n",
       "      <td>0.000</td>\n",
       "      <td>1.000</td>\n",
       "      <td>0.000</td>\n",
       "      <td>0.0000</td>\n",
       "    </tr>\n",
       "  </tbody>\n",
       "</table>\n",
       "</div>"
      ],
      "text/plain": [
       "                                                text  polarity  subjectivity  \\\n",
       "0  “ set it up ” is just so so good i ’m watching...      0.15          0.65   \n",
       "1  This woman was taking out loans to give a bill...      0.00          0.00   \n",
       "2    14/02/2022 ON ALL DSP 's ❗ ❤ 🔥 Kindly pre-save:      0.60          0.90   \n",
       "3                                   Sam the Swindler      0.00          0.00   \n",
       "4               Let me watch lo Tinder Swindler wenu      0.00          0.00   \n",
       "\n",
       "  sentiment    neg    neu    pos  compound  \n",
       "0  positive  0.000  0.854  0.146    0.6236  \n",
       "1   neutral  0.000  1.000  0.000    0.0000  \n",
       "2  positive  0.128  0.479  0.394    0.7184  \n",
       "3   neutral  0.000  1.000  0.000    0.0000  \n",
       "4   neutral  0.000  1.000  0.000    0.0000  "
      ]
     },
     "execution_count": 89,
     "metadata": {},
     "output_type": "execute_result"
    }
   ],
   "source": [
    "df_preprocessed_text.head()"
   ]
  },
  {
   "cell_type": "code",
   "execution_count": 90,
   "metadata": {},
   "outputs": [],
   "source": [
    "df_preprocessed_text_negative = df_preprocessed_text[df_preprocessed_text[\"sentiment\"]==\"negative\"]\n",
    "df_preprocessed_text_positive = df_preprocessed_text[df_preprocessed_text[\"sentiment\"]==\"positive\"]\n",
    "df_preprocessed_text_neutral = df_preprocessed_text[df_preprocessed_text[\"sentiment\"]==\"neutral\"]"
   ]
  },
  {
   "cell_type": "code",
   "execution_count": 91,
   "metadata": {},
   "outputs": [
    {
     "name": "stdout",
     "output_type": "stream",
     "text": [
      "          Total  Percentage\n",
      "positive   3653       36.53\n",
      "negative   3276       32.76\n",
      "neutral    3071       30.71\n"
     ]
    }
   ],
   "source": [
    "def count_values_in_column(data,feature):\n",
    "    total=data.loc[:,feature].value_counts(dropna=False)\n",
    "    percentage=round(data.loc[:,feature].value_counts(dropna=False,normalize=True)*100,2)\n",
    "    return pd.concat([total,percentage],axis=1,keys=['Total','Percentage'])\n",
    "#Count_values for sentiment\n",
    "df_sentiment = count_values_in_column(df_preprocessed_text,\"sentiment\")\n",
    "\n",
    "print(df_sentiment)"
   ]
  },
  {
   "cell_type": "code",
   "execution_count": 92,
   "metadata": {},
   "outputs": [
    {
     "data": {
      "image/png": "[encoded data removed]",
      "text/plain": [
       "<Figure size 432x288 with 1 Axes>"
      ]
     },
     "metadata": {},
     "output_type": "display_data"
    }
   ],
   "source": [
    "labels = ['Positive ['+str(df_sentiment['Percentage']['positive'])+'%]' , 'Neutral ['+str(df_sentiment['Percentage']['neutral'])+'%]','Negative ['+str(df_sentiment['Percentage']['negative'])+'%]']\n",
    "sizes = df_sentiment['Percentage']\n",
    "colors = ['yellowgreen', 'blue','red']\n",
    "patches, texts = plt.pie(sizes,colors=colors, startangle=90)\n",
    "plt.style.use('default')\n",
    "plt.legend(labels)\n",
    "plt.axis('equal')\n",
    "plt.show()"
   ]
  },
  {
   "cell_type": "markdown",
   "metadata": {},
   "source": [
    "### LDA"
   ]
  },
  {
   "cell_type": "markdown",
   "metadata": {},
   "source": [
    "#### Prepare raw text data for lda"
   ]
  },
  {
   "cell_type": "code",
   "execution_count": 174,
   "metadata": {},
   "outputs": [
    {
     "data": {
      "text/html": [
       "<div>\n",
       "<style scoped>\n",
       "    .dataframe tbody tr th:only-of-type {\n",
       "        vertical-align: middle;\n",
       "    }\n",
       "\n",
       "    .dataframe tbody tr th {\n",
       "        vertical-align: top;\n",
       "    }\n",
       "\n",
       "    .dataframe thead th {\n",
       "        text-align: right;\n",
       "    }\n",
       "</style>\n",
       "<table border=\"1\" class=\"dataframe\">\n",
       "  <thead>\n",
       "    <tr style=\"text-align: right;\">\n",
       "      <th></th>\n",
       "      <th>text</th>\n",
       "      <th>text_processed_cleaned</th>\n",
       "    </tr>\n",
       "  </thead>\n",
       "  <tbody>\n",
       "    <tr>\n",
       "      <th>33109</th>\n",
       "      <td>@_ItsMarisWorld_ “set it up” is just so so goo...</td>\n",
       "      <td>“set it up” is just so so good i’m watching “...</td>\n",
       "    </tr>\n",
       "    <tr>\n",
       "      <th>66592</th>\n",
       "      <td>This woman was taking out loans to give a bill...</td>\n",
       "      <td>this woman was taking out loans to give a bill...</td>\n",
       "    </tr>\n",
       "    <tr>\n",
       "      <th>40416</th>\n",
       "      <td>14/02/2022 ON ALL DSP's❗❤🔥\\n\\nKindly pre-save:...</td>\n",
       "      <td>14/02/2022 on all dsp'skindly :  …</td>\n",
       "    </tr>\n",
       "    <tr>\n",
       "      <th>5138</th>\n",
       "      <td>@reallysamreed Sam the Swindler</td>\n",
       "      <td>sam the swindler</td>\n",
       "    </tr>\n",
       "    <tr>\n",
       "      <th>21540</th>\n",
       "      <td>Let me watch lo Tinder Swindler wenu</td>\n",
       "      <td>let me watch lo tinder swindler wenu</td>\n",
       "    </tr>\n",
       "  </tbody>\n",
       "</table>\n",
       "</div>"
      ],
      "text/plain": [
       "                                                    text  \\\n",
       "33109  @_ItsMarisWorld_ “set it up” is just so so goo...   \n",
       "66592  This woman was taking out loans to give a bill...   \n",
       "40416  14/02/2022 ON ALL DSP's❗❤🔥\\n\\nKindly pre-save:...   \n",
       "5138                     @reallysamreed Sam the Swindler   \n",
       "21540               Let me watch lo Tinder Swindler wenu   \n",
       "\n",
       "                                  text_processed_cleaned  \n",
       "33109   “set it up” is just so so good i’m watching “...  \n",
       "66592  this woman was taking out loans to give a bill...  \n",
       "40416                14/02/2022 on all dsp'skindly :  …   \n",
       "5138                                    sam the swindler  \n",
       "21540               let me watch lo tinder swindler wenu  "
      ]
     },
     "execution_count": 174,
     "metadata": {},
     "output_type": "execute_result"
    }
   ],
   "source": [
    "# prepare text for lda model\n",
    "df_lda = pd.DataFrame(df_sample['text'], columns=[\"text\"])\n",
    "# Remove punctuation\n",
    "df_lda['text_processed_cleaned'] = df_lda['text'].map(lambda x: re.sub('[,\\.!?\\n]', '', x))\n",
    "# Remove hashtags\n",
    "df_lda['text_processed_cleaned'] = df_lda['text_processed_cleaned'].map(lambda x: re.sub('#\\w+|\\w+-\\w+', '', x))\n",
    "# Remove annotations\n",
    "df_lda['text_processed_cleaned'] = df_lda['text_processed_cleaned'].map(lambda x: re.sub('@\\w+|\\w+-\\w+', '', x))\n",
    "# Remove emojis\n",
    "df_lda['text_processed_cleaned'] = df_lda['text_processed_cleaned'].map(lambda x: \"\".join([c for c in x if c not in emoji.UNICODE_EMOJI]))\n",
    "# Remove linebreaks\n",
    "df_lda['text_processed_cleaned'] = df_lda['text_processed_cleaned'].map(lambda x: x.replace('\\n', ' '))\n",
    "# Convert the titles to lowercase\n",
    "df_lda['text_processed_cleaned'] = df_lda['text_processed_cleaned'].map(lambda x: x.lower())\n",
    "# Print out the first rows of df_lda\n",
    "df_lda.head()"
   ]
  },
  {
   "cell_type": "markdown",
   "metadata": {},
   "source": [
    "#### Tokenize text"
   ]
  },
  {
   "cell_type": "code",
   "execution_count": 175,
   "metadata": {},
   "outputs": [
    {
     "name": "stdout",
     "output_type": "stream",
     "text": [
      "['this', 'woman', 'was', 'taking', 'out', 'loans', 'to', 'give', 'billionaire', 'cash', 'and', 'all', 'he', 'ever', 'did', 'for', 'her', 'was', 'buy', 'her', 'flowersshuuuu']\n"
     ]
    }
   ],
   "source": [
    "\n",
    "import gensim\n",
    "from gensim.utils import simple_preprocess\n",
    "\n",
    "def sent_to_words(sentences):\n",
    "    for sentence in sentences:\n",
    "        yield(gensim.utils.simple_preprocess(str(sentence), deacc=True))  # deacc=True removes punctuations\n",
    "data = df_lda.text_processed_cleaned.values.tolist()\n",
    "data_words = list(sent_to_words(data))\n",
    "\n",
    "print(data_words[:2][1][:30])"
   ]
  },
  {
   "cell_type": "markdown",
   "metadata": {},
   "source": [
    "#### Buil bigrams and trigrams models"
   ]
  },
  {
   "cell_type": "code",
   "execution_count": 178,
   "metadata": {},
   "outputs": [],
   "source": [
    "# Build the bigram and trigram models\n",
    "bigram = gensim.models.Phrases(data_words, min_count=5, threshold=100) # higher threshold fewer phrases.\n",
    "trigram = gensim.models.Phrases(bigram[data_words], threshold=100)\n",
    "# Faster way to get a sentence clubbed as a trigram/bigram\n",
    "bigram_mod = gensim.models.phrases.Phraser(bigram)\n",
    "trigram_mod = gensim.models.phrases.Phraser(trigram)"
   ]
  },
  {
   "cell_type": "markdown",
   "metadata": {},
   "source": [
    "#### Remove Stopwords, Make Bigrams and Lemmatize"
   ]
  },
  {
   "cell_type": "code",
   "execution_count": 179,
   "metadata": {},
   "outputs": [],
   "source": [
    "# Define functions for stopwords, bigrams, trigrams and lemmatization\n",
    "def remove_stopwords(texts):\n",
    "    return [[word for word in simple_preprocess(str(doc)) if word not in stop_words] for doc in texts]\n",
    "def make_bigrams(texts):\n",
    "    return [bigram_mod[doc] for doc in texts]\n",
    "def make_trigrams(texts):\n",
    "    return [trigram_mod[bigram_mod[doc]] for doc in texts]\n",
    "def lemmatization(texts, allowed_postags=['NOUN', 'ADJ', 'VERB', 'ADV']):\n",
    "    \"\"\"https://spacy.io/api/annotation\"\"\"\n",
    "    texts_out = []\n",
    "    for sent in texts:\n",
    "        doc = nlp(\" \".join(sent)) \n",
    "        texts_out.append([token.lemma_ for token in doc if token.pos_ in allowed_postags])\n",
    "    return texts_out"
   ]
  },
  {
   "cell_type": "code",
   "execution_count": 180,
   "metadata": {},
   "outputs": [
    {
     "name": "stdout",
     "output_type": "stream",
     "text": [
      "[['set', 'good', 'watch', 'keep', 'secret', 'tinder', 'swindler']]\n"
     ]
    }
   ],
   "source": [
    "# Remove Stop Words\n",
    "data_words_nostops = remove_stopwords(data_words)\n",
    "# Form Bigrams\n",
    "data_words_bigrams = make_bigrams(data_words_nostops)\n",
    "# Do lemmatization keeping only noun, adj, vb, adv\n",
    "data_lemmatized = lemmatization(data_words_bigrams, allowed_postags=['NOUN', 'ADJ', 'VERB', 'ADV'])\n",
    "\n",
    "print(data_lemmatized[:1])"
   ]
  },
  {
   "cell_type": "markdown",
   "metadata": {},
   "source": [
    "#### Data Transformation: Corpus and Dictionary"
   ]
  },
  {
   "cell_type": "code",
   "execution_count": 181,
   "metadata": {},
   "outputs": [
    {
     "name": "stdout",
     "output_type": "stream",
     "text": [
      "[[(0, 1), (1, 1), (2, 1), (3, 1), (4, 1), (5, 1), (6, 1)]]\n"
     ]
    }
   ],
   "source": [
    "import gensim.corpora as corpora\n",
    "# Create Dictionary\n",
    "id2word = corpora.Dictionary(data_lemmatized)\n",
    "# Create Corpus\n",
    "texts = data_lemmatized\n",
    "# Term Document Frequency\n",
    "corpus = [id2word.doc2bow(text) for text in texts]\n",
    "# View\n",
    "print(corpus[:1])"
   ]
  },
  {
   "cell_type": "code",
   "execution_count": 187,
   "metadata": {},
   "outputs": [],
   "source": [
    "num_topics = 10"
   ]
  },
  {
   "cell_type": "code",
   "execution_count": 195,
   "metadata": {},
   "outputs": [],
   "source": [
    "# Build LDA model\n",
    "lda_model = gensim.models.LdaMulticore(corpus=corpus,\n",
    "                                       id2word=id2word,\n",
    "                                       num_topics=num_topics, \n",
    "                                       random_state=100,\n",
    "                                       chunksize=100,\n",
    "                                       passes=10,\n",
    "                                       per_word_topics=True)"
   ]
  },
  {
   "cell_type": "code",
   "execution_count": 184,
   "metadata": {},
   "outputs": [
    {
     "name": "stdout",
     "output_type": "stream",
     "text": [
      "[(0,\n",
      "  '0.037*\"swindler\" + 0.025*\"tinder\" + 0.012*\"still\" + 0.010*\"think\" + '\n",
      "  '0.010*\"money\" + 0.008*\"victim\" + 0.008*\"get\" + 0.007*\"ask\" + 0.007*\"make\" + '\n",
      "  '0.007*\"people\"'),\n",
      " (1,\n",
      "  '0.154*\"tinder\" + 0.139*\"swindler\" + 0.031*\"watch\" + 0.019*\"woman\" + '\n",
      "  '0.016*\"man\" + 0.012*\"go\" + 0.011*\"say\" + 0.008*\"see\" + 0.008*\"documentary\" '\n",
      "  '+ 0.007*\"story\"'),\n",
      " (2,\n",
      "  '0.087*\"swindler\" + 0.083*\"tinder\" + 0.024*\"watch\" + 0.015*\"girl\" + '\n",
      "  '0.014*\"documentary\" + 0.013*\"give\" + 0.012*\"get\" + 0.010*\"netflix\" + '\n",
      "  '0.010*\"feel\" + 0.010*\"guy\"'),\n",
      " (3,\n",
      "  '0.076*\"tinder\" + 0.074*\"swindler\" + 0.047*\"watch\" + 0.020*\"woman\" + '\n",
      "  '0.012*\"guy\" + 0.012*\"get\" + 0.010*\"need\" + 0.009*\"money\" + 0.008*\"know\" + '\n",
      "  '0.007*\"still\"'),\n",
      " (4,\n",
      "  '0.094*\"tinder\" + 0.090*\"swindler\" + 0.039*\"watch\" + 0.026*\"woman\" + '\n",
      "  '0.014*\"go\" + 0.009*\"really\" + 0.009*\"see\" + 0.009*\"way\" + 0.009*\"man\" + '\n",
      "  '0.008*\"thing\"'),\n",
      " (5,\n",
      "  '0.022*\"watch\" + 0.020*\"tinder\" + 0.019*\"swindler\" + 0.017*\"woman\" + '\n",
      "  '0.015*\"man\" + 0.015*\"take\" + 0.015*\"money\" + 0.014*\"loan\" + 0.014*\"say\" + '\n",
      "  '0.012*\"good\"'),\n",
      " (6,\n",
      "  '0.049*\"watch\" + 0.025*\"swindler\" + 0.019*\"go\" + 0.016*\"tinder\" + '\n",
      "  '0.014*\"money\" + 0.013*\"love\" + 0.012*\"ask\" + 0.012*\"woman\" + 0.011*\"guy\" + '\n",
      "  '0.011*\"man\"'),\n",
      " (7,\n",
      "  '0.117*\"swindler\" + 0.096*\"tinder\" + 0.025*\"watch\" + 0.025*\"man\" + '\n",
      "  '0.018*\"good\" + 0.013*\"loan\" + 0.011*\"woman\" + 0.010*\"take\" + 0.008*\"still\" '\n",
      "  '+ 0.008*\"make\"'),\n",
      " (8,\n",
      "  '0.096*\"swindler\" + 0.094*\"tinder\" + 0.041*\"watch\" + 0.018*\"know\" + '\n",
      "  '0.015*\"man\" + 0.013*\"woman\" + 0.012*\"get\" + 0.012*\"girl\" + 0.009*\"still\" + '\n",
      "  '0.008*\"enemy\"'),\n",
      " (9,\n",
      "  '0.061*\"tinder\" + 0.058*\"swindler\" + 0.025*\"watch\" + 0.016*\"guy\" + '\n",
      "  '0.015*\"enemy\" + 0.014*\"see\" + 0.014*\"need\" + 0.014*\"money\" + 0.010*\"woman\" '\n",
      "  '+ 0.009*\"get\"')]\n"
     ]
    }
   ],
   "source": [
    "# Print the Keyword in the 10 topics\n",
    "pprint(lda_model.print_topics())\n",
    "doc_lda = lda_model[corpus]"
   ]
  },
  {
   "cell_type": "code",
   "execution_count": 196,
   "metadata": {},
   "outputs": [
    {
     "name": "stdout",
     "output_type": "stream",
     "text": [
      "\n",
      "Coherence Score:  0.35432342607215606\n"
     ]
    }
   ],
   "source": [
    "from gensim.models import CoherenceModel\n",
    "# Compute Coherence Score\n",
    "coherence_model_lda = CoherenceModel(model=lda_model, texts=data_lemmatized, dictionary=id2word, coherence='c_v')\n",
    "coherence_lda = coherence_model_lda.get_coherence()\n",
    "print('\\nCoherence Score: ', coherence_lda)"
   ]
  },
  {
   "cell_type": "code",
   "execution_count": null,
   "metadata": {},
   "outputs": [],
   "source": [
    "from gensim import models\n",
    "\n",
    "def compute_coherence_values(dictionary, corpus, texts, limit, start=2, step=1):\n",
    "    \"\"\"\n",
    "    Compute c_v coherence for various number of topics\n",
    "\n",
    "    Parameters:\n",
    "    ----------\n",
    "    dictionary : Gensim dictionary\n",
    "    corpus : Gensim corpus\n",
    "    texts : List of input texts\n",
    "    limit : Max num of topics\n",
    "\n",
    "    Returns:\n",
    "    -------\n",
    "    model_list : List of LDA topic models\n",
    "    coherence_values : Coherence values corresponding to the LDA model with respective number of topics\n",
    "    \"\"\"\n",
    "    coherence_values = []\n",
    "    model_list = []\n",
    "    for num_topics in range(start, limit, step):\n",
    "        model = models.ldamodel.LdaModel(corpus=corpus,\n",
    "                                           id2word=id2word,\n",
    "                                           num_topics=num_topics,\n",
    "                                           random_state=100,\n",
    "                                           chunksize=100,\n",
    "                                           passes=10) \n",
    "                                          \n",
    "        model_list.append(model)\n",
    "        coherencemodel = CoherenceModel(model=model, texts=data_lemmatized, dictionary=id2word, coherence='c_v')\n",
    "        coherence_values.append(coherencemodel.get_coherence())\n",
    "\n",
    "    return model_list, coherence_values"
   ]
  },
  {
   "cell_type": "code",
   "execution_count": 202,
   "metadata": {},
   "outputs": [
    {
     "data": {
      "image/png": "[encoded data removed]",
      "text/plain": [
       "<Figure size 640x480 with 1 Axes>"
      ]
     },
     "metadata": {},
     "output_type": "display_data"
    },
    {
     "name": "stdout",
     "output_type": "stream",
     "text": [
      "Num Topics = 2  has Coherence Value of 0.3026\n",
      "Num Topics = 3  has Coherence Value of 0.3261\n",
      "Num Topics = 4  has Coherence Value of 0.333\n",
      "Num Topics = 5  has Coherence Value of 0.3725\n",
      "Num Topics = 6  has Coherence Value of 0.39\n",
      "Num Topics = 7  has Coherence Value of 0.4261\n",
      "Num Topics = 8  has Coherence Value of 0.4758\n",
      "Num Topics = 9  has Coherence Value of 0.513\n",
      "Num Topics = 10  has Coherence Value of 0.5385\n",
      "Num Topics = 11  has Coherence Value of 0.5527\n",
      "Num Topics = 12  has Coherence Value of 0.5698\n",
      "Num Topics = 13  has Coherence Value of 0.5819\n",
      "Num Topics = 14  has Coherence Value of 0.5956\n",
      "Num Topics = 15  has Coherence Value of 0.614\n",
      "Num Topics = 16  has Coherence Value of 0.6022\n",
      "Num Topics = 17  has Coherence Value of 0.6087\n",
      "Num Topics = 18  has Coherence Value of 0.6142\n",
      "Num Topics = 19  has Coherence Value of 0.6126\n"
     ]
    }
   ],
   "source": [
    "model_list, coherence_values = compute_coherence_values(dictionary=id2word, corpus=corpus, texts=data_lemmatized, start=2, limit=20, step=1)\n",
    "# Show graph\n",
    "limit=20; start=2; step=1;\n",
    "x = range(start, limit, step)\n",
    "plt.plot(x, coherence_values)\n",
    "plt.xlabel(\"Num Topics\")\n",
    "plt.ylabel(\"Coherence score\")\n",
    "plt.legend((\"coherence_values\"), loc='best')\n",
    "plt.show()\n",
    "\n",
    "# Print the coherence scores\n",
    "for m, cv in zip(x, coherence_values):\n",
    "    print(\"Num Topics =\", m, \" has Coherence Value of\", round(cv, 4))"
   ]
  }
 ],
 "metadata": {
  "kernelspec": {
   "display_name": "Python 3.8.2 ('text-analytics': venv)",
   "language": "python",
   "name": "python3"
  },
  "language_info": {
   "codemirror_mode": {
    "name": "ipython",
    "version": 3
   },
   "file_extension": ".py",
   "mimetype": "text/x-python",
   "name": "python",
   "nbconvert_exporter": "python",
   "pygments_lexer": "ipython3",
   "version": "3.8.2"
  },
  "orig_nbformat": 4,
  "vscode": {
   "interpreter": {
    "hash": "368aedfa66a7a2a59fb0566c053d7fa54d1d04abc57ba0bc385f6735e5dc7228"
   }
  }
 },
 "nbformat": 4,
 "nbformat_minor": 2
}

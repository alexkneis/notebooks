{
 "cells": [
  {
   "cell_type": "markdown",
   "metadata": {},
   "source": [
    "## Tinder Swindler 100k Tweets"
   ]
  },
  {
   "cell_type": "code",
   "execution_count": 135,
   "metadata": {},
   "outputs": [],
   "source": [
    "# load the dataset\n",
    "import pandas as pd\n",
    "\n",
    "file = './TinderSwindlerVersion2.csv'\n",
    "df = pd.read_csv(file)"
   ]
  },
  {
   "cell_type": "code",
   "execution_count": 136,
   "metadata": {},
   "outputs": [
    {
     "data": {
      "text/html": [
       "<div>\n",
       "<style scoped>\n",
       "    .dataframe tbody tr th:only-of-type {\n",
       "        vertical-align: middle;\n",
       "    }\n",
       "\n",
       "    .dataframe tbody tr th {\n",
       "        vertical-align: top;\n",
       "    }\n",
       "\n",
       "    .dataframe thead th {\n",
       "        text-align: right;\n",
       "    }\n",
       "</style>\n",
       "<table border=\"1\" class=\"dataframe\">\n",
       "  <thead>\n",
       "    <tr style=\"text-align: right;\">\n",
       "      <th></th>\n",
       "      <th>user_name</th>\n",
       "      <th>user_location</th>\n",
       "      <th>user_created</th>\n",
       "      <th>user_followers</th>\n",
       "      <th>user_verified</th>\n",
       "      <th>date</th>\n",
       "      <th>text</th>\n",
       "      <th>source</th>\n",
       "      <th>is_retweet</th>\n",
       "    </tr>\n",
       "  </thead>\n",
       "  <tbody>\n",
       "    <tr>\n",
       "      <th>0</th>\n",
       "      <td>globalnode.saito 🟥🐳🐈‍⬛</td>\n",
       "      <td>Travelling the World on Web3</td>\n",
       "      <td>2009-06-03 20:18:22+00:00</td>\n",
       "      <td>768</td>\n",
       "      <td>False</td>\n",
       "      <td>2022-02-09 17:09:22+00:00</td>\n",
       "      <td>@T1gmee Tinder Swindler, off Netflix</td>\n",
       "      <td>Twitter for iPhone</td>\n",
       "      <td>False</td>\n",
       "    </tr>\n",
       "    <tr>\n",
       "      <th>1</th>\n",
       "      <td>Ungovernable 🇧🇮</td>\n",
       "      <td>NaN</td>\n",
       "      <td>2011-09-04 22:46:26+00:00</td>\n",
       "      <td>385</td>\n",
       "      <td>False</td>\n",
       "      <td>2022-02-09 17:09:18+00:00</td>\n",
       "      <td>#tinderswindler , basically homeboy got away w...</td>\n",
       "      <td>Twitter for iPhone</td>\n",
       "      <td>False</td>\n",
       "    </tr>\n",
       "    <tr>\n",
       "      <th>2</th>\n",
       "      <td>Adefolake</td>\n",
       "      <td>NaN</td>\n",
       "      <td>2009-06-02 14:18:44+00:00</td>\n",
       "      <td>1994</td>\n",
       "      <td>False</td>\n",
       "      <td>2022-02-09 17:09:17+00:00</td>\n",
       "      <td>Not the tinder swindler becoming a TIk Tok sta...</td>\n",
       "      <td>Twitter for iPhone</td>\n",
       "      <td>False</td>\n",
       "    </tr>\n",
       "    <tr>\n",
       "      <th>3</th>\n",
       "      <td>✧ ☽</td>\n",
       "      <td>Noord-Brabant</td>\n",
       "      <td>2012-02-12 07:35:26+00:00</td>\n",
       "      <td>336</td>\n",
       "      <td>False</td>\n",
       "      <td>2022-02-09 17:09:07+00:00</td>\n",
       "      <td>Why isn’t Shimon Hayut in jail ????? #thetinde...</td>\n",
       "      <td>Twitter for iPhone</td>\n",
       "      <td>False</td>\n",
       "    </tr>\n",
       "    <tr>\n",
       "      <th>4</th>\n",
       "      <td>chivo. 🥶</td>\n",
       "      <td>PG/MD</td>\n",
       "      <td>2010-03-22 21:23:17+00:00</td>\n",
       "      <td>1046</td>\n",
       "      <td>False</td>\n",
       "      <td>2022-02-09 17:09:06+00:00</td>\n",
       "      <td>the tinder swindler a sick nigga 😂😂</td>\n",
       "      <td>Twitter Web App</td>\n",
       "      <td>False</td>\n",
       "    </tr>\n",
       "    <tr>\n",
       "      <th>5</th>\n",
       "      <td>kira</td>\n",
       "      <td>Toronto, Ontario</td>\n",
       "      <td>2010-07-02 12:50:53+00:00</td>\n",
       "      <td>362</td>\n",
       "      <td>False</td>\n",
       "      <td>2022-02-09 17:09:03+00:00</td>\n",
       "      <td>No those women on the Tinder swindler pissed m...</td>\n",
       "      <td>Twitter for iPhone</td>\n",
       "      <td>False</td>\n",
       "    </tr>\n",
       "    <tr>\n",
       "      <th>6</th>\n",
       "      <td>fogmistress698</td>\n",
       "      <td>NaN</td>\n",
       "      <td>2020-05-05 08:47:57+00:00</td>\n",
       "      <td>210</td>\n",
       "      <td>False</td>\n",
       "      <td>2022-02-09 17:08:55+00:00</td>\n",
       "      <td>This manipulation is how scammers pull you in ...</td>\n",
       "      <td>Twitter Web App</td>\n",
       "      <td>False</td>\n",
       "    </tr>\n",
       "    <tr>\n",
       "      <th>7</th>\n",
       "      <td>melraunch</td>\n",
       "      <td>East, England</td>\n",
       "      <td>2019-05-24 23:18:01+00:00</td>\n",
       "      <td>3268</td>\n",
       "      <td>False</td>\n",
       "      <td>2022-02-09 17:08:45+00:00</td>\n",
       "      <td>@robertstweets1 @DistantFixed I waited for him...</td>\n",
       "      <td>Twitter for iPhone</td>\n",
       "      <td>False</td>\n",
       "    </tr>\n",
       "    <tr>\n",
       "      <th>8</th>\n",
       "      <td>Pamela Power</td>\n",
       "      <td>Johannesburg, South Africa</td>\n",
       "      <td>2009-07-10 12:51:24+00:00</td>\n",
       "      <td>6306</td>\n",
       "      <td>False</td>\n",
       "      <td>2022-02-09 17:08:41+00:00</td>\n",
       "      <td>Hmmm...he's like the #tinderswindler https://t...</td>\n",
       "      <td>Twitter for Android</td>\n",
       "      <td>False</td>\n",
       "    </tr>\n",
       "    <tr>\n",
       "      <th>9</th>\n",
       "      <td>CaliMcCormac</td>\n",
       "      <td>NaN</td>\n",
       "      <td>2022-02-09 16:48:06+00:00</td>\n",
       "      <td>0</td>\n",
       "      <td>False</td>\n",
       "      <td>2022-02-09 17:08:40+00:00</td>\n",
       "      <td>Wow just watching the Twitter Swindler and it ...</td>\n",
       "      <td>Twitter for iPhone</td>\n",
       "      <td>False</td>\n",
       "    </tr>\n",
       "  </tbody>\n",
       "</table>\n",
       "</div>"
      ],
      "text/plain": [
       "                user_name                 user_location  \\\n",
       "0  globalnode.saito 🟥🐳🐈‍⬛  Travelling the World on Web3   \n",
       "1         Ungovernable 🇧🇮                           NaN   \n",
       "2               Adefolake                           NaN   \n",
       "3                     ✧ ☽                 Noord-Brabant   \n",
       "4                chivo. 🥶                         PG/MD   \n",
       "5                    kira              Toronto, Ontario   \n",
       "6          fogmistress698                           NaN   \n",
       "7               melraunch                 East, England   \n",
       "8            Pamela Power    Johannesburg, South Africa   \n",
       "9            CaliMcCormac                           NaN   \n",
       "\n",
       "                user_created  user_followers  user_verified  \\\n",
       "0  2009-06-03 20:18:22+00:00             768          False   \n",
       "1  2011-09-04 22:46:26+00:00             385          False   \n",
       "2  2009-06-02 14:18:44+00:00            1994          False   \n",
       "3  2012-02-12 07:35:26+00:00             336          False   \n",
       "4  2010-03-22 21:23:17+00:00            1046          False   \n",
       "5  2010-07-02 12:50:53+00:00             362          False   \n",
       "6  2020-05-05 08:47:57+00:00             210          False   \n",
       "7  2019-05-24 23:18:01+00:00            3268          False   \n",
       "8  2009-07-10 12:51:24+00:00            6306          False   \n",
       "9  2022-02-09 16:48:06+00:00               0          False   \n",
       "\n",
       "                        date  \\\n",
       "0  2022-02-09 17:09:22+00:00   \n",
       "1  2022-02-09 17:09:18+00:00   \n",
       "2  2022-02-09 17:09:17+00:00   \n",
       "3  2022-02-09 17:09:07+00:00   \n",
       "4  2022-02-09 17:09:06+00:00   \n",
       "5  2022-02-09 17:09:03+00:00   \n",
       "6  2022-02-09 17:08:55+00:00   \n",
       "7  2022-02-09 17:08:45+00:00   \n",
       "8  2022-02-09 17:08:41+00:00   \n",
       "9  2022-02-09 17:08:40+00:00   \n",
       "\n",
       "                                                text               source  \\\n",
       "0               @T1gmee Tinder Swindler, off Netflix   Twitter for iPhone   \n",
       "1  #tinderswindler , basically homeboy got away w...   Twitter for iPhone   \n",
       "2  Not the tinder swindler becoming a TIk Tok sta...   Twitter for iPhone   \n",
       "3  Why isn’t Shimon Hayut in jail ????? #thetinde...   Twitter for iPhone   \n",
       "4                the tinder swindler a sick nigga 😂😂      Twitter Web App   \n",
       "5  No those women on the Tinder swindler pissed m...   Twitter for iPhone   \n",
       "6  This manipulation is how scammers pull you in ...      Twitter Web App   \n",
       "7  @robertstweets1 @DistantFixed I waited for him...   Twitter for iPhone   \n",
       "8  Hmmm...he's like the #tinderswindler https://t...  Twitter for Android   \n",
       "9  Wow just watching the Twitter Swindler and it ...   Twitter for iPhone   \n",
       "\n",
       "   is_retweet  \n",
       "0       False  \n",
       "1       False  \n",
       "2       False  \n",
       "3       False  \n",
       "4       False  \n",
       "5       False  \n",
       "6       False  \n",
       "7       False  \n",
       "8       False  \n",
       "9       False  "
      ]
     },
     "execution_count": 136,
     "metadata": {},
     "output_type": "execute_result"
    }
   ],
   "source": [
    "df.head(10)"
   ]
  },
  {
   "cell_type": "markdown",
   "metadata": {},
   "source": [
    "### Data Cleansing"
   ]
  },
  {
   "cell_type": "code",
   "execution_count": 137,
   "metadata": {},
   "outputs": [
    {
     "data": {
      "text/plain": [
       "user_name             5\n",
       "user_location     18481\n",
       "user_created          0\n",
       "user_followers        0\n",
       "user_verified         0\n",
       "date                  0\n",
       "text                  0\n",
       "source                0\n",
       "is_retweet            0\n",
       "dtype: int64"
      ]
     },
     "execution_count": 137,
     "metadata": {},
     "output_type": "execute_result"
    }
   ],
   "source": [
    "df.isna().sum()"
   ]
  },
  {
   "cell_type": "code",
   "execution_count": 138,
   "metadata": {},
   "outputs": [],
   "source": [
    "df[\"user_name\"].fillna('unknown', inplace=True)\n",
    "df[\"user_location\"].fillna('unknown', inplace=True)"
   ]
  },
  {
   "cell_type": "code",
   "execution_count": 139,
   "metadata": {},
   "outputs": [],
   "source": [
    "import re\n",
    "# Remove urls from tweets\n",
    "df.text = df.text.apply(lambda text: re.sub(r'http\\S+|http', '', text))"
   ]
  },
  {
   "cell_type": "code",
   "execution_count": 140,
   "metadata": {},
   "outputs": [],
   "source": [
    "df = df[df.is_retweet != True]"
   ]
  },
  {
   "cell_type": "code",
   "execution_count": 141,
   "metadata": {},
   "outputs": [
    {
     "data": {
      "text/html": [
       "<div>\n",
       "<style scoped>\n",
       "    .dataframe tbody tr th:only-of-type {\n",
       "        vertical-align: middle;\n",
       "    }\n",
       "\n",
       "    .dataframe tbody tr th {\n",
       "        vertical-align: top;\n",
       "    }\n",
       "\n",
       "    .dataframe thead th {\n",
       "        text-align: right;\n",
       "    }\n",
       "</style>\n",
       "<table border=\"1\" class=\"dataframe\">\n",
       "  <thead>\n",
       "    <tr style=\"text-align: right;\">\n",
       "      <th></th>\n",
       "      <th>count</th>\n",
       "      <th>unique</th>\n",
       "      <th>top</th>\n",
       "      <th>freq</th>\n",
       "    </tr>\n",
       "  </thead>\n",
       "  <tbody>\n",
       "    <tr>\n",
       "      <th>user_name</th>\n",
       "      <td>76213</td>\n",
       "      <td>49767</td>\n",
       "      <td>.</td>\n",
       "      <td>196</td>\n",
       "    </tr>\n",
       "    <tr>\n",
       "      <th>user_location</th>\n",
       "      <td>76213</td>\n",
       "      <td>17911</td>\n",
       "      <td>unknown</td>\n",
       "      <td>18485</td>\n",
       "    </tr>\n",
       "    <tr>\n",
       "      <th>user_created</th>\n",
       "      <td>76213</td>\n",
       "      <td>54501</td>\n",
       "      <td>2020-10-06 00:15:38+00:00</td>\n",
       "      <td>160</td>\n",
       "    </tr>\n",
       "    <tr>\n",
       "      <th>date</th>\n",
       "      <td>76213</td>\n",
       "      <td>70999</td>\n",
       "      <td>2022-02-07 21:13:06+00:00</td>\n",
       "      <td>5</td>\n",
       "    </tr>\n",
       "    <tr>\n",
       "      <th>text</th>\n",
       "      <td>76213</td>\n",
       "      <td>73948</td>\n",
       "      <td>The Tinder Swindler</td>\n",
       "      <td>69</td>\n",
       "    </tr>\n",
       "    <tr>\n",
       "      <th>source</th>\n",
       "      <td>76213</td>\n",
       "      <td>210</td>\n",
       "      <td>Twitter for iPhone</td>\n",
       "      <td>47828</td>\n",
       "    </tr>\n",
       "  </tbody>\n",
       "</table>\n",
       "</div>"
      ],
      "text/plain": [
       "               count unique                        top   freq\n",
       "user_name      76213  49767                          .    196\n",
       "user_location  76213  17911                    unknown  18485\n",
       "user_created   76213  54501  2020-10-06 00:15:38+00:00    160\n",
       "date           76213  70999  2022-02-07 21:13:06+00:00      5\n",
       "text           76213  73948        The Tinder Swindler     69\n",
       "source         76213    210         Twitter for iPhone  47828"
      ]
     },
     "execution_count": 141,
     "metadata": {},
     "output_type": "execute_result"
    }
   ],
   "source": [
    "df.describe(include= \"O\").T"
   ]
  },
  {
   "cell_type": "code",
   "execution_count": 174,
   "metadata": {},
   "outputs": [],
   "source": [
    "df_sample = df.sample(10000)"
   ]
  },
  {
   "cell_type": "markdown",
   "metadata": {},
   "source": [
    "### Load Spacy and init stop words"
   ]
  },
  {
   "cell_type": "code",
   "execution_count": 175,
   "metadata": {},
   "outputs": [
    {
     "name": "stderr",
     "output_type": "stream",
     "text": [
      "[nltk_data] Downloading package stopwords to\n",
      "[nltk_data]     /Users/alexanderkneis/nltk_data...\n",
      "[nltk_data]   Package stopwords is already up-to-date!\n"
     ]
    }
   ],
   "source": [
    "import spacy\n",
    "\n",
    "from spacy.tokenizer import _get_regex_pattern\n",
    "import nltk\n",
    "nltk.download('stopwords')\n",
    "from nltk.corpus import stopwords\n",
    "\n",
    "nlp = spacy.load('en_core_web_lg')\n",
    "\n",
    "# get default pattern for tokens that don't get split\n",
    "re_token_match = _get_regex_pattern(nlp.Defaults.token_match)\n",
    "# add patterns for hashtags and in-word hyphens\n",
    "re_token_match = f\"({re_token_match}|#\\w+|\\w+-\\w+)\"\n",
    "\n",
    "# overwrite token_match function of the tokenizer\n",
    "nlp.tokenizer.token_match = re.compile(re_token_match).match\n",
    "\n",
    "stop_words = stopwords.words('english')\n"
   ]
  },
  {
   "cell_type": "code",
   "execution_count": 176,
   "metadata": {},
   "outputs": [],
   "source": [
    "# extend stop words if needed\n",
    "stop_words.extend([])"
   ]
  },
  {
   "cell_type": "markdown",
   "metadata": {},
   "source": [
    "#### Create docs via spacy"
   ]
  },
  {
   "cell_type": "code",
   "execution_count": 177,
   "metadata": {},
   "outputs": [],
   "source": [
    "# create docs list with nlp\n",
    "docs = list(nlp.pipe(df_sample.text, n_process=6))"
   ]
  },
  {
   "cell_type": "code",
   "execution_count": 178,
   "metadata": {},
   "outputs": [],
   "source": [
    "doc_vectors = [doc.vector for doc in docs]"
   ]
  },
  {
   "cell_type": "code",
   "execution_count": 179,
   "metadata": {},
   "outputs": [
    {
     "data": {
      "text/plain": [
       "I’m a homeless king killed me skskskks #tinderswindler"
      ]
     },
     "execution_count": 179,
     "metadata": {},
     "output_type": "execute_result"
    }
   ],
   "source": [
    "docs[4]"
   ]
  },
  {
   "cell_type": "markdown",
   "metadata": {},
   "source": [
    "### Get Hashtags and Emoji"
   ]
  },
  {
   "cell_type": "code",
   "execution_count": 180,
   "metadata": {},
   "outputs": [],
   "source": [
    "from spacy.matcher import Matcher\n",
    "\n",
    "matcher = Matcher(nlp.vocab)\n",
    "pattern = [{\"TEXT\": {\"REGEX\": \"^#\\w+|\\w+-\\w+\"}}]\n",
    "matcher.add('HASHTAG', [pattern])\n",
    "\n",
    "def getHashtags(doc):\n",
    "    matches = matcher(doc)\n",
    "    hashtags = []\n",
    "    for match_id, start, end in matches:\n",
    "        span = doc[start:end]  # The matched span\n",
    "        text = re.sub('[^A-Za-z0-9_-]+', '', span.text)\n",
    "        hashtags.append(text)\n",
    "    return hashtags\n",
    "\n",
    "# getHashtags(docs[15])\n",
    "# >>> ['tinderswindler']"
   ]
  },
  {
   "cell_type": "code",
   "execution_count": 181,
   "metadata": {},
   "outputs": [],
   "source": [
    "# create list of hastags\n",
    "hashtags = [item for sublist in list(getHashtags(doc) for doc in docs) for item in sublist]"
   ]
  },
  {
   "cell_type": "code",
   "execution_count": 182,
   "metadata": {},
   "outputs": [
    {
     "name": "stdout",
     "output_type": "stream",
     "text": [
      "[('tinderswindler', 1989),\n",
      " ('TheTinderSwindler', 1401),\n",
      " ('TinderSwindler', 314),\n",
      " ('Netflix', 64),\n",
      " ('thetinderswindler', 30),\n",
      " ('simonleviev', 28),\n",
      " ('TindlerSwindler', 17),\n",
      " ('netflix', 16),\n",
      " ('Tinderswindler', 13),\n",
      " ('Tinder', 11),\n",
      " ('tinder', 11),\n",
      " ('_', 10),\n",
      " ('SimonLeviev', 9),\n",
      " ('NFT', 9),\n",
      " ('AFCON2021', 8),\n",
      " ('SaveRayan', 7),\n",
      " ('Rayan', 6),\n",
      " ('1', 6),\n",
      " ('MasculinitySaturday', 6),\n",
      " ('true-crime', 6),\n",
      " ('M-PESA', 6),\n",
      " ('trakt', 6),\n",
      " ('theTinderSwindler', 6),\n",
      " ('Taooma', 5),\n",
      " ('TheTindlerSwindler', 5),\n",
      " ('StayAlive_CHAKHO', 5),\n",
      " ('VoetsekEFF', 5),\n",
      " ('BBMzansi', 5),\n",
      " ('lovescams', 4),\n",
      " ('bell-end', 4),\n",
      " ('Simon', 4),\n",
      " ('VirtualSlumberParty', 4),\n",
      " ('TikTok', 4),\n",
      " ('jet-setting', 4),\n",
      " ('Beijing2022', 4),\n",
      " ('Crypto', 4),\n",
      " ('long-term', 3),\n",
      " ('ShimonHayut', 3),\n",
      " ('NowWatching', 3),\n",
      " ('datingscams', 3),\n",
      " ('ValentinesDay', 3),\n",
      " ('DatingApp', 3),\n",
      " ('Documentary', 3),\n",
      " ('web3', 3),\n",
      " ('OAUTwitter', 3),\n",
      " ('ThePuppetMaster', 3),\n",
      " ('dating', 3),\n",
      " ('thepuppetmaster', 3),\n",
      " ('Bitcoin', 3),\n",
      " ('RomanceFraud', 3)]\n"
     ]
    }
   ],
   "source": [
    "from collections import Counter\n",
    "counter = Counter()\n",
    "\n",
    "for tag in hashtags:\n",
    "    counter[tag] += 1\n",
    "\n",
    "pprint(counter.most_common(50))"
   ]
  },
  {
   "cell_type": "code",
   "execution_count": 282,
   "metadata": {},
   "outputs": [
    {
     "ename": "ImportError",
     "evalue": "cannot import name 'UNICODE_EMOJI' from 'emoji' (/Library/Frameworks/Python.framework/Versions/3.8/lib/python3.8/site-packages/emoji/__init__.py)",
     "output_type": "error",
     "traceback": [
      "\u001b[0;31m---------------------------------------------------------------------------\u001b[0m",
      "\u001b[0;31mImportError\u001b[0m                               Traceback (most recent call last)",
      "\u001b[1;32m/Users/alexanderkneis/git/notebooks/text-analytics/tinder_swindler_tweets_analysis/tinder_swindler.ipynb Zelle 22\u001b[0m in \u001b[0;36m<cell line: 2>\u001b[0;34m()\u001b[0m\n\u001b[1;32m      <a href='vscode-notebook-cell:/Users/alexanderkneis/git/notebooks/text-analytics/tinder_swindler_tweets_analysis/tinder_swindler.ipynb#Y101sZmlsZQ%3D%3D?line=0'>1</a>\u001b[0m \u001b[39mimport\u001b[39;00m \u001b[39mspacy\u001b[39;00m\n\u001b[0;32m----> <a href='vscode-notebook-cell:/Users/alexanderkneis/git/notebooks/text-analytics/tinder_swindler_tweets_analysis/tinder_swindler.ipynb#Y101sZmlsZQ%3D%3D?line=1'>2</a>\u001b[0m \u001b[39mfrom\u001b[39;00m \u001b[39mspacymoji\u001b[39;00m \u001b[39mimport\u001b[39;00m Emoji\n",
      "File \u001b[0;32m/Library/Frameworks/Python.framework/Versions/3.8/lib/python3.8/site-packages/spacymoji/__init__.py:6\u001b[0m, in \u001b[0;36m<module>\u001b[0;34m\u001b[0m\n\u001b[1;32m      4\u001b[0m \u001b[39mfrom\u001b[39;00m \u001b[39mspacy\u001b[39;00m\u001b[39m.\u001b[39;00m\u001b[39mlanguage\u001b[39;00m \u001b[39mimport\u001b[39;00m Language\n\u001b[1;32m      5\u001b[0m \u001b[39mfrom\u001b[39;00m \u001b[39mspacy\u001b[39;00m\u001b[39m.\u001b[39;00m\u001b[39mutil\u001b[39;00m \u001b[39mimport\u001b[39;00m filter_spans\n\u001b[0;32m----> 6\u001b[0m \u001b[39mfrom\u001b[39;00m \u001b[39memoji\u001b[39;00m \u001b[39mimport\u001b[39;00m UNICODE_EMOJI\n\u001b[1;32m      9\u001b[0m \u001b[39m# Make sure multi-character emoji don't contain whitespace\u001b[39;00m\n\u001b[1;32m     10\u001b[0m EMOJI \u001b[39m=\u001b[39m {e\u001b[39m.\u001b[39mreplace(\u001b[39m\"\u001b[39m\u001b[39m \u001b[39m\u001b[39m\"\u001b[39m, \u001b[39m\"\u001b[39m\u001b[39m\"\u001b[39m): t \u001b[39mfor\u001b[39;00m e, t \u001b[39min\u001b[39;00m UNICODE_EMOJI\u001b[39m.\u001b[39mitems()}\n",
      "\u001b[0;31mImportError\u001b[0m: cannot import name 'UNICODE_EMOJI' from 'emoji' (/Library/Frameworks/Python.framework/Versions/3.8/lib/python3.8/site-packages/emoji/__init__.py)"
     ]
    }
   ],
   "source": [
    "import spacy\n",
    "from spacymoji import Emoji"
   ]
  },
  {
   "cell_type": "markdown",
   "metadata": {},
   "source": []
  },
  {
   "cell_type": "code",
   "execution_count": 270,
   "metadata": {},
   "outputs": [
    {
     "name": "stdout",
     "output_type": "stream",
     "text": [
      "I PRON PRP nsubj\n",
      "’m AUX VBP aux\n",
      "enjoying VERB VBG ROOT\n",
      "Simon PROPN NNP poss\n",
      "’s PART POS case\n",
      "meltdown NOUN NN dobj\n",
      "😂 PRON DT dobj\n",
      "😂 PRON DT dobj\n",
      "🤣 VERB VBP dobj\n",
      "#TheTinderSwindler ADJ JJR dobj\n"
     ]
    }
   ],
   "source": [
    "# create list of hastags\n",
    "for token in docs[0]:\n",
    "    print(token.text, token.pos_, token.tag_, token.dep_)"
   ]
  },
  {
   "cell_type": "markdown",
   "metadata": {},
   "source": [
    "### First explorative Analysis"
   ]
  },
  {
   "cell_type": "code",
   "execution_count": 191,
   "metadata": {},
   "outputs": [],
   "source": [
    "import matplotlib.pyplot as plt\n",
    "import seaborn as sns"
   ]
  },
  {
   "cell_type": "code",
   "execution_count": 247,
   "metadata": {},
   "outputs": [
    {
     "data": {
      "text/plain": [
       "Text(0.5, 0, 'Count')"
      ]
     },
     "execution_count": 247,
     "metadata": {},
     "output_type": "execute_result"
    },
    {
     "data": {
      "image/png": "[encoded data removed]",
      "text/plain": [
       "<Figure size 1080x720 with 1 Axes>"
      ]
     },
     "metadata": {},
     "output_type": "display_data"
    }
   ],
   "source": [
    "plt.figure(figsize=(15,10))\n",
    "sns.set(style=\"darkgrid\")\n",
    "ax = sns.countplot(y=\"user_location\", data=df[df[\"user_location\"] != \"unknown\"], order=df[df[\"user_location\"] != \"unknown\"]['user_location'].value_counts().index[0:20])\n",
    "ax.set_ylabel(\"User Location\")\n",
    "ax.set_xlabel(\"Count\")"
   ]
  },
  {
   "cell_type": "code",
   "execution_count": 248,
   "metadata": {},
   "outputs": [],
   "source": [
    "df['datetime_date'] = pd.to_datetime(df['date']).dt.date"
   ]
  },
  {
   "cell_type": "code",
   "execution_count": 249,
   "metadata": {},
   "outputs": [],
   "source": [
    "df_datecount = df.groupby(by=\"datetime_date\")['datetime_date'].count().reset_index(name=\"count\")"
   ]
  },
  {
   "cell_type": "code",
   "execution_count": 250,
   "metadata": {},
   "outputs": [
    {
     "data": {
      "text/html": [
       "<div>\n",
       "<style scoped>\n",
       "    .dataframe tbody tr th:only-of-type {\n",
       "        vertical-align: middle;\n",
       "    }\n",
       "\n",
       "    .dataframe tbody tr th {\n",
       "        vertical-align: top;\n",
       "    }\n",
       "\n",
       "    .dataframe thead th {\n",
       "        text-align: right;\n",
       "    }\n",
       "</style>\n",
       "<table border=\"1\" class=\"dataframe\">\n",
       "  <thead>\n",
       "    <tr style=\"text-align: right;\">\n",
       "      <th></th>\n",
       "      <th>datetime_date</th>\n",
       "      <th>count</th>\n",
       "    </tr>\n",
       "  </thead>\n",
       "  <tbody>\n",
       "    <tr>\n",
       "      <th>0</th>\n",
       "      <td>2022-02-01</td>\n",
       "      <td>80</td>\n",
       "    </tr>\n",
       "    <tr>\n",
       "      <th>1</th>\n",
       "      <td>2022-02-02</td>\n",
       "      <td>3130</td>\n",
       "    </tr>\n",
       "    <tr>\n",
       "      <th>2</th>\n",
       "      <td>2022-02-03</td>\n",
       "      <td>6725</td>\n",
       "    </tr>\n",
       "    <tr>\n",
       "      <th>3</th>\n",
       "      <td>2022-02-04</td>\n",
       "      <td>9080</td>\n",
       "    </tr>\n",
       "    <tr>\n",
       "      <th>4</th>\n",
       "      <td>2022-02-05</td>\n",
       "      <td>13420</td>\n",
       "    </tr>\n",
       "    <tr>\n",
       "      <th>5</th>\n",
       "      <td>2022-02-06</td>\n",
       "      <td>14831</td>\n",
       "    </tr>\n",
       "    <tr>\n",
       "      <th>6</th>\n",
       "      <td>2022-02-07</td>\n",
       "      <td>11798</td>\n",
       "    </tr>\n",
       "    <tr>\n",
       "      <th>7</th>\n",
       "      <td>2022-02-08</td>\n",
       "      <td>11042</td>\n",
       "    </tr>\n",
       "    <tr>\n",
       "      <th>8</th>\n",
       "      <td>2022-02-09</td>\n",
       "      <td>6107</td>\n",
       "    </tr>\n",
       "  </tbody>\n",
       "</table>\n",
       "</div>"
      ],
      "text/plain": [
       "  datetime_date  count\n",
       "0    2022-02-01     80\n",
       "1    2022-02-02   3130\n",
       "2    2022-02-03   6725\n",
       "3    2022-02-04   9080\n",
       "4    2022-02-05  13420\n",
       "5    2022-02-06  14831\n",
       "6    2022-02-07  11798\n",
       "7    2022-02-08  11042\n",
       "8    2022-02-09   6107"
      ]
     },
     "execution_count": 250,
     "metadata": {},
     "output_type": "execute_result"
    }
   ],
   "source": [
    "df_datecount"
   ]
  },
  {
   "cell_type": "code",
   "execution_count": 255,
   "metadata": {},
   "outputs": [
    {
     "data": {
      "text/plain": [
       "Text(0.5, 0, 'Date')"
      ]
     },
     "execution_count": 255,
     "metadata": {},
     "output_type": "execute_result"
    },
    {
     "data": {
      "image/png": "[encoded data removed]",
      "text/plain": [
       "<Figure size 1080x720 with 1 Axes>"
      ]
     },
     "metadata": {},
     "output_type": "display_data"
    }
   ],
   "source": [
    "plt.figure(figsize=(15,10))\n",
    "sns.set(style=\"darkgrid\")\n",
    "ax = sns.lineplot(data=df_datecount,x=df_datecount[\"datetime_date\"], y=df_datecount['count'].value_counts().index)\n",
    "ax.set_ylabel(\"Count of Tweets\")\n",
    "ax.set_xlabel(\"Date\")"
   ]
  },
  {
   "cell_type": "markdown",
   "metadata": {},
   "source": [
    "The film was released on Netflix on February 2, 2022"
   ]
  },
  {
   "cell_type": "markdown",
   "metadata": {},
   "source": [
    "### Document Term Matrix"
   ]
  },
  {
   "cell_type": "code",
   "execution_count": null,
   "metadata": {},
   "outputs": [
    {
     "name": "stdout",
     "output_type": "stream",
     "text": [
      "                   Doc 1  Doc 2  Doc 3  Doc 4  Doc 5  Doc 6  Doc 7  Doc 8  \\\n",
      "swindler               1      0      1      0      1      0      0      1   \n",
      "tinder                 1      0      1      0      1      0      0      0   \n",
      "thetinderswindler      0      1      0      1      0      0      1      0   \n",
      "watching               0      0      0      2      0      0      0      0   \n",
      "like                   1      0      0      1      0      0      0      0   \n",
      "real                   0      1      0      0      0      0      0      0   \n",
      "movie                  1      0      0      1      0      0      0      0   \n",
      "checked                0      1      0      0      0      0      0      0   \n",
      "series                 0      0      0      1      0      0      0      0   \n",
      "crazy                  0      0      0      1      0      0      0      0   \n",
      "\n",
      "                   Doc 9  \n",
      "swindler               1  \n",
      "tinder                 1  \n",
      "thetinderswindler      0  \n",
      "watching               0  \n",
      "like                   0  \n",
      "real                   1  \n",
      "movie                  0  \n",
      "checked                0  \n",
      "series                 0  \n",
      "crazy                  0  \n"
     ]
    }
   ],
   "source": [
    "from sklearn.feature_extraction.text import CountVectorizer\n",
    "\n",
    "# Count Vectorizer\n",
    "vect = CountVectorizer(stop_words=stop_words)  \n",
    "vects = vect.fit_transform(df_sample.text)\n",
    "\n",
    "# Select the first five rows from the data set\n",
    "td = pd.DataFrame(vects.todense()).iloc[:9]  \n",
    "td.columns = vect.get_feature_names_out()\n",
    "term_document_matrix = td.T\n",
    "term_document_matrix.columns = ['Doc '+str(i) for i in range(1, 10)]\n",
    "term_document_matrix['total_count'] = term_document_matrix.sum(axis=1)\n",
    "\n",
    "# Top 25 words \n",
    "term_document_matrix = term_document_matrix.sort_values(by ='total_count',ascending=False)[:25] \n",
    "\n",
    "# Print the first 10 rows \n",
    "print(term_document_matrix.drop(columns=['total_count']).head(10))"
   ]
  },
  {
   "cell_type": "code",
   "execution_count": null,
   "metadata": {},
   "outputs": [
    {
     "data": {
      "text/plain": [
       "<AxesSubplot:>"
      ]
     },
     "execution_count": 157,
     "metadata": {},
     "output_type": "execute_result"
    },
    {
     "data": {
      "image/png": "[encoded data removed]",
      "text/plain": [
       "<Figure size 432x288 with 1 Axes>"
      ]
     },
     "metadata": {
      "needs_background": "light"
     },
     "output_type": "display_data"
    }
   ],
   "source": [
    "term_document_matrix['total_count'].plot.bar()"
   ]
  },
  {
   "cell_type": "markdown",
   "metadata": {},
   "source": [
    "### Cosine Similarity"
   ]
  },
  {
   "cell_type": "code",
   "execution_count": 183,
   "metadata": {},
   "outputs": [],
   "source": [
    "from sklearn.metrics.pairwise import cosine_similarity\n",
    "similarity = cosine_similarity(doc_vectors)"
   ]
  },
  {
   "cell_type": "code",
   "execution_count": 184,
   "metadata": {},
   "outputs": [],
   "source": [
    "similarity[similarity < 0.95] = 0"
   ]
  },
  {
   "cell_type": "code",
   "execution_count": 185,
   "metadata": {},
   "outputs": [
    {
     "name": "stdout",
     "output_type": "stream",
     "text": [
      "array([[1.0000004, 0.       , 0.       , ..., 0.       , 0.       ,\n",
      "        0.       ],\n",
      "       [0.       , 1.0000001, 0.       , ..., 0.       , 0.       ,\n",
      "        0.       ],\n",
      "       [0.       , 0.       , 1.       , ..., 0.       , 0.       ,\n",
      "        0.       ],\n",
      "       ...,\n",
      "       [0.       , 0.       , 0.       , ..., 0.9999996, 0.       ,\n",
      "        0.       ],\n",
      "       [0.       , 0.       , 0.       , ..., 0.       , 1.0000001,\n",
      "        0.       ],\n",
      "       [0.       , 0.       , 0.       , ..., 0.       , 0.       ,\n",
      "        1.0000001]], dtype=float32)\n"
     ]
    }
   ],
   "source": [
    "from pprint import pprint\n",
    "\n",
    "pprint(similarity)"
   ]
  },
  {
   "cell_type": "code",
   "execution_count": 186,
   "metadata": {},
   "outputs": [],
   "source": [
    "import networkx as nx\n",
    "G = nx.from_numpy_array(similarity)\n"
   ]
  },
  {
   "cell_type": "code",
   "execution_count": 187,
   "metadata": {},
   "outputs": [
    {
     "ename": "KeyboardInterrupt",
     "evalue": "",
     "output_type": "error",
     "traceback": [
      "\u001b[0;31m---------------------------------------------------------------------------\u001b[0m",
      "\u001b[0;31mKeyboardInterrupt\u001b[0m                         Traceback (most recent call last)",
      "\u001b[1;32m/Users/alexanderkneis/git/notebooks/text-analytics/tinder_swindler_tweets_analysis/tinder_swindler.ipynb Zelle 25\u001b[0m in \u001b[0;36m<cell line: 1>\u001b[0;34m()\u001b[0m\n\u001b[0;32m----> <a href='vscode-notebook-cell:/Users/alexanderkneis/git/notebooks/text-analytics/tinder_swindler_tweets_analysis/tinder_swindler.ipynb#X40sZmlsZQ%3D%3D?line=0'>1</a>\u001b[0m nx\u001b[39m.\u001b[39;49mdraw(G)\n",
      "File \u001b[0;32m/Library/Frameworks/Python.framework/Versions/3.8/lib/python3.8/site-packages/networkx/drawing/nx_pylab.py:121\u001b[0m, in \u001b[0;36mdraw\u001b[0;34m(G, pos, ax, **kwds)\u001b[0m\n\u001b[1;32m    118\u001b[0m \u001b[39mif\u001b[39;00m \u001b[39m\"\u001b[39m\u001b[39mwith_labels\u001b[39m\u001b[39m\"\u001b[39m \u001b[39mnot\u001b[39;00m \u001b[39min\u001b[39;00m kwds:\n\u001b[1;32m    119\u001b[0m     kwds[\u001b[39m\"\u001b[39m\u001b[39mwith_labels\u001b[39m\u001b[39m\"\u001b[39m] \u001b[39m=\u001b[39m \u001b[39m\"\u001b[39m\u001b[39mlabels\u001b[39m\u001b[39m\"\u001b[39m \u001b[39min\u001b[39;00m kwds\n\u001b[0;32m--> 121\u001b[0m draw_networkx(G, pos\u001b[39m=\u001b[39;49mpos, ax\u001b[39m=\u001b[39;49max, \u001b[39m*\u001b[39;49m\u001b[39m*\u001b[39;49mkwds)\n\u001b[1;32m    122\u001b[0m ax\u001b[39m.\u001b[39mset_axis_off()\n\u001b[1;32m    123\u001b[0m plt\u001b[39m.\u001b[39mdraw_if_interactive()\n",
      "File \u001b[0;32m/Library/Frameworks/Python.framework/Versions/3.8/lib/python3.8/site-packages/networkx/drawing/nx_pylab.py:301\u001b[0m, in \u001b[0;36mdraw_networkx\u001b[0;34m(G, pos, arrows, with_labels, **kwds)\u001b[0m\n\u001b[1;32m    298\u001b[0m label_kwds \u001b[39m=\u001b[39m {k: v \u001b[39mfor\u001b[39;00m k, v \u001b[39min\u001b[39;00m kwds\u001b[39m.\u001b[39mitems() \u001b[39mif\u001b[39;00m k \u001b[39min\u001b[39;00m valid_label_kwds}\n\u001b[1;32m    300\u001b[0m \u001b[39mif\u001b[39;00m pos \u001b[39mis\u001b[39;00m \u001b[39mNone\u001b[39;00m:\n\u001b[0;32m--> 301\u001b[0m     pos \u001b[39m=\u001b[39m nx\u001b[39m.\u001b[39;49mdrawing\u001b[39m.\u001b[39;49mspring_layout(G)  \u001b[39m# default to spring layout\u001b[39;00m\n\u001b[1;32m    303\u001b[0m draw_networkx_nodes(G, pos, \u001b[39m*\u001b[39m\u001b[39m*\u001b[39mnode_kwds)\n\u001b[1;32m    304\u001b[0m draw_networkx_edges(G, pos, arrows\u001b[39m=\u001b[39marrows, \u001b[39m*\u001b[39m\u001b[39m*\u001b[39medge_kwds)\n",
      "File \u001b[0;32m<class 'networkx.utils.decorators.argmap'> compilation 8:4\u001b[0m, in \u001b[0;36margmap_spring_layout_5\u001b[0;34m(G, k, pos, fixed, iterations, threshold, weight, scale, center, dim, seed)\u001b[0m\n\u001b[1;32m      2\u001b[0m \u001b[39mimport\u001b[39;00m \u001b[39mcollections\u001b[39;00m\n\u001b[1;32m      3\u001b[0m \u001b[39mimport\u001b[39;00m \u001b[39mgzip\u001b[39;00m\n\u001b[0;32m----> 4\u001b[0m \u001b[39mimport\u001b[39;00m \u001b[39minspect\u001b[39;00m\n\u001b[1;32m      5\u001b[0m \u001b[39mimport\u001b[39;00m \u001b[39mitertools\u001b[39;00m\n\u001b[1;32m      6\u001b[0m \u001b[39mimport\u001b[39;00m \u001b[39mre\u001b[39;00m\n",
      "File \u001b[0;32m/Library/Frameworks/Python.framework/Versions/3.8/lib/python3.8/site-packages/networkx/drawing/layout.py:481\u001b[0m, in \u001b[0;36mspring_layout\u001b[0;34m(G, k, pos, fixed, iterations, threshold, weight, scale, center, dim, seed)\u001b[0m\n\u001b[1;32m    479\u001b[0m         nnodes, _ \u001b[39m=\u001b[39m A\u001b[39m.\u001b[39mshape\n\u001b[1;32m    480\u001b[0m         k \u001b[39m=\u001b[39m dom_size \u001b[39m/\u001b[39m np\u001b[39m.\u001b[39msqrt(nnodes)\n\u001b[0;32m--> 481\u001b[0m     pos \u001b[39m=\u001b[39m _sparse_fruchterman_reingold(\n\u001b[1;32m    482\u001b[0m         A, k, pos_arr, fixed, iterations, threshold, dim, seed\n\u001b[1;32m    483\u001b[0m     )\n\u001b[1;32m    484\u001b[0m \u001b[39mexcept\u001b[39;00m \u001b[39mValueError\u001b[39;00m:\n\u001b[1;32m    485\u001b[0m     A \u001b[39m=\u001b[39m nx\u001b[39m.\u001b[39mto_numpy_array(G, weight\u001b[39m=\u001b[39mweight)\n",
      "File \u001b[0;32m<class 'networkx.utils.decorators.argmap'> compilation 12:4\u001b[0m, in \u001b[0;36margmap__sparse_fruchterman_reingold_9\u001b[0;34m(A, k, pos, fixed, iterations, threshold, dim, seed)\u001b[0m\n\u001b[1;32m      2\u001b[0m \u001b[39mimport\u001b[39;00m \u001b[39mcollections\u001b[39;00m\n\u001b[1;32m      3\u001b[0m \u001b[39mimport\u001b[39;00m \u001b[39mgzip\u001b[39;00m\n\u001b[0;32m----> 4\u001b[0m \u001b[39mimport\u001b[39;00m \u001b[39minspect\u001b[39;00m\n\u001b[1;32m      5\u001b[0m \u001b[39mimport\u001b[39;00m \u001b[39mitertools\u001b[39;00m\n\u001b[1;32m      6\u001b[0m \u001b[39mimport\u001b[39;00m \u001b[39mre\u001b[39;00m\n",
      "File \u001b[0;32m/Library/Frameworks/Python.framework/Versions/3.8/lib/python3.8/site-packages/networkx/drawing/layout.py:624\u001b[0m, in \u001b[0;36m_sparse_fruchterman_reingold\u001b[0;34m(A, k, pos, fixed, iterations, threshold, dim, seed)\u001b[0m\n\u001b[1;32m    621\u001b[0m     Ai \u001b[39m=\u001b[39m A\u001b[39m.\u001b[39mgetrowview(i)\u001b[39m.\u001b[39mtoarray()  \u001b[39m# TODO: revisit w/ sparse 1D container\u001b[39;00m\n\u001b[1;32m    622\u001b[0m     \u001b[39m# displacement \"force\"\u001b[39;00m\n\u001b[1;32m    623\u001b[0m     displacement[:, i] \u001b[39m+\u001b[39m\u001b[39m=\u001b[39m (\n\u001b[0;32m--> 624\u001b[0m         delta \u001b[39m*\u001b[39;49m (k \u001b[39m*\u001b[39;49m k \u001b[39m/\u001b[39;49m distance\u001b[39m*\u001b[39;49m\u001b[39m*\u001b[39;49m\u001b[39m2\u001b[39;49m \u001b[39m-\u001b[39;49m Ai \u001b[39m*\u001b[39;49m distance \u001b[39m/\u001b[39;49m k)\n\u001b[1;32m    625\u001b[0m     )\u001b[39m.\u001b[39msum(axis\u001b[39m=\u001b[39m\u001b[39m1\u001b[39m)\n\u001b[1;32m    626\u001b[0m \u001b[39m# update positions\u001b[39;00m\n\u001b[1;32m    627\u001b[0m length \u001b[39m=\u001b[39m np\u001b[39m.\u001b[39msqrt((displacement\u001b[39m*\u001b[39m\u001b[39m*\u001b[39m\u001b[39m2\u001b[39m)\u001b[39m.\u001b[39msum(axis\u001b[39m=\u001b[39m\u001b[39m0\u001b[39m))\n",
      "\u001b[0;31mKeyboardInterrupt\u001b[0m: "
     ]
    },
    {
     "data": {
      "image/png": "[encoded data removed]",
      "text/plain": [
       "<Figure size 432x288 with 1 Axes>"
      ]
     },
     "metadata": {},
     "output_type": "display_data"
    }
   ],
   "source": [
    "nx.draw(G)"
   ]
  }
 ],
 "metadata": {
  "kernelspec": {
   "display_name": "Python 3.8.2 64-bit",
   "language": "python",
   "name": "python3"
  },
  "language_info": {
   "codemirror_mode": {
    "name": "ipython",
    "version": 3
   },
   "file_extension": ".py",
   "mimetype": "text/x-python",
   "name": "python",
   "nbconvert_exporter": "python",
   "pygments_lexer": "ipython3",
   "version": "3.8.2"
  },
  "orig_nbformat": 4,
  "vscode": {
   "interpreter": {
    "hash": "0adcc2737ebf6a4a119f135174df96668767fca1ef1112612db5ecadf2b6d608"
   }
  }
 },
 "nbformat": 4,
 "nbformat_minor": 2
}

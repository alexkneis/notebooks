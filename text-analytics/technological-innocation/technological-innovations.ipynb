{
 "cells": [
  {
   "cell_type": "code",
   "execution_count": 153,
   "metadata": {},
   "outputs": [],
   "source": [
    "import pandas as pd \n",
    "import matplotlib.pyplot as plt\n",
    "from pandas_profiling import ProfileReport"
   ]
  },
  {
   "cell_type": "markdown",
   "metadata": {},
   "source": [
    "### Read CSV file\n",
    "- source: `lens.org`\n",
    "- type: `scholarly works`\n",
    "- max rows: `1000`\n",
    "- search term: `\"technological innovation\"`\n",
    "- flags: `has abstract`\n",
    "- date range: `2020-today`\n",
    "- Anmerkung: betriebswirtschaftlich technologische Innovation herausfiltern?"
   ]
  },
  {
   "cell_type": "code",
   "execution_count": 154,
   "metadata": {},
   "outputs": [],
   "source": [
    "file = \"./technological-innovations.csv\"\n",
    "df  =  pd.read_csv( file )"
   ]
  },
  {
   "cell_type": "markdown",
   "metadata": {},
   "source": [
    "### Display loaded data"
   ]
  },
  {
   "cell_type": "code",
   "execution_count": 155,
   "metadata": {},
   "outputs": [
    {
     "data": {
      "text/plain": [
       "(1000, 10)"
      ]
     },
     "execution_count": 155,
     "metadata": {},
     "output_type": "execute_result"
    }
   ],
   "source": [
    "df.shape"
   ]
  },
  {
   "cell_type": "code",
   "execution_count": 156,
   "metadata": {},
   "outputs": [
    {
     "data": {
      "text/html": [
       "<div>\n",
       "<style scoped>\n",
       "    .dataframe tbody tr th:only-of-type {\n",
       "        vertical-align: middle;\n",
       "    }\n",
       "\n",
       "    .dataframe tbody tr th {\n",
       "        vertical-align: top;\n",
       "    }\n",
       "\n",
       "    .dataframe thead th {\n",
       "        text-align: right;\n",
       "    }\n",
       "</style>\n",
       "<table border=\"1\" class=\"dataframe\">\n",
       "  <thead>\n",
       "    <tr style=\"text-align: right;\">\n",
       "      <th></th>\n",
       "      <th>Lens ID</th>\n",
       "      <th>Title</th>\n",
       "      <th>Date Published</th>\n",
       "      <th>Publication Year</th>\n",
       "      <th>Publication Type</th>\n",
       "      <th>Author/s</th>\n",
       "      <th>Abstract</th>\n",
       "      <th>Fields of Study</th>\n",
       "      <th>Keywords</th>\n",
       "      <th>Citing Works Count</th>\n",
       "    </tr>\n",
       "  </thead>\n",
       "  <tbody>\n",
       "    <tr>\n",
       "      <th>0</th>\n",
       "      <td>000-084-617-101-137</td>\n",
       "      <td>ATCI (1) - The Impact of Technological Innovat...</td>\n",
       "      <td>2021-06-24</td>\n",
       "      <td>2021</td>\n",
       "      <td>book</td>\n",
       "      <td>Xia Zhong</td>\n",
       "      <td>The use of computers in people’s work and life...</td>\n",
       "      <td>The Internet; Technological change; Standard o...</td>\n",
       "      <td>NaN</td>\n",
       "      <td>0</td>\n",
       "    </tr>\n",
       "    <tr>\n",
       "      <th>1</th>\n",
       "      <td>000-153-782-326-117</td>\n",
       "      <td>The Effect of Corporate Social Responsibility ...</td>\n",
       "      <td>2021-06-29</td>\n",
       "      <td>2021</td>\n",
       "      <td>journal article</td>\n",
       "      <td>Jun Huang; Peijun Xie; Yating Zeng; Yun Li</td>\n",
       "      <td>The implementation of innovation-driven strate...</td>\n",
       "      <td>Shareholder; Corporate social responsibility; ...</td>\n",
       "      <td>NaN</td>\n",
       "      <td>1</td>\n",
       "    </tr>\n",
       "    <tr>\n",
       "      <th>2</th>\n",
       "      <td>000-159-349-888-829</td>\n",
       "      <td>Financial sustainability of the construction f...</td>\n",
       "      <td>2020-12-01</td>\n",
       "      <td>2020</td>\n",
       "      <td>conference proceedings article</td>\n",
       "      <td>Hui Shan Lee; Sin Yee Lee; Wai-Mun Har; Shen Yap</td>\n",
       "      <td>As the fourth industrial revolution (IR 4.0) m...</td>\n",
       "      <td>Business; Revenue; Productivity; Quality (busi...</td>\n",
       "      <td>NaN</td>\n",
       "      <td>1</td>\n",
       "    </tr>\n",
       "    <tr>\n",
       "      <th>3</th>\n",
       "      <td>000-283-265-401-188</td>\n",
       "      <td>Financial agglomeration, technological innovat...</td>\n",
       "      <td>NaN</td>\n",
       "      <td>2021</td>\n",
       "      <td>journal article</td>\n",
       "      <td>Xuefeng Li; Dalai Ma</td>\n",
       "      <td>Abstract Based on the panel data of 30 Chinese...</td>\n",
       "      <td>Finance; Economies of agglomeration; Econometr...</td>\n",
       "      <td>NaN</td>\n",
       "      <td>15</td>\n",
       "    </tr>\n",
       "    <tr>\n",
       "      <th>4</th>\n",
       "      <td>000-361-747-666-622</td>\n",
       "      <td>Study on incentive and supervision mechanisms ...</td>\n",
       "      <td>2020-08-25</td>\n",
       "      <td>2020</td>\n",
       "      <td>journal article</td>\n",
       "      <td>Jiawei Liu; Guanghong Ma</td>\n",
       "      <td>The high uncertainty of technological innovati...</td>\n",
       "      <td>Information asymmetry; Business; Project manag...</td>\n",
       "      <td>NaN</td>\n",
       "      <td>8</td>\n",
       "    </tr>\n",
       "    <tr>\n",
       "      <th>5</th>\n",
       "      <td>000-497-940-746-23X</td>\n",
       "      <td>Teknolojik İnovasyona Yönelik Uyumda Tüketici ...</td>\n",
       "      <td>2021-03-28</td>\n",
       "      <td>2021</td>\n",
       "      <td>journal article</td>\n",
       "      <td>Emine Şenbabaoğlu Danacı; Nurettin Parıltı</td>\n",
       "      <td>Purpose - Although a new technological innovat...</td>\n",
       "      <td>Psychology; Marketing; Value (ethics); Test (a...</td>\n",
       "      <td>NaN</td>\n",
       "      <td>0</td>\n",
       "    </tr>\n",
       "    <tr>\n",
       "      <th>6</th>\n",
       "      <td>000-653-310-870-537</td>\n",
       "      <td>Information Systems Governance and Industry 4....</td>\n",
       "      <td>NaN</td>\n",
       "      <td>2021</td>\n",
       "      <td>book chapter</td>\n",
       "      <td>Pedro Fernandes da Anunciação; Fernando Miguel...</td>\n",
       "      <td>&lt;jats:p&gt;The information society requires gover...</td>\n",
       "      <td>Link (knot theory); Business; Information syst...</td>\n",
       "      <td>NaN</td>\n",
       "      <td>1</td>\n",
       "    </tr>\n",
       "    <tr>\n",
       "      <th>7</th>\n",
       "      <td>000-767-911-071-883</td>\n",
       "      <td>System Dynamics Modeling of Logistics Hub Capa...</td>\n",
       "      <td>2020-04-16</td>\n",
       "      <td>2020</td>\n",
       "      <td>book chapter</td>\n",
       "      <td>Alberto De Marco; Hussein Fakhry; Marco Postor...</td>\n",
       "      <td>This paper proposes a System Dynamics (SD) mod...</td>\n",
       "      <td>Decision support system; Scheduling (productio...</td>\n",
       "      <td>NaN</td>\n",
       "      <td>0</td>\n",
       "    </tr>\n",
       "    <tr>\n",
       "      <th>8</th>\n",
       "      <td>000-776-059-798-423</td>\n",
       "      <td>Influence of Financialization of Heavily Pollu...</td>\n",
       "      <td>2021-12-17</td>\n",
       "      <td>2021</td>\n",
       "      <td>journal article</td>\n",
       "      <td>Yingying Zhou; Yuehan Du; Fengyi Lei; Ziru Su;...</td>\n",
       "      <td>In the wake of the acceleration of China's ind...</td>\n",
       "      <td>Financialization; Arbitrage; Business; Economi...</td>\n",
       "      <td>environmental pollution; financialization; hea...</td>\n",
       "      <td>2</td>\n",
       "    </tr>\n",
       "    <tr>\n",
       "      <th>9</th>\n",
       "      <td>000-822-933-331-817</td>\n",
       "      <td>Barriers to the Adoption of Technological Inno...</td>\n",
       "      <td>2020-08-27</td>\n",
       "      <td>2020</td>\n",
       "      <td>journal article</td>\n",
       "      <td>Tanja C. Link; Beverly Reece</td>\n",
       "      <td>Over 600,000 criminal justice involved individ...</td>\n",
       "      <td>Criminal justice; Political science; State (po...</td>\n",
       "      <td>case study; community supervision; corrections...</td>\n",
       "      <td>3</td>\n",
       "    </tr>\n",
       "  </tbody>\n",
       "</table>\n",
       "</div>"
      ],
      "text/plain": [
       "               Lens ID                                              Title  \\\n",
       "0  000-084-617-101-137  ATCI (1) - The Impact of Technological Innovat...   \n",
       "1  000-153-782-326-117  The Effect of Corporate Social Responsibility ...   \n",
       "2  000-159-349-888-829  Financial sustainability of the construction f...   \n",
       "3  000-283-265-401-188  Financial agglomeration, technological innovat...   \n",
       "4  000-361-747-666-622  Study on incentive and supervision mechanisms ...   \n",
       "5  000-497-940-746-23X  Teknolojik İnovasyona Yönelik Uyumda Tüketici ...   \n",
       "6  000-653-310-870-537  Information Systems Governance and Industry 4....   \n",
       "7  000-767-911-071-883  System Dynamics Modeling of Logistics Hub Capa...   \n",
       "8  000-776-059-798-423  Influence of Financialization of Heavily Pollu...   \n",
       "9  000-822-933-331-817  Barriers to the Adoption of Technological Inno...   \n",
       "\n",
       "  Date Published  Publication Year                Publication Type  \\\n",
       "0     2021-06-24              2021                            book   \n",
       "1     2021-06-29              2021                 journal article   \n",
       "2     2020-12-01              2020  conference proceedings article   \n",
       "3            NaN              2021                 journal article   \n",
       "4     2020-08-25              2020                 journal article   \n",
       "5     2021-03-28              2021                 journal article   \n",
       "6            NaN              2021                    book chapter   \n",
       "7     2020-04-16              2020                    book chapter   \n",
       "8     2021-12-17              2021                 journal article   \n",
       "9     2020-08-27              2020                 journal article   \n",
       "\n",
       "                                            Author/s  \\\n",
       "0                                          Xia Zhong   \n",
       "1         Jun Huang; Peijun Xie; Yating Zeng; Yun Li   \n",
       "2   Hui Shan Lee; Sin Yee Lee; Wai-Mun Har; Shen Yap   \n",
       "3                               Xuefeng Li; Dalai Ma   \n",
       "4                           Jiawei Liu; Guanghong Ma   \n",
       "5         Emine Şenbabaoğlu Danacı; Nurettin Parıltı   \n",
       "6  Pedro Fernandes da Anunciação; Fernando Miguel...   \n",
       "7  Alberto De Marco; Hussein Fakhry; Marco Postor...   \n",
       "8  Yingying Zhou; Yuehan Du; Fengyi Lei; Ziru Su;...   \n",
       "9                       Tanja C. Link; Beverly Reece   \n",
       "\n",
       "                                            Abstract  \\\n",
       "0  The use of computers in people’s work and life...   \n",
       "1  The implementation of innovation-driven strate...   \n",
       "2  As the fourth industrial revolution (IR 4.0) m...   \n",
       "3  Abstract Based on the panel data of 30 Chinese...   \n",
       "4  The high uncertainty of technological innovati...   \n",
       "5  Purpose - Although a new technological innovat...   \n",
       "6  <jats:p>The information society requires gover...   \n",
       "7  This paper proposes a System Dynamics (SD) mod...   \n",
       "8  In the wake of the acceleration of China's ind...   \n",
       "9  Over 600,000 criminal justice involved individ...   \n",
       "\n",
       "                                     Fields of Study  \\\n",
       "0  The Internet; Technological change; Standard o...   \n",
       "1  Shareholder; Corporate social responsibility; ...   \n",
       "2  Business; Revenue; Productivity; Quality (busi...   \n",
       "3  Finance; Economies of agglomeration; Econometr...   \n",
       "4  Information asymmetry; Business; Project manag...   \n",
       "5  Psychology; Marketing; Value (ethics); Test (a...   \n",
       "6  Link (knot theory); Business; Information syst...   \n",
       "7  Decision support system; Scheduling (productio...   \n",
       "8  Financialization; Arbitrage; Business; Economi...   \n",
       "9  Criminal justice; Political science; State (po...   \n",
       "\n",
       "                                            Keywords  Citing Works Count  \n",
       "0                                                NaN                   0  \n",
       "1                                                NaN                   1  \n",
       "2                                                NaN                   1  \n",
       "3                                                NaN                  15  \n",
       "4                                                NaN                   8  \n",
       "5                                                NaN                   0  \n",
       "6                                                NaN                   1  \n",
       "7                                                NaN                   0  \n",
       "8  environmental pollution; financialization; hea...                   2  \n",
       "9  case study; community supervision; corrections...                   3  "
      ]
     },
     "execution_count": 156,
     "metadata": {},
     "output_type": "execute_result"
    }
   ],
   "source": [
    "df.head(10)"
   ]
  },
  {
   "cell_type": "code",
   "execution_count": 157,
   "metadata": {},
   "outputs": [],
   "source": [
    "# profile = ProfileReport(df, title=\"Pandas Profiling Report\")\n",
    "# profile.to_widgets()"
   ]
  },
  {
   "cell_type": "markdown",
   "metadata": {},
   "source": [
    "### Adding Columns"
   ]
  },
  {
   "cell_type": "code",
   "execution_count": 158,
   "metadata": {},
   "outputs": [],
   "source": [
    "df['length'] = df['Abstract'].str.len()"
   ]
  },
  {
   "cell_type": "markdown",
   "metadata": {},
   "source": [
    "### Describe Dataset"
   ]
  },
  {
   "cell_type": "code",
   "execution_count": 159,
   "metadata": {},
   "outputs": [
    {
     "data": {
      "text/html": [
       "<div>\n",
       "<style scoped>\n",
       "    .dataframe tbody tr th:only-of-type {\n",
       "        vertical-align: middle;\n",
       "    }\n",
       "\n",
       "    .dataframe tbody tr th {\n",
       "        vertical-align: top;\n",
       "    }\n",
       "\n",
       "    .dataframe thead th {\n",
       "        text-align: right;\n",
       "    }\n",
       "</style>\n",
       "<table border=\"1\" class=\"dataframe\">\n",
       "  <thead>\n",
       "    <tr style=\"text-align: right;\">\n",
       "      <th></th>\n",
       "      <th>count</th>\n",
       "      <th>unique</th>\n",
       "      <th>top</th>\n",
       "      <th>freq</th>\n",
       "    </tr>\n",
       "  </thead>\n",
       "  <tbody>\n",
       "    <tr>\n",
       "      <th>Lens ID</th>\n",
       "      <td>1000</td>\n",
       "      <td>1000</td>\n",
       "      <td>000-084-617-101-137</td>\n",
       "      <td>1</td>\n",
       "    </tr>\n",
       "    <tr>\n",
       "      <th>Title</th>\n",
       "      <td>1000</td>\n",
       "      <td>990</td>\n",
       "      <td>Effects of the institutional change based on d...</td>\n",
       "      <td>2</td>\n",
       "    </tr>\n",
       "    <tr>\n",
       "      <th>Date Published</th>\n",
       "      <td>861</td>\n",
       "      <td>498</td>\n",
       "      <td>2021-02-03</td>\n",
       "      <td>8</td>\n",
       "    </tr>\n",
       "    <tr>\n",
       "      <th>Publication Type</th>\n",
       "      <td>878</td>\n",
       "      <td>8</td>\n",
       "      <td>journal article</td>\n",
       "      <td>700</td>\n",
       "    </tr>\n",
       "    <tr>\n",
       "      <th>Author/s</th>\n",
       "      <td>988</td>\n",
       "      <td>960</td>\n",
       "      <td>Mario Coccia</td>\n",
       "      <td>5</td>\n",
       "    </tr>\n",
       "    <tr>\n",
       "      <th>Abstract</th>\n",
       "      <td>1000</td>\n",
       "      <td>987</td>\n",
       "      <td>Political systems shape institutions and gover...</td>\n",
       "      <td>3</td>\n",
       "    </tr>\n",
       "    <tr>\n",
       "      <th>Fields of Study</th>\n",
       "      <td>1000</td>\n",
       "      <td>992</td>\n",
       "      <td>Business; Parallels; Industrial organization</td>\n",
       "      <td>2</td>\n",
       "    </tr>\n",
       "    <tr>\n",
       "      <th>Keywords</th>\n",
       "      <td>168</td>\n",
       "      <td>168</td>\n",
       "      <td>environmental pollution; financialization; hea...</td>\n",
       "      <td>1</td>\n",
       "    </tr>\n",
       "  </tbody>\n",
       "</table>\n",
       "</div>"
      ],
      "text/plain": [
       "                 count unique  \\\n",
       "Lens ID           1000   1000   \n",
       "Title             1000    990   \n",
       "Date Published     861    498   \n",
       "Publication Type   878      8   \n",
       "Author/s           988    960   \n",
       "Abstract          1000    987   \n",
       "Fields of Study   1000    992   \n",
       "Keywords           168    168   \n",
       "\n",
       "                                                                top freq  \n",
       "Lens ID                                         000-084-617-101-137    1  \n",
       "Title             Effects of the institutional change based on d...    2  \n",
       "Date Published                                           2021-02-03    8  \n",
       "Publication Type                                    journal article  700  \n",
       "Author/s                                               Mario Coccia    5  \n",
       "Abstract          Political systems shape institutions and gover...    3  \n",
       "Fields of Study        Business; Parallels; Industrial organization    2  \n",
       "Keywords          environmental pollution; financialization; hea...    1  "
      ]
     },
     "execution_count": 159,
     "metadata": {},
     "output_type": "execute_result"
    }
   ],
   "source": [
    "df.describe(include=\"O\").T"
   ]
  },
  {
   "cell_type": "code",
   "execution_count": 160,
   "metadata": {},
   "outputs": [
    {
     "data": {
      "text/html": [
       "<div>\n",
       "<style scoped>\n",
       "    .dataframe tbody tr th:only-of-type {\n",
       "        vertical-align: middle;\n",
       "    }\n",
       "\n",
       "    .dataframe tbody tr th {\n",
       "        vertical-align: top;\n",
       "    }\n",
       "\n",
       "    .dataframe thead th {\n",
       "        text-align: right;\n",
       "    }\n",
       "</style>\n",
       "<table border=\"1\" class=\"dataframe\">\n",
       "  <thead>\n",
       "    <tr style=\"text-align: right;\">\n",
       "      <th></th>\n",
       "      <th>count</th>\n",
       "      <th>mean</th>\n",
       "      <th>std</th>\n",
       "      <th>min</th>\n",
       "      <th>25%</th>\n",
       "      <th>50%</th>\n",
       "      <th>75%</th>\n",
       "      <th>max</th>\n",
       "    </tr>\n",
       "  </thead>\n",
       "  <tbody>\n",
       "    <tr>\n",
       "      <th>Publication Year</th>\n",
       "      <td>1000.0</td>\n",
       "      <td>2020.936</td>\n",
       "      <td>0.778788</td>\n",
       "      <td>2020.0</td>\n",
       "      <td>2020.0</td>\n",
       "      <td>2021.0</td>\n",
       "      <td>2022.0</td>\n",
       "      <td>2022.0</td>\n",
       "    </tr>\n",
       "    <tr>\n",
       "      <th>Citing Works Count</th>\n",
       "      <td>1000.0</td>\n",
       "      <td>3.132</td>\n",
       "      <td>9.924872</td>\n",
       "      <td>0.0</td>\n",
       "      <td>0.0</td>\n",
       "      <td>0.0</td>\n",
       "      <td>2.0</td>\n",
       "      <td>117.0</td>\n",
       "    </tr>\n",
       "    <tr>\n",
       "      <th>length</th>\n",
       "      <td>1000.0</td>\n",
       "      <td>1241.022</td>\n",
       "      <td>534.770129</td>\n",
       "      <td>92.0</td>\n",
       "      <td>914.5</td>\n",
       "      <td>1216.0</td>\n",
       "      <td>1551.0</td>\n",
       "      <td>3523.0</td>\n",
       "    </tr>\n",
       "  </tbody>\n",
       "</table>\n",
       "</div>"
      ],
      "text/plain": [
       "                     count      mean         std     min     25%     50%  \\\n",
       "Publication Year    1000.0  2020.936    0.778788  2020.0  2020.0  2021.0   \n",
       "Citing Works Count  1000.0     3.132    9.924872     0.0     0.0     0.0   \n",
       "length              1000.0  1241.022  534.770129    92.0   914.5  1216.0   \n",
       "\n",
       "                       75%     max  \n",
       "Publication Year    2022.0  2022.0  \n",
       "Citing Works Count     2.0   117.0  \n",
       "length              1551.0  3523.0  "
      ]
     },
     "execution_count": 160,
     "metadata": {},
     "output_type": "execute_result"
    }
   ],
   "source": [
    "df.describe().T"
   ]
  },
  {
   "cell_type": "markdown",
   "metadata": {},
   "source": [
    "### Checking Missing Data"
   ]
  },
  {
   "cell_type": "code",
   "execution_count": 161,
   "metadata": {},
   "outputs": [
    {
     "data": {
      "text/plain": [
       "Lens ID                 0\n",
       "Title                   0\n",
       "Date Published        139\n",
       "Publication Year        0\n",
       "Publication Type      122\n",
       "Author/s               12\n",
       "Abstract                0\n",
       "Fields of Study         0\n",
       "Keywords              832\n",
       "Citing Works Count      0\n",
       "length                  0\n",
       "dtype: int64"
      ]
     },
     "execution_count": 161,
     "metadata": {},
     "output_type": "execute_result"
    }
   ],
   "source": [
    "df.isna().sum()"
   ]
  },
  {
   "cell_type": "markdown",
   "metadata": {},
   "source": [
    "### Resolve Missing Data"
   ]
  },
  {
   "cell_type": "code",
   "execution_count": 162,
   "metadata": {},
   "outputs": [],
   "source": [
    "df[\"Author/s\"].fillna('unknown', inplace=True)"
   ]
  },
  {
   "cell_type": "markdown",
   "metadata": {},
   "source": [
    "### Explode Author/s"
   ]
  },
  {
   "cell_type": "code",
   "execution_count": 163,
   "metadata": {},
   "outputs": [],
   "source": [
    "df['authors_split'] = df[\"Author/s\"].str.split(pat=\";\")"
   ]
  },
  {
   "cell_type": "code",
   "execution_count": 164,
   "metadata": {},
   "outputs": [],
   "source": [
    "df_exploded = df.explode(\"authors_split\")"
   ]
  },
  {
   "cell_type": "markdown",
   "metadata": {},
   "source": [
    "### Explority Analysis Metadata"
   ]
  },
  {
   "cell_type": "code",
   "execution_count": 165,
   "metadata": {},
   "outputs": [
    {
     "data": {
      "text/plain": [
       "<AxesSubplot:>"
      ]
     },
     "execution_count": 165,
     "metadata": {},
     "output_type": "execute_result"
    },
    {
     "data": {
      "image/png": "[encoded data removed]",
      "text/plain": [
       "<Figure size 432x288 with 1 Axes>"
      ]
     },
     "metadata": {},
     "output_type": "display_data"
    }
   ],
   "source": [
    "df['length'].plot(kind='box',vert=False)"
   ]
  },
  {
   "cell_type": "code",
   "execution_count": 166,
   "metadata": {},
   "outputs": [
    {
     "data": {
      "text/plain": [
       "Publication Year\n",
       "2020    337\n",
       "2021    390\n",
       "2022    273\n",
       "dtype: int64"
      ]
     },
     "execution_count": 166,
     "metadata": {},
     "output_type": "execute_result"
    }
   ],
   "source": [
    "df.groupby('Publication Year').size()"
   ]
  },
  {
   "cell_type": "code",
   "execution_count": 167,
   "metadata": {},
   "outputs": [
    {
     "data": {
      "text/plain": [
       "<AxesSubplot:ylabel='Frequency'>"
      ]
     },
     "execution_count": 167,
     "metadata": {},
     "output_type": "execute_result"
    },
    {
     "data": {
      "image/png": "[encoded data removed]",
      "text/plain": [
       "<Figure size 432x288 with 1 Axes>"
      ]
     },
     "metadata": {},
     "output_type": "display_data"
    }
   ],
   "source": [
    "df['length'].plot(kind='hist', bins=40)"
   ]
  },
  {
   "cell_type": "code",
   "execution_count": 168,
   "metadata": {},
   "outputs": [],
   "source": [
    "import seaborn as sns\n",
    "sns.set_theme(style=\"whitegrid\")"
   ]
  },
  {
   "cell_type": "code",
   "execution_count": 169,
   "metadata": {},
   "outputs": [
    {
     "data": {
      "image/png": "[encoded data removed]",
      "text/plain": [
       "<Figure size 432x288 with 1 Axes>"
      ]
     },
     "metadata": {},
     "output_type": "display_data"
    }
   ],
   "source": [
    "\n",
    "ax = sns.countplot(x=\"authors_split\", data=df_exploded[df_exploded['authors_split'] != \"unknown\"], order=df_exploded[df_exploded['authors_split'] != \"unknown\"]['authors_split'].value_counts().iloc[:15].index, color=\"lightblue\")\n",
    "plt.xticks(rotation=90)\n",
    "plt.show()"
   ]
  },
  {
   "cell_type": "markdown",
   "metadata": {},
   "source": [
    "### Further Data Cleansing\n",
    "- remove punctuations\n",
    "- tokenization"
   ]
  },
  {
   "cell_type": "code",
   "execution_count": 170,
   "metadata": {},
   "outputs": [
    {
     "name": "stdout",
     "output_type": "stream",
     "text": [
      "['the', 'use', 'of', 'computers', 'in', 'people', 'work', 'and', 'life', 'has', 'become', 'more', 'and', 'more', 'extensive', 'while', 'its', 'use', 'has', 'improved', 'the', 'people', 'living', 'standards', 'it', 'has', 'also', 'promoted', 'the', 'development']\n"
     ]
    }
   ],
   "source": [
    "import gensim\n",
    "from gensim.utils import simple_preprocess\n",
    "\n",
    "def sent_to_words(sentences):\n",
    "    for sentence in sentences:\n",
    "        yield(gensim.utils.simple_preprocess(str(sentence), deacc=True))  # deacc=True removes punctuations\n",
    "data = df.Abstract.values.tolist()\n",
    "data_words = list(sent_to_words(data))\n",
    "print(data_words[:1][0][:30])\n"
   ]
  },
  {
   "cell_type": "markdown",
   "metadata": {},
   "source": [
    "### Document Term Matrix (before preprocessing)"
   ]
  },
  {
   "cell_type": "code",
   "execution_count": 171,
   "metadata": {},
   "outputs": [
    {
     "name": "stdout",
     "output_type": "stream",
     "text": [
      "               Doc 1  Doc 2  Doc 3  Doc 4  Doc 5  Doc 6  Doc 7  Doc 8  Doc 9\n",
      "the               15      9     33     15     37     33     11     11     18\n",
      "of                 7      5     13      6     15     18      8      3     14\n",
      "and                6      3      7      8     12      9      2      7      5\n",
      "to                 1      5      7      4      9      9      2      4      4\n",
      "innovation         2      9      7      4      8      5      2      0      8\n",
      "technological      3      6      8      4      4      5      2      0      8\n",
      "in                 2      1      5      3      5      8      2      1      5\n",
      "is                 3      2      2      3      7      4      2      1      3\n",
      "on                 0      2      1      5      5      2      2      0      8\n",
      "that               1      2      6      2      1      2      0      1      3\n"
     ]
    }
   ],
   "source": [
    "from sklearn.feature_extraction.text import CountVectorizer\n",
    "\n",
    "\n",
    "# Count Vectorizer\n",
    "vect = CountVectorizer()  \n",
    "vects = vect.fit_transform(df.Abstract)\n",
    "\n",
    "# Select the first five rows from the data set\n",
    "td = pd.DataFrame(vects.todense()).iloc[:9]  \n",
    "td.columns = vect.get_feature_names_out()\n",
    "term_document_matrix = td.T\n",
    "term_document_matrix.columns = ['Doc '+str(i) for i in range(1, 10)]\n",
    "term_document_matrix['total_count'] = term_document_matrix.sum(axis=1)\n",
    "\n",
    "# Top 25 words \n",
    "term_document_matrix = term_document_matrix.sort_values(by ='total_count',ascending=False)[:25] \n",
    "\n",
    "# Print the first 10 rows \n",
    "print(term_document_matrix.drop(columns=['total_count']).head(10))"
   ]
  },
  {
   "cell_type": "code",
   "execution_count": 172,
   "metadata": {},
   "outputs": [
    {
     "data": {
      "text/plain": [
       "<AxesSubplot:>"
      ]
     },
     "execution_count": 172,
     "metadata": {},
     "output_type": "execute_result"
    },
    {
     "data": {
      "image/png": "[encoded data removed]",
      "text/plain": [
       "<Figure size 432x288 with 1 Axes>"
      ]
     },
     "metadata": {},
     "output_type": "display_data"
    }
   ],
   "source": [
    "term_document_matrix['total_count'].plot.bar()"
   ]
  },
  {
   "cell_type": "markdown",
   "metadata": {},
   "source": [
    "### Phrase Modeling: Bigram and Trigram Models"
   ]
  },
  {
   "cell_type": "code",
   "execution_count": 173,
   "metadata": {},
   "outputs": [],
   "source": [
    "import gensim\n",
    "# Build the bigram and trigram models\n",
    "bigram = gensim.models.Phrases(data_words, min_count=5, threshold=100) # higher threshold fewer phrases.\n",
    "trigram = gensim.models.Phrases(bigram[data_words], threshold=100)\n",
    "# Faster way to get a sentence clubbed as a trigram/bigram\n",
    "bigram_mod = gensim.models.phrases.Phraser(bigram)\n",
    "trigram_mod = gensim.models.phrases.Phraser(trigram)"
   ]
  },
  {
   "cell_type": "markdown",
   "metadata": {},
   "source": [
    "### Remove Stop Words, Make Bigrams and Lemmatize"
   ]
  },
  {
   "cell_type": "code",
   "execution_count": 174,
   "metadata": {},
   "outputs": [
    {
     "name": "stderr",
     "output_type": "stream",
     "text": [
      "[nltk_data] Downloading package stopwords to\n",
      "[nltk_data]     /Users/alexanderkneis/nltk_data...\n",
      "[nltk_data]   Package stopwords is already up-to-date!\n"
     ]
    }
   ],
   "source": [
    "import nltk\n",
    "nltk.download('stopwords')\n",
    "from nltk.corpus import stopwords\n",
    "\n",
    "\n",
    "stop_words = stopwords.words('english')\n",
    "stop_words.extend([])\n",
    "# Define functions for stopwords, bigrams, trigrams and lemmatization\n",
    "def remove_stopwords(texts):\n",
    "    return [[word for word in simple_preprocess(str(doc)) if word not in stop_words] for doc in texts]\n",
    "def make_bigrams(texts):\n",
    "    return [bigram_mod[doc] for doc in texts]\n",
    "def make_trigrams(texts):\n",
    "    return [trigram_mod[bigram_mod[doc]] for doc in texts]\n",
    "def lemmatization(texts, allowed_postags=['NOUN', 'ADJ', 'VERB', 'ADV']):\n",
    "    \"\"\"https://spacy.io/api/annotation\"\"\"\n",
    "    texts_out = []\n",
    "    for sent in texts:\n",
    "        doc = nlp(\" \".join(sent)) \n",
    "        texts_out.append([token.lemma_ for token in doc if token.pos_ in allowed_postags])\n",
    "    return texts_out"
   ]
  },
  {
   "cell_type": "code",
   "execution_count": 212,
   "metadata": {},
   "outputs": [],
   "source": [
    "import spacy\n",
    "# Remove Stop Words\n",
    "data_words_nostops = remove_stopwords(data_words)\n",
    "# Form Bigrams\n",
    "data_words_bigrams = make_bigrams(data_words_nostops)\n",
    "# Initialize spacy 'en' model, keeping only tagger component (for efficiency)\n",
    "nlp = spacy.load(\"en_core_web_lg\")\n",
    "# Do lemmatization keeping only noun, adj, vb, adv\n",
    "data_lemmatized = lemmatization(data_words_bigrams, allowed_postags=['NOUN', 'ADJ', 'VERB', 'ADV'])"
   ]
  },
  {
   "cell_type": "code",
   "execution_count": 215,
   "metadata": {},
   "outputs": [
    {
     "name": "stdout",
     "output_type": "stream",
     "text": [
      "['use', 'computer', 'people', 'work', 'life', 'become', 'extensive', 'use', 'improve', 'people', 'live', 'standard', 'also', 'promote', 'development', 'various', 'industry', 'technological', 'progress', 'lay', 'foundation', 'development', 'internet', 'technology', 'maturity', 'network', 'technology', 'regional', 'economy', 'also', 'develop', 'well', 'maintain', 'relatively', 'high', 'economic', 'growth', 'rate', 'reform', 'open', 'internal', 'technological', 'innovation', 'basic', 'guarantee', 'healthy', 'development', 'regional', 'economy', 'show', 'traditional', 'economic', 'growth', 'method', 'long', 'meet', 'economic', 'need', 'modern', 'society', 'sustainable', 'economic', 'advancement', 'technology', 'core', 'main', 'way', 'continue', 'economic', 'development', 'positive', 'promotion', 'effect', 'technological', 'innovation', 'significant', 'regional', 'development', 'profound', 'practical_significance']\n"
     ]
    }
   ],
   "source": [
    "print(data_lemmatized[0])"
   ]
  },
  {
   "cell_type": "code",
   "execution_count": 189,
   "metadata": {},
   "outputs": [],
   "source": [
    "processed_texts = [' '.join(tokens) for tokens in data_lemmatized]"
   ]
  },
  {
   "cell_type": "code",
   "execution_count": 192,
   "metadata": {},
   "outputs": [
    {
     "data": {
      "text/plain": [
       "'use computer people work life become extensive use improve people live standard also promote development various industry technological progress lay foundation development internet technology maturity network technology regional economy also develop well maintain relatively high economic growth rate reform open internal technological innovation basic guarantee healthy development regional economy show traditional economic growth method long meet economic need modern society sustainable economic advancement technology core main way continue economic development positive promotion effect technological innovation significant regional development profound practical_significance'"
      ]
     },
     "execution_count": 192,
     "metadata": {},
     "output_type": "execute_result"
    }
   ],
   "source": [
    "processed_texts[0]"
   ]
  },
  {
   "cell_type": "code",
   "execution_count": 219,
   "metadata": {},
   "outputs": [],
   "source": [
    "doc_vectors = [nlp(doc).vector for doc in processed_texts]"
   ]
  },
  {
   "cell_type": "code",
   "execution_count": 193,
   "metadata": {},
   "outputs": [
    {
     "data": {
      "image/png": "[encoded data removed]",
      "text/plain": [
       "<PIL.Image.Image image mode=RGB size=600x300>"
      ]
     },
     "execution_count": 193,
     "metadata": {},
     "output_type": "execute_result"
    }
   ],
   "source": [
    "# Import the wordcloud library\n",
    "from wordcloud import WordCloud\n",
    "# Join the different processed titles together.\n",
    "long_string = ','.join(processed_texts)\n",
    "# Create a WordCloud object\n",
    "wordcloud = WordCloud(background_color=\"white\", max_words=5000, contour_width=3, contour_color='steelblue',scale=1.5)\n",
    "# Generate a word cloud\n",
    "wordcloud.generate(long_string)\n",
    "# Visualize the word cloud\n",
    "wordcloud.to_image()"
   ]
  },
  {
   "cell_type": "markdown",
   "metadata": {},
   "source": [
    "### Document Term Matrix (after preprocessing)"
   ]
  },
  {
   "cell_type": "code",
   "execution_count": 185,
   "metadata": {},
   "outputs": [
    {
     "name": "stdout",
     "output_type": "stream",
     "text": [
      "               Doc 1  Doc 2  Doc 3  Doc 4  Doc 5  Doc 6  Doc 7  Doc 8  Doc 9\n",
      "innovation         2      9      7      4      8      5      2      0      8\n",
      "technological      3      6      8      4      4      5      2      0      8\n",
      "study              0      1      4      0      1      5      0      2      0\n",
      "effect             1      0      1      1      1      3      0      0      5\n",
      "gtfee              0      0      0     12      0      0      0      0      0\n",
      "supervision        0      0      0      0     10      0      0      0      0\n",
      "enterprises        0      0      0      0      0      0      0      0     10\n",
      "economic           5      0      2      0      0      0      1      0      1\n",
      "financial          0      0      4      4      0      0      0      0      1\n",
      "analysis           0      0      0      0      0      9      0      0      0\n"
     ]
    }
   ],
   "source": [
    "# Count Vectorizer\n",
    "vect = CountVectorizer(stop_words=stop_words)  \n",
    "vects = vect.fit_transform(df['Abstract'])\n",
    "\n",
    "# Select the first five rows from the data set\n",
    "td = pd.DataFrame(vects.todense()).iloc[:9]  \n",
    "td.columns = vect.get_feature_names_out()\n",
    "term_document_matrix = td.T\n",
    "term_document_matrix.columns = ['Doc '+str(i) for i in range(1, 10)]\n",
    "term_document_matrix['total_count'] = term_document_matrix.sum(axis=1)\n",
    "\n",
    "# Top 25 words \n",
    "term_document_matrix = term_document_matrix.sort_values(by ='total_count',ascending=False)[:25] \n",
    "\n",
    "# Print the first 10 rows \n",
    "print(term_document_matrix.drop(columns=['total_count']).head(10))"
   ]
  },
  {
   "cell_type": "code",
   "execution_count": 186,
   "metadata": {},
   "outputs": [
    {
     "data": {
      "text/html": [
       "<div>\n",
       "<style scoped>\n",
       "    .dataframe tbody tr th:only-of-type {\n",
       "        vertical-align: middle;\n",
       "    }\n",
       "\n",
       "    .dataframe tbody tr th {\n",
       "        vertical-align: top;\n",
       "    }\n",
       "\n",
       "    .dataframe thead th {\n",
       "        text-align: right;\n",
       "    }\n",
       "</style>\n",
       "<table border=\"1\" class=\"dataframe\">\n",
       "  <thead>\n",
       "    <tr style=\"text-align: right;\">\n",
       "      <th></th>\n",
       "      <th>Doc 1</th>\n",
       "      <th>Doc 2</th>\n",
       "      <th>Doc 3</th>\n",
       "      <th>Doc 4</th>\n",
       "      <th>Doc 5</th>\n",
       "      <th>Doc 6</th>\n",
       "      <th>Doc 7</th>\n",
       "      <th>Doc 8</th>\n",
       "      <th>Doc 9</th>\n",
       "      <th>total_count</th>\n",
       "    </tr>\n",
       "  </thead>\n",
       "  <tbody>\n",
       "    <tr>\n",
       "      <th>innovation</th>\n",
       "      <td>2</td>\n",
       "      <td>9</td>\n",
       "      <td>7</td>\n",
       "      <td>4</td>\n",
       "      <td>8</td>\n",
       "      <td>5</td>\n",
       "      <td>2</td>\n",
       "      <td>0</td>\n",
       "      <td>8</td>\n",
       "      <td>45</td>\n",
       "    </tr>\n",
       "    <tr>\n",
       "      <th>technological</th>\n",
       "      <td>3</td>\n",
       "      <td>6</td>\n",
       "      <td>8</td>\n",
       "      <td>4</td>\n",
       "      <td>4</td>\n",
       "      <td>5</td>\n",
       "      <td>2</td>\n",
       "      <td>0</td>\n",
       "      <td>8</td>\n",
       "      <td>40</td>\n",
       "    </tr>\n",
       "    <tr>\n",
       "      <th>study</th>\n",
       "      <td>0</td>\n",
       "      <td>1</td>\n",
       "      <td>4</td>\n",
       "      <td>0</td>\n",
       "      <td>1</td>\n",
       "      <td>5</td>\n",
       "      <td>0</td>\n",
       "      <td>2</td>\n",
       "      <td>0</td>\n",
       "      <td>13</td>\n",
       "    </tr>\n",
       "    <tr>\n",
       "      <th>effect</th>\n",
       "      <td>1</td>\n",
       "      <td>0</td>\n",
       "      <td>1</td>\n",
       "      <td>1</td>\n",
       "      <td>1</td>\n",
       "      <td>3</td>\n",
       "      <td>0</td>\n",
       "      <td>0</td>\n",
       "      <td>5</td>\n",
       "      <td>12</td>\n",
       "    </tr>\n",
       "    <tr>\n",
       "      <th>gtfee</th>\n",
       "      <td>0</td>\n",
       "      <td>0</td>\n",
       "      <td>0</td>\n",
       "      <td>12</td>\n",
       "      <td>0</td>\n",
       "      <td>0</td>\n",
       "      <td>0</td>\n",
       "      <td>0</td>\n",
       "      <td>0</td>\n",
       "      <td>12</td>\n",
       "    </tr>\n",
       "    <tr>\n",
       "      <th>supervision</th>\n",
       "      <td>0</td>\n",
       "      <td>0</td>\n",
       "      <td>0</td>\n",
       "      <td>0</td>\n",
       "      <td>10</td>\n",
       "      <td>0</td>\n",
       "      <td>0</td>\n",
       "      <td>0</td>\n",
       "      <td>0</td>\n",
       "      <td>10</td>\n",
       "    </tr>\n",
       "    <tr>\n",
       "      <th>enterprises</th>\n",
       "      <td>0</td>\n",
       "      <td>0</td>\n",
       "      <td>0</td>\n",
       "      <td>0</td>\n",
       "      <td>0</td>\n",
       "      <td>0</td>\n",
       "      <td>0</td>\n",
       "      <td>0</td>\n",
       "      <td>10</td>\n",
       "      <td>10</td>\n",
       "    </tr>\n",
       "    <tr>\n",
       "      <th>economic</th>\n",
       "      <td>5</td>\n",
       "      <td>0</td>\n",
       "      <td>2</td>\n",
       "      <td>0</td>\n",
       "      <td>0</td>\n",
       "      <td>0</td>\n",
       "      <td>1</td>\n",
       "      <td>0</td>\n",
       "      <td>1</td>\n",
       "      <td>9</td>\n",
       "    </tr>\n",
       "    <tr>\n",
       "      <th>financial</th>\n",
       "      <td>0</td>\n",
       "      <td>0</td>\n",
       "      <td>4</td>\n",
       "      <td>4</td>\n",
       "      <td>0</td>\n",
       "      <td>0</td>\n",
       "      <td>0</td>\n",
       "      <td>0</td>\n",
       "      <td>1</td>\n",
       "      <td>9</td>\n",
       "    </tr>\n",
       "    <tr>\n",
       "      <th>analysis</th>\n",
       "      <td>0</td>\n",
       "      <td>0</td>\n",
       "      <td>0</td>\n",
       "      <td>0</td>\n",
       "      <td>0</td>\n",
       "      <td>9</td>\n",
       "      <td>0</td>\n",
       "      <td>0</td>\n",
       "      <td>0</td>\n",
       "      <td>9</td>\n",
       "    </tr>\n",
       "  </tbody>\n",
       "</table>\n",
       "</div>"
      ],
      "text/plain": [
       "               Doc 1  Doc 2  Doc 3  Doc 4  Doc 5  Doc 6  Doc 7  Doc 8  Doc 9  \\\n",
       "innovation         2      9      7      4      8      5      2      0      8   \n",
       "technological      3      6      8      4      4      5      2      0      8   \n",
       "study              0      1      4      0      1      5      0      2      0   \n",
       "effect             1      0      1      1      1      3      0      0      5   \n",
       "gtfee              0      0      0     12      0      0      0      0      0   \n",
       "supervision        0      0      0      0     10      0      0      0      0   \n",
       "enterprises        0      0      0      0      0      0      0      0     10   \n",
       "economic           5      0      2      0      0      0      1      0      1   \n",
       "financial          0      0      4      4      0      0      0      0      1   \n",
       "analysis           0      0      0      0      0      9      0      0      0   \n",
       "\n",
       "               total_count  \n",
       "innovation              45  \n",
       "technological           40  \n",
       "study                   13  \n",
       "effect                  12  \n",
       "gtfee                   12  \n",
       "supervision             10  \n",
       "enterprises             10  \n",
       "economic                 9  \n",
       "financial                9  \n",
       "analysis                 9  "
      ]
     },
     "execution_count": 186,
     "metadata": {},
     "output_type": "execute_result"
    }
   ],
   "source": [
    "term_document_matrix.head(10)"
   ]
  },
  {
   "cell_type": "code",
   "execution_count": 187,
   "metadata": {},
   "outputs": [
    {
     "data": {
      "text/plain": [
       "<AxesSubplot:>"
      ]
     },
     "execution_count": 187,
     "metadata": {},
     "output_type": "execute_result"
    },
    {
     "data": {
      "image/png": "[encoded data removed]",
      "text/plain": [
       "<Figure size 432x288 with 1 Axes>"
      ]
     },
     "metadata": {},
     "output_type": "display_data"
    }
   ],
   "source": [
    "term_document_matrix['total_count'].plot.bar()"
   ]
  },
  {
   "cell_type": "markdown",
   "metadata": {},
   "source": [
    "### Detect Nouns"
   ]
  },
  {
   "cell_type": "code",
   "execution_count": 176,
   "metadata": {},
   "outputs": [],
   "source": [
    "\n",
    "def getNouns(text):\n",
    "    return [token.lower_ for token in nlp(text) if token.pos_ == \"NOUN\"]\n",
    "\n",
    "def getCompounds(text):\n",
    "    return [nlp(text)[tok.i : tok.head.i+1] for tok in [token for token in nlp(text) if token.dep_ == \"compound\"]]"
   ]
  },
  {
   "cell_type": "code",
   "execution_count": 177,
   "metadata": {},
   "outputs": [],
   "source": [
    "compounds = df.Abstract.apply(getCompounds)"
   ]
  },
  {
   "cell_type": "code",
   "execution_count": 179,
   "metadata": {},
   "outputs": [],
   "source": [
    "df['nouns'] = df.Abstract.apply(getNouns)"
   ]
  },
  {
   "cell_type": "markdown",
   "metadata": {},
   "source": [
    "### Matcher"
   ]
  },
  {
   "cell_type": "code",
   "execution_count": 305,
   "metadata": {},
   "outputs": [],
   "source": [
    "from spacy.matcher import Matcher\n",
    "\n",
    "matcher = Matcher(nlp.vocab)\n",
    "pattern = [{'POS':{\"IN\": [\"NOUN\", \"PROPN\"]}},\n",
    "{\"LEMMA\": {\"NOT_IN\": [\"Innovation\", \"Technological\"]}}]\n",
    "\n",
    "matcher.add(\"noun_matcher\", [pattern])\n",
    "\n",
    "def getNouns(text):\n",
    "    doc = nlp(text)\n",
    "    matches = matcher(doc)\n",
    "    noun_list = []\n",
    "    for match_id, start, end in matches:\n",
    "        string_id = nlp.vocab.strings[match_id]  # Get string representation\n",
    "        span = doc[start:end]  # The matched span\n",
    "        noun_list.append(span.lemma_)\n",
    "    return noun_list\n",
    "        "
   ]
  },
  {
   "cell_type": "code",
   "execution_count": 306,
   "metadata": {},
   "outputs": [],
   "source": [
    "df['nouns'] = df.Title.apply(getNouns)"
   ]
  },
  {
   "cell_type": "code",
   "execution_count": 307,
   "metadata": {},
   "outputs": [],
   "source": [
    "df_nouns_by_year = df.groupby('Publication Year').agg({'nouns': 'sum'}).reset_index()"
   ]
  },
  {
   "cell_type": "code",
   "execution_count": 308,
   "metadata": {},
   "outputs": [
    {
     "data": {
      "text/plain": [
       "0    [sustainability of, construction firm, firm to...\n",
       "1    [ATCI (, Impact of, Innovation on, Regional Ec...\n",
       "2    [effect of, innovation on, development:, effic...\n",
       "Name: nouns, dtype: object"
      ]
     },
     "execution_count": 308,
     "metadata": {},
     "output_type": "execute_result"
    }
   ],
   "source": [
    "df_nouns_by_year.nouns"
   ]
  },
  {
   "cell_type": "code",
   "execution_count": 309,
   "metadata": {},
   "outputs": [
    {
     "name": "stdout",
     "output_type": "stream",
     "text": [
      "year:  2020  ->  [('effect of', 16), ('research on', 15), ('innovation in', 14), ('evidence from', 14), ('Impact of', 13)]\n",
      "year:  2021  ->  [('research on', 31), ('evidence from', 28), ('Innovation and', 26), ('effect of', 22), ('innovation and', 20)]\n",
      "year:  2022  ->  [('evidence from', 23), ('role of', 15), ('Impact of', 13), ('impact of', 12), ('Innovation and', 10)]\n"
     ]
    }
   ],
   "source": [
    "from collections import Counter\n",
    "\n",
    "for index, year in enumerate(df_nouns_by_year['Publication Year']):\n",
    "    counter = Counter(df_nouns_by_year.nouns[index])\n",
    "    print(\"year: \",year, ' -> ', counter.most_common(5))"
   ]
  },
  {
   "cell_type": "markdown",
   "metadata": {},
   "source": [
    "### Ähnlichkeiten mit Sentence Transformers"
   ]
  },
  {
   "cell_type": "code",
   "execution_count": 310,
   "metadata": {},
   "outputs": [],
   "source": [
    "from sentence_transformers import SentenceTransformer,util\n",
    "model = SentenceTransformer('all-MiniLM-L6-v2')"
   ]
  },
  {
   "cell_type": "code",
   "execution_count": 311,
   "metadata": {},
   "outputs": [],
   "source": [
    "df_no_dublicates = df.Abstract.drop_duplicates().reset_index(drop=True)"
   ]
  },
  {
   "cell_type": "code",
   "execution_count": 312,
   "metadata": {},
   "outputs": [],
   "source": [
    "#Compute embeddings\n",
    "embeddings = model.encode(df_no_dublicates, convert_to_tensor=True)\n",
    "\n",
    "#Compute cosine-similarities for each sentence with each other sentence\n",
    "cosine_scores = util.cos_sim(embeddings, embeddings)\n",
    "\n",
    "#Find the pairs with the highest cosine similarity scores\n",
    "pairs = []\n",
    "for i in range(len(cosine_scores)-1):\n",
    "    for j in range(i+1, len(cosine_scores)):\n",
    "        pairs.append({'index': [i, j], 'score': cosine_scores[i][j]})\n",
    "\n",
    "#Sort scores in decreasing order\n",
    "pairs = sorted(pairs, key=lambda x: x['score'], reverse=True)\n",
    "\n",
    "# for pair in pairs[0:10]:\n",
    "#     i, j = pair['index']\n",
    "#     print(\"{} \\t\\t {} \\t\\t Score: {:.4f}\".format(df_no_dublicates[i], df_no_dublicates[j], pair['score']))"
   ]
  },
  {
   "cell_type": "code",
   "execution_count": 313,
   "metadata": {},
   "outputs": [
    {
     "data": {
      "text/plain": [
       "{'index': [562, 938], 'score': tensor(0.9998)}"
      ]
     },
     "execution_count": 313,
     "metadata": {},
     "output_type": "execute_result"
    }
   ],
   "source": [
    "pairs[0]"
   ]
  },
  {
   "cell_type": "code",
   "execution_count": 314,
   "metadata": {},
   "outputs": [],
   "source": [
    "pairs_scores = pd.DataFrame(data=[pair['score'].item() for pair in pairs], columns=['tensor_score'])"
   ]
  },
  {
   "cell_type": "code",
   "execution_count": 315,
   "metadata": {},
   "outputs": [
    {
     "data": {
      "text/html": [
       "<div>\n",
       "<style scoped>\n",
       "    .dataframe tbody tr th:only-of-type {\n",
       "        vertical-align: middle;\n",
       "    }\n",
       "\n",
       "    .dataframe tbody tr th {\n",
       "        vertical-align: top;\n",
       "    }\n",
       "\n",
       "    .dataframe thead th {\n",
       "        text-align: right;\n",
       "    }\n",
       "</style>\n",
       "<table border=\"1\" class=\"dataframe\">\n",
       "  <thead>\n",
       "    <tr style=\"text-align: right;\">\n",
       "      <th></th>\n",
       "      <th>tensor_score</th>\n",
       "    </tr>\n",
       "  </thead>\n",
       "  <tbody>\n",
       "    <tr>\n",
       "      <th>0</th>\n",
       "      <td>0.999813</td>\n",
       "    </tr>\n",
       "    <tr>\n",
       "      <th>1</th>\n",
       "      <td>0.999752</td>\n",
       "    </tr>\n",
       "    <tr>\n",
       "      <th>2</th>\n",
       "      <td>0.993804</td>\n",
       "    </tr>\n",
       "    <tr>\n",
       "      <th>3</th>\n",
       "      <td>0.993408</td>\n",
       "    </tr>\n",
       "    <tr>\n",
       "      <th>4</th>\n",
       "      <td>0.992262</td>\n",
       "    </tr>\n",
       "    <tr>\n",
       "      <th>...</th>\n",
       "      <td>...</td>\n",
       "    </tr>\n",
       "    <tr>\n",
       "      <th>486586</th>\n",
       "      <td>-0.221735</td>\n",
       "    </tr>\n",
       "    <tr>\n",
       "      <th>486587</th>\n",
       "      <td>-0.223391</td>\n",
       "    </tr>\n",
       "    <tr>\n",
       "      <th>486588</th>\n",
       "      <td>-0.224580</td>\n",
       "    </tr>\n",
       "    <tr>\n",
       "      <th>486589</th>\n",
       "      <td>-0.227816</td>\n",
       "    </tr>\n",
       "    <tr>\n",
       "      <th>486590</th>\n",
       "      <td>-0.230458</td>\n",
       "    </tr>\n",
       "  </tbody>\n",
       "</table>\n",
       "<p>486591 rows × 1 columns</p>\n",
       "</div>"
      ],
      "text/plain": [
       "        tensor_score\n",
       "0           0.999813\n",
       "1           0.999752\n",
       "2           0.993804\n",
       "3           0.993408\n",
       "4           0.992262\n",
       "...              ...\n",
       "486586     -0.221735\n",
       "486587     -0.223391\n",
       "486588     -0.224580\n",
       "486589     -0.227816\n",
       "486590     -0.230458\n",
       "\n",
       "[486591 rows x 1 columns]"
      ]
     },
     "execution_count": 315,
     "metadata": {},
     "output_type": "execute_result"
    }
   ],
   "source": [
    "pairs_scores"
   ]
  },
  {
   "cell_type": "code",
   "execution_count": 316,
   "metadata": {},
   "outputs": [
    {
     "data": {
      "text/plain": [
       "<AxesSubplot:xlabel='tensor_score', ylabel='Count'>"
      ]
     },
     "execution_count": 316,
     "metadata": {},
     "output_type": "execute_result"
    },
    {
     "data": {
      "image/png": "[encoded data removed]",
      "text/plain": [
       "<Figure size 432x288 with 1 Axes>"
      ]
     },
     "metadata": {},
     "output_type": "display_data"
    }
   ],
   "source": [
    "sns.histplot(data=pairs_scores, x='tensor_score')"
   ]
  }
 ],
 "metadata": {
  "kernelspec": {
   "display_name": "Python 3.8.2 64-bit",
   "language": "python",
   "name": "python3"
  },
  "language_info": {
   "codemirror_mode": {
    "name": "ipython",
    "version": 3
   },
   "file_extension": ".py",
   "mimetype": "text/x-python",
   "name": "python",
   "nbconvert_exporter": "python",
   "pygments_lexer": "ipython3",
   "version": "3.8.2"
  },
  "orig_nbformat": 4,
  "vscode": {
   "interpreter": {
    "hash": "0adcc2737ebf6a4a119f135174df96668767fca1ef1112612db5ecadf2b6d608"
   }
  }
 },
 "nbformat": 4,
 "nbformat_minor": 2
}
